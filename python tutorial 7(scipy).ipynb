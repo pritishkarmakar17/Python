{
 "cells": [
  {
   "cell_type": "code",
   "execution_count": null,
   "id": "bffee45a",
   "metadata": {},
   "outputs": [],
   "source": [
    "#scipy----"
   ]
  },
  {
   "cell_type": "code",
   "execution_count": 1,
   "id": "8a6e1b45",
   "metadata": {},
   "outputs": [],
   "source": [
    "import numpy as np \n",
    "import matplotlib.pyplot as plt\n",
    "import scipy as sp"
   ]
  },
  {
   "cell_type": "code",
   "execution_count": 19,
   "id": "1eeb1e99",
   "metadata": {},
   "outputs": [],
   "source": [
    "#optimisation"
   ]
  },
  {
   "cell_type": "code",
   "execution_count": 2,
   "id": "66a381ca",
   "metadata": {},
   "outputs": [],
   "source": [
    "from scipy.optimize import minimize"
   ]
  },
  {
   "cell_type": "code",
   "execution_count": 21,
   "id": "c41dcb86",
   "metadata": {},
   "outputs": [],
   "source": [
    "def f(x):\n",
    "    return (x-3)**2\n",
    "res=minimize(f,2)"
   ]
  },
  {
   "cell_type": "code",
   "execution_count": 22,
   "id": "132a17d4",
   "metadata": {},
   "outputs": [
    {
     "data": {
      "text/plain": [
       "      fun: 5.551437397369767e-17\n",
       " hess_inv: array([[0.5]])\n",
       "      jac: array([-4.3254289e-13])\n",
       "  message: 'Optimization terminated successfully.'\n",
       "     nfev: 6\n",
       "      nit: 2\n",
       "     njev: 3\n",
       "   status: 0\n",
       "  success: True\n",
       "        x: array([2.99999999])"
      ]
     },
     "execution_count": 22,
     "metadata": {},
     "output_type": "execute_result"
    }
   ],
   "source": [
    "res"
   ]
  },
  {
   "cell_type": "code",
   "execution_count": 23,
   "id": "ef32a905",
   "metadata": {},
   "outputs": [
    {
     "data": {
      "text/plain": [
       "array([2.99999999])"
      ]
     },
     "execution_count": 23,
     "metadata": {},
     "output_type": "execute_result"
    }
   ],
   "source": [
    "res.x"
   ]
  },
  {
   "cell_type": "code",
   "execution_count": 24,
   "id": "2f476023",
   "metadata": {},
   "outputs": [
    {
     "data": {
      "text/plain": [
       "5.551437397369767e-17"
      ]
     },
     "execution_count": 24,
     "metadata": {},
     "output_type": "execute_result"
    }
   ],
   "source": [
    "res.fun"
   ]
  },
  {
   "cell_type": "code",
   "execution_count": 25,
   "id": "f7f62681",
   "metadata": {},
   "outputs": [
    {
     "data": {
      "text/plain": [
       "      fun: 3.566296139491455e-16\n",
       " hess_inv: array([[0.5]])\n",
       "      jac: array([-2.28681181e-08])\n",
       "  message: 'Optimization terminated successfully.'\n",
       "     nfev: 6\n",
       "      nit: 2\n",
       "     njev: 3\n",
       "   status: 0\n",
       "  success: True\n",
       "        x: array([2.99999998])"
      ]
     },
     "execution_count": 25,
     "metadata": {},
     "output_type": "execute_result"
    }
   ],
   "source": [
    "minimize(f,5)"
   ]
  },
  {
   "cell_type": "code",
   "execution_count": 26,
   "id": "bf2c5e16",
   "metadata": {},
   "outputs": [],
   "source": [
    "f=lambda x:(x[0]-1)**2+(x[1]-2.5)**2"
   ]
  },
  {
   "cell_type": "code",
   "execution_count": 27,
   "id": "b98a519d",
   "metadata": {},
   "outputs": [
    {
     "data": {
      "text/plain": [
       "1.25"
      ]
     },
     "execution_count": 27,
     "metadata": {},
     "output_type": "execute_result"
    }
   ],
   "source": [
    "f([2,3])"
   ]
  },
  {
   "cell_type": "code",
   "execution_count": 28,
   "id": "ba09e71d",
   "metadata": {},
   "outputs": [],
   "source": [
    "cons = ({'type': 'ineq', 'fun': lambda x:  x[0] - 2 * x[1] + 2},\n",
    "        {'type': 'ineq', 'fun': lambda x: -x[0] - 2 * x[1] + 6},\n",
    "        {'type': 'ineq', 'fun': lambda x: -x[0] + 2 * x[1] + 2})\n",
    "bnds = ((0, None), (0, None))"
   ]
  },
  {
   "cell_type": "code",
   "execution_count": 29,
   "id": "0ae25355",
   "metadata": {},
   "outputs": [],
   "source": [
    "res=minimize(f,(2,0),bounds=bnds,constraints=cons)"
   ]
  },
  {
   "cell_type": "code",
   "execution_count": 30,
   "id": "9eb3bff2",
   "metadata": {},
   "outputs": [
    {
     "data": {
      "text/plain": [
       "     fun: 0.8000000011920985\n",
       "     jac: array([ 0.80000002, -1.59999999])\n",
       " message: 'Optimization terminated successfully'\n",
       "    nfev: 10\n",
       "     nit: 3\n",
       "    njev: 3\n",
       "  status: 0\n",
       " success: True\n",
       "       x: array([1.4, 1.7])"
      ]
     },
     "execution_count": 30,
     "metadata": {},
     "output_type": "execute_result"
    }
   ],
   "source": [
    "res"
   ]
  },
  {
   "cell_type": "code",
   "execution_count": 31,
   "id": "d21341eb",
   "metadata": {
    "scrolled": true
   },
   "outputs": [
    {
     "ename": "SyntaxError",
     "evalue": "invalid syntax (<ipython-input-31-28204e4bd1a3>, line 1)",
     "output_type": "error",
     "traceback": [
      "\u001b[1;36m  File \u001b[1;32m\"<ipython-input-31-28204e4bd1a3>\"\u001b[1;36m, line \u001b[1;32m1\u001b[0m\n\u001b[1;33m    minimize? #for diff type of minimization\u001b[0m\n\u001b[1;37m            ^\u001b[0m\n\u001b[1;31mSyntaxError\u001b[0m\u001b[1;31m:\u001b[0m invalid syntax\n"
     ]
    }
   ],
   "source": [
    "minimize? #for diff type of minimization"
   ]
  },
  {
   "cell_type": "code",
   "execution_count": 32,
   "id": "74c2cc53",
   "metadata": {},
   "outputs": [
    {
     "data": {
      "text/plain": [
       "<matplotlib.collections.PathCollection at 0x1ffa568d2e0>"
      ]
     },
     "execution_count": 32,
     "metadata": {},
     "output_type": "execute_result"
    },
    {
     "data": {
      "image/png": "[encoded data removed]",
      "text/plain": [
       "<Figure size 432x288 with 1 Axes>"
      ]
     },
     "metadata": {
      "needs_background": "light"
     },
     "output_type": "display_data"
    }
   ],
   "source": [
    "#interpolation\n",
    "x=np.linspace(0,10,10)\n",
    "y=x**2*np.sin(x)\n",
    "plt.scatter(x,y)"
   ]
  },
  {
   "cell_type": "code",
   "execution_count": 33,
   "id": "95f7c128",
   "metadata": {},
   "outputs": [],
   "source": [
    "from scipy.interpolate import interp1d\n",
    "f=interp1d(x,y,kind='linear')\n",
    "xv=np.linspace(0,10,100)\n",
    "yv=f(xv)"
   ]
  },
  {
   "cell_type": "code",
   "execution_count": 34,
   "id": "3bb3a35e",
   "metadata": {},
   "outputs": [
    {
     "data": {
      "text/plain": [
       "[<matplotlib.lines.Line2D at 0x1ffa5eacee0>]"
      ]
     },
     "execution_count": 34,
     "metadata": {},
     "output_type": "execute_result"
    },
    {
     "data": {
      "image/png": "[encoded data removed]",
      "text/plain": [
       "<Figure size 432x288 with 1 Axes>"
      ]
     },
     "metadata": {
      "needs_background": "light"
     },
     "output_type": "display_data"
    }
   ],
   "source": [
    "plt.plot(xv,yv)\n"
   ]
  },
  {
   "cell_type": "code",
   "execution_count": 35,
   "id": "2371cef1",
   "metadata": {},
   "outputs": [
    {
     "data": {
      "text/plain": [
       "[<matplotlib.lines.Line2D at 0x1ffa5f1b550>]"
      ]
     },
     "execution_count": 35,
     "metadata": {},
     "output_type": "execute_result"
    },
    {
     "data": {
      "image/png": "[encoded data removed]",
      "text/plain": [
       "<Figure size 432x288 with 1 Axes>"
      ]
     },
     "metadata": {
      "needs_background": "light"
     },
     "output_type": "display_data"
    }
   ],
   "source": [
    "from scipy.interpolate import interp1d\n",
    "f=interp1d(x,y,kind='cubic')\n",
    "xv=np.linspace(0,10,100)\n",
    "yv=f(xv)\n",
    "plt.plot(xv,yv)"
   ]
  },
  {
   "cell_type": "code",
   "execution_count": 36,
   "id": "47f20b5d",
   "metadata": {},
   "outputs": [
    {
     "data": {
      "text/plain": [
       "<matplotlib.collections.PathCollection at 0x1ffa5f6ff10>"
      ]
     },
     "execution_count": 36,
     "metadata": {},
     "output_type": "execute_result"
    },
    {
     "data": {
      "image/png": "[encoded data removed]",
      "text/plain": [
       "<Figure size 432x288 with 1 Axes>"
      ]
     },
     "metadata": {
      "needs_background": "light"
     },
     "output_type": "display_data"
    }
   ],
   "source": [
    "x_data=np.linspace(0,10,10)\n",
    "y_data=3*x_data**2+2\n",
    "plt.scatter(x_data,y_data)"
   ]
  },
  {
   "cell_type": "code",
   "execution_count": 3,
   "id": "afe14e20",
   "metadata": {},
   "outputs": [],
   "source": [
    "from scipy.optimize import curve_fit"
   ]
  },
  {
   "cell_type": "code",
   "execution_count": 38,
   "id": "e97427cd",
   "metadata": {},
   "outputs": [],
   "source": [
    "def func(x,a,b):\n",
    "    return a*x**2+b\n",
    "#popt--optimal of p, pcov--covarience of parameter , p0--initial guess\n",
    "popt ,pcov= curve_fit(func, x_data,y_data,p0=(1,1))"
   ]
  },
  {
   "cell_type": "code",
   "execution_count": 39,
   "id": "78d3603a",
   "metadata": {},
   "outputs": [
    {
     "data": {
      "text/plain": [
       "array([3., 2.])"
      ]
     },
     "execution_count": 39,
     "metadata": {},
     "output_type": "execute_result"
    }
   ],
   "source": [
    "popt #a=3,b=2"
   ]
  },
  {
   "cell_type": "code",
   "execution_count": 40,
   "id": "514986ce",
   "metadata": {},
   "outputs": [
    {
     "data": {
      "text/plain": [
       "array([[ 4.13297331e-34, -1.45419433e-32],\n",
       "       [-1.45419433e-32,  9.65872308e-31]])"
      ]
     },
     "execution_count": 40,
     "metadata": {},
     "output_type": "execute_result"
    }
   ],
   "source": [
    "pcov #error and relate with parameter"
   ]
  },
  {
   "cell_type": "code",
   "execution_count": 42,
   "id": "78df3cf8",
   "metadata": {},
   "outputs": [],
   "source": [
    "t_data = np.array([ 0.   ,  0.34482759,  0.68965517,  1.03448276,  1.37931034,\n",
    "        1.72413793,  2.06896552,  2.4137931 ,  2.75862069,  3.10344828,\n",
    "        3.44827586,  3.79310345,  4.13793103,  4.48275862,  4.82758621,\n",
    "        5.17241379,  5.51724138,  5.86206897,  6.20689655,  6.55172414,\n",
    "        6.89655172,  7.24137931,  7.5862069 ,  7.93103448,  8.27586207,\n",
    "        8.62068966,  8.96551724,  9.31034483,  9.65517241, 10.        ])\n",
    "y_data = np.array([ 4.3303953 ,  1.61137995, -2.15418696, -3.90137249, -1.67259042,\n",
    "        2.16884383,  3.86635998,  1.85194506, -1.8489224 , -3.96560495,\n",
    "       -2.13385255,  1.59425817,  4.06145238,  1.89300594, -1.76870297,\n",
    "       -4.26791226, -2.46874133,  1.37019912,  4.24945607,  2.27038039,\n",
    "       -1.50299303, -3.46774049, -2.50845488,  1.20022052,  3.81633703,\n",
    "        2.91511556, -1.24569189, -3.72716214, -2.54549857,  0.87262548])"
   ]
  },
  {
   "cell_type": "code",
   "execution_count": 43,
   "id": "edfe0fbf",
   "metadata": {},
   "outputs": [
    {
     "data": {
      "text/plain": [
       "[<matplotlib.lines.Line2D at 0x1ffa63e5a60>]"
      ]
     },
     "execution_count": 43,
     "metadata": {},
     "output_type": "execute_result"
    },
    {
     "data": {
      "image/png": "[encoded data removed]",
      "text/plain": [
       "<Figure size 432x288 with 1 Axes>"
      ]
     },
     "metadata": {
      "needs_background": "light"
     },
     "output_type": "display_data"
    }
   ],
   "source": [
    "plt.plot(t_data,y_data,'o--')"
   ]
  },
  {
   "cell_type": "code",
   "execution_count": 44,
   "id": "fd901300",
   "metadata": {},
   "outputs": [],
   "source": [
    "def func(t,a,w,phi):\n",
    "    return a*np.cos(w*t+phi)"
   ]
  },
  {
   "cell_type": "code",
   "execution_count": 79,
   "id": "2f24f772",
   "metadata": {},
   "outputs": [],
   "source": [
    "popt,pcov=curve_fit(func,t_data,y_data,p0=(4,np.pi,0))"
   ]
  },
  {
   "cell_type": "code",
   "execution_count": 80,
   "id": "f11d274e",
   "metadata": {},
   "outputs": [
    {
     "data": {
      "text/plain": [
       "array([3.94836219, 2.99899521, 0.10411352])"
      ]
     },
     "execution_count": 80,
     "metadata": {},
     "output_type": "execute_result"
    }
   ],
   "source": [
    "popt"
   ]
  },
  {
   "cell_type": "code",
   "execution_count": 81,
   "id": "30d1b390",
   "metadata": {},
   "outputs": [],
   "source": [
    "a,w,phi=popt"
   ]
  },
  {
   "cell_type": "code",
   "execution_count": 82,
   "id": "4dd0a734",
   "metadata": {},
   "outputs": [
    {
     "data": {
      "text/plain": [
       "3.9483621862620235"
      ]
     },
     "execution_count": 82,
     "metadata": {},
     "output_type": "execute_result"
    }
   ],
   "source": [
    "a"
   ]
  },
  {
   "cell_type": "code",
   "execution_count": 83,
   "id": "5d1a9093",
   "metadata": {},
   "outputs": [
    {
     "data": {
      "text/plain": [
       "array([[ 2.61882717e-03, -4.94131505e-06,  3.47404558e-05],\n",
       "       [-4.94131505e-06,  1.85637335e-05, -9.60755036e-05],\n",
       "       [ 3.47404558e-05, -9.60755036e-05,  6.63423791e-04]])"
      ]
     },
     "execution_count": 83,
     "metadata": {},
     "output_type": "execute_result"
    }
   ],
   "source": [
    "pcov"
   ]
  },
  {
   "cell_type": "code",
   "execution_count": 84,
   "id": "580197e1",
   "metadata": {
    "scrolled": true
   },
   "outputs": [
    {
     "data": {
      "text/plain": [
       "<matplotlib.collections.PathCollection at 0x1ffa6597610>"
      ]
     },
     "execution_count": 84,
     "metadata": {},
     "output_type": "execute_result"
    },
    {
     "data": {
      "image/png": "[encoded data removed]",
      "text/plain": [
       "<Figure size 432x288 with 1 Axes>"
      ]
     },
     "metadata": {
      "needs_background": "light"
     },
     "output_type": "display_data"
    }
   ],
   "source": [
    "t=np.linspace(0,10,100)\n",
    "y=func(t,a,w,phi)\n",
    "plt.plot(t,y)\n",
    "plt.scatter(t_data,y_data)"
   ]
  },
  {
   "cell_type": "code",
   "execution_count": 51,
   "id": "b5401f46",
   "metadata": {},
   "outputs": [
    {
     "data": {
      "text/plain": [
       "array([[ 2.61882717e-03, -4.94131505e-06,  3.47404558e-05],\n",
       "       [-4.94131505e-06,  1.85637335e-05, -9.60755036e-05],\n",
       "       [ 3.47404558e-05, -9.60755036e-05,  6.63423791e-04]])"
      ]
     },
     "execution_count": 51,
     "metadata": {},
     "output_type": "execute_result"
    }
   ],
   "source": [
    "#eror\n",
    "pcov"
   ]
  },
  {
   "cell_type": "code",
   "execution_count": 52,
   "id": "ac42aeac",
   "metadata": {},
   "outputs": [
    {
     "data": {
      "text/plain": [
       "array([2.61882717e-03, 1.85637335e-05, 6.63423791e-04])"
      ]
     },
     "execution_count": 52,
     "metadata": {},
     "output_type": "execute_result"
    }
   ],
   "source": [
    "np.diag(pcov)#variance of a , w, phi"
   ]
  },
  {
   "cell_type": "code",
   "execution_count": 53,
   "id": "51c17cab",
   "metadata": {},
   "outputs": [
    {
     "data": {
      "text/plain": [
       "array([0.05117448, 0.00430857, 0.02575701])"
      ]
     },
     "execution_count": 53,
     "metadata": {},
     "output_type": "execute_result"
    }
   ],
   "source": [
    "np.sqrt(np.diag(pcov)) # sd of my assumption"
   ]
  },
  {
   "cell_type": "code",
   "execution_count": 85,
   "id": "c22aa62e",
   "metadata": {},
   "outputs": [],
   "source": [
    "#special function --legendre polynomial"
   ]
  },
  {
   "cell_type": "code",
   "execution_count": null,
   "id": "0d254f2c",
   "metadata": {},
   "outputs": [],
   "source": [
    "#derivative"
   ]
  },
  {
   "cell_type": "code",
   "execution_count": 4,
   "id": "21c742e8",
   "metadata": {},
   "outputs": [],
   "source": [
    "from scipy.misc import derivative"
   ]
  },
  {
   "cell_type": "code",
   "execution_count": 88,
   "id": "67ffa8eb",
   "metadata": {},
   "outputs": [],
   "source": [
    "def f(x):\n",
    "     return x**2*np.sin(2*x)*np.exp(-x)\n",
    "x=np.linspace(0,1,100)"
   ]
  },
  {
   "cell_type": "code",
   "execution_count": 93,
   "id": "485c12f1",
   "metadata": {
    "scrolled": true
   },
   "outputs": [
    {
     "data": {
      "text/plain": [
       "[<matplotlib.lines.Line2D at 0x1ffa7822520>]"
      ]
     },
     "execution_count": 93,
     "metadata": {},
     "output_type": "execute_result"
    },
    {
     "data": {
      "image/png": "[encoded data removed]",
      "text/plain": [
       "<Figure size 432x288 with 1 Axes>"
      ]
     },
     "metadata": {
      "needs_background": "light"
     },
     "output_type": "display_data"
    }
   ],
   "source": [
    "derivative(f,x,dx=1e-6)\n",
    "plt.plot(x,f(x))\n",
    "plt.plot(x, derivative(f,x,dx=1e-6))\n",
    "plt.plot(x, derivative(f,x,dx=1e-6,n=2))#2nd dreivative"
   ]
  },
  {
   "cell_type": "code",
   "execution_count": 5,
   "id": "243cec4b",
   "metadata": {},
   "outputs": [],
   "source": [
    "#intigration\n",
    "from scipy.integrate import quad"
   ]
  },
  {
   "cell_type": "code",
   "execution_count": 97,
   "id": "ab3679b1",
   "metadata": {},
   "outputs": [],
   "source": [
    "integrand= lambda x: x**2*np.sin(2*x)*np.exp(-x)\n",
    "integral,intigral_error=quad(integrand,0,1)"
   ]
  },
  {
   "cell_type": "code",
   "execution_count": 98,
   "id": "930f7c0d",
   "metadata": {},
   "outputs": [
    {
     "data": {
      "text/plain": [
       "0.14558175869954834"
      ]
     },
     "execution_count": 98,
     "metadata": {},
     "output_type": "execute_result"
    }
   ],
   "source": [
    "integral"
   ]
  },
  {
   "cell_type": "code",
   "execution_count": 101,
   "id": "355cce37",
   "metadata": {},
   "outputs": [],
   "source": [
    "from scipy.integrate import dblquad\n",
    "integrand= lambda x,y: np.sin(x+y**2)\n",
    "lwr_y= lambda x: -x\n",
    "upr_y= lambda x: x**2\n",
    "integral,integral_error=dblquad(integrand,0,1,lwr_y,upr_y)"
   ]
  },
  {
   "cell_type": "code",
   "execution_count": 102,
   "id": "cd78aee0",
   "metadata": {},
   "outputs": [
    {
     "data": {
      "text/plain": [
       "0.315802507240474"
      ]
     },
     "execution_count": 102,
     "metadata": {},
     "output_type": "execute_result"
    }
   ],
   "source": [
    "integral"
   ]
  },
  {
   "cell_type": "code",
   "execution_count": 103,
   "id": "1f36157b",
   "metadata": {},
   "outputs": [
    {
     "data": {
      "text/plain": [
       "1.5634600713498928e-14"
      ]
     },
     "execution_count": 103,
     "metadata": {},
     "output_type": "execute_result"
    }
   ],
   "source": [
    "integral_error"
   ]
  },
  {
   "cell_type": "code",
   "execution_count": 104,
   "id": "5aae43ca",
   "metadata": {},
   "outputs": [],
   "source": [
    "from scipy.integrate import nquad"
   ]
  },
  {
   "cell_type": "code",
   "execution_count": 105,
   "id": "1d1b2870",
   "metadata": {},
   "outputs": [],
   "source": [
    "nquad?"
   ]
  },
  {
   "cell_type": "code",
   "execution_count": 106,
   "id": "b1de260d",
   "metadata": {},
   "outputs": [],
   "source": [
    "# diffential eqn"
   ]
  },
  {
   "cell_type": "code",
   "execution_count": 6,
   "id": "149c4689",
   "metadata": {},
   "outputs": [],
   "source": [
    "from scipy.integrate import odeint"
   ]
  },
  {
   "cell_type": "code",
   "execution_count": 108,
   "id": "e4def34d",
   "metadata": {},
   "outputs": [],
   "source": [
    "def dvdt(v,t):\n",
    "    return 3*v**2-5\n",
    "v0=0"
   ]
  },
  {
   "cell_type": "code",
   "execution_count": 109,
   "id": "7c0086e5",
   "metadata": {},
   "outputs": [],
   "source": [
    "t=np.linspace(0,1,100)\n",
    "sol=odeint(dvdt,v0,t)"
   ]
  },
  {
   "cell_type": "code",
   "execution_count": 110,
   "id": "2c8962b8",
   "metadata": {
    "scrolled": true
   },
   "outputs": [
    {
     "data": {
      "text/plain": [
       "array([[ 0.        ],\n",
       "       [-0.05047933],\n",
       "       [-0.10080451],\n",
       "       [-0.15082334],\n",
       "       [-0.20038726],\n",
       "       [-0.24935318],\n",
       "       [-0.29758502],\n",
       "       [-0.34495519],\n",
       "       [-0.39134576],\n",
       "       [-0.43664948],\n",
       "       [-0.48077056],\n",
       "       [-0.52362515],\n",
       "       [-0.56514164],\n",
       "       [-0.60526086],\n",
       "       [-0.6439356 ],\n",
       "       [-0.68113064],\n",
       "       [-0.71682205],\n",
       "       [-0.75099661],\n",
       "       [-0.78365109],\n",
       "       [-0.8147914 ],\n",
       "       [-0.84443176],\n",
       "       [-0.87259378],\n",
       "       [-0.89930556],\n",
       "       [-0.92460079],\n",
       "       [-0.94851787],\n",
       "       [-0.97109913],\n",
       "       [-0.99239002],\n",
       "       [-1.01243837],\n",
       "       [-1.03129376],\n",
       "       [-1.04900692],\n",
       "       [-1.06562918],\n",
       "       [-1.081212  ],\n",
       "       [-1.0958066 ],\n",
       "       [-1.10946355],\n",
       "       [-1.12223249],\n",
       "       [-1.13416195],\n",
       "       [-1.14529906],\n",
       "       [-1.15568941],\n",
       "       [-1.16537698],\n",
       "       [-1.17440397],\n",
       "       [-1.18281086],\n",
       "       [-1.19063623],\n",
       "       [-1.19791686],\n",
       "       [-1.20468768],\n",
       "       [-1.21098179],\n",
       "       [-1.21683053],\n",
       "       [-1.22226349],\n",
       "       [-1.22730856],\n",
       "       [-1.23199199],\n",
       "       [-1.23633849],\n",
       "       [-1.24037122],\n",
       "       [-1.24411192],\n",
       "       [-1.24758094],\n",
       "       [-1.25079735],\n",
       "       [-1.25377896],\n",
       "       [-1.25654241],\n",
       "       [-1.25910322],\n",
       "       [-1.2614759 ],\n",
       "       [-1.26367394],\n",
       "       [-1.26570992],\n",
       "       [-1.26759557],\n",
       "       [-1.26934179],\n",
       "       [-1.27095869],\n",
       "       [-1.27245574],\n",
       "       [-1.27384168],\n",
       "       [-1.27512464],\n",
       "       [-1.2763122 ],\n",
       "       [-1.27741137],\n",
       "       [-1.27842865],\n",
       "       [-1.27937009],\n",
       "       [-1.28024128],\n",
       "       [-1.28104744],\n",
       "       [-1.28179338],\n",
       "       [-1.28248356],\n",
       "       [-1.28312213],\n",
       "       [-1.28371292],\n",
       "       [-1.2842595 ],\n",
       "       [-1.28476514],\n",
       "       [-1.2852329 ],\n",
       "       [-1.28566562],\n",
       "       [-1.2860659 ],\n",
       "       [-1.28643616],\n",
       "       [-1.28677865],\n",
       "       [-1.28709545],\n",
       "       [-1.28738847],\n",
       "       [-1.28765951],\n",
       "       [-1.28791021],\n",
       "       [-1.28814208],\n",
       "       [-1.28835653],\n",
       "       [-1.28855487],\n",
       "       [-1.28873831],\n",
       "       [-1.28890797],\n",
       "       [-1.28906488],\n",
       "       [-1.28920999],\n",
       "       [-1.2893442 ],\n",
       "       [-1.28946833],\n",
       "       [-1.28958312],\n",
       "       [-1.28968929],\n",
       "       [-1.28978746],\n",
       "       [-1.28987826]])"
      ]
     },
     "execution_count": 110,
     "metadata": {},
     "output_type": "execute_result"
    }
   ],
   "source": [
    "sol"
   ]
  },
  {
   "cell_type": "code",
   "execution_count": 111,
   "id": "a76213ed",
   "metadata": {
    "scrolled": true
   },
   "outputs": [
    {
     "data": {
      "text/plain": [
       "array([[ 0.        , -0.05047933, -0.10080451, -0.15082334, -0.20038726,\n",
       "        -0.24935318, -0.29758502, -0.34495519, -0.39134576, -0.43664948,\n",
       "        -0.48077056, -0.52362515, -0.56514164, -0.60526086, -0.6439356 ,\n",
       "        -0.68113064, -0.71682205, -0.75099661, -0.78365109, -0.8147914 ,\n",
       "        -0.84443176, -0.87259378, -0.89930556, -0.92460079, -0.94851787,\n",
       "        -0.97109913, -0.99239002, -1.01243837, -1.03129376, -1.04900692,\n",
       "        -1.06562918, -1.081212  , -1.0958066 , -1.10946355, -1.12223249,\n",
       "        -1.13416195, -1.14529906, -1.15568941, -1.16537698, -1.17440397,\n",
       "        -1.18281086, -1.19063623, -1.19791686, -1.20468768, -1.21098179,\n",
       "        -1.21683053, -1.22226349, -1.22730856, -1.23199199, -1.23633849,\n",
       "        -1.24037122, -1.24411192, -1.24758094, -1.25079735, -1.25377896,\n",
       "        -1.25654241, -1.25910322, -1.2614759 , -1.26367394, -1.26570992,\n",
       "        -1.26759557, -1.26934179, -1.27095869, -1.27245574, -1.27384168,\n",
       "        -1.27512464, -1.2763122 , -1.27741137, -1.27842865, -1.27937009,\n",
       "        -1.28024128, -1.28104744, -1.28179338, -1.28248356, -1.28312213,\n",
       "        -1.28371292, -1.2842595 , -1.28476514, -1.2852329 , -1.28566562,\n",
       "        -1.2860659 , -1.28643616, -1.28677865, -1.28709545, -1.28738847,\n",
       "        -1.28765951, -1.28791021, -1.28814208, -1.28835653, -1.28855487,\n",
       "        -1.28873831, -1.28890797, -1.28906488, -1.28920999, -1.2893442 ,\n",
       "        -1.28946833, -1.28958312, -1.28968929, -1.28978746, -1.28987826]])"
      ]
     },
     "execution_count": 111,
     "metadata": {},
     "output_type": "execute_result"
    }
   ],
   "source": [
    "sol.T"
   ]
  },
  {
   "cell_type": "code",
   "execution_count": 115,
   "id": "cf8f9755",
   "metadata": {
    "scrolled": true
   },
   "outputs": [],
   "source": [
    "v_sol=sol.T[0]"
   ]
  },
  {
   "cell_type": "code",
   "execution_count": 116,
   "id": "890d5f4d",
   "metadata": {},
   "outputs": [
    {
     "data": {
      "text/plain": [
       "[<matplotlib.lines.Line2D at 0x1ffa79638e0>]"
      ]
     },
     "execution_count": 116,
     "metadata": {},
     "output_type": "execute_result"
    },
    {
     "data": {
      "image/png": "[encoded data removed]",
      "text/plain": [
       "<Figure size 432x288 with 1 Axes>"
      ]
     },
     "metadata": {
      "needs_background": "light"
     },
     "output_type": "display_data"
    }
   ],
   "source": [
    "plt.plot(t,v_sol)"
   ]
  },
  {
   "cell_type": "code",
   "execution_count": 118,
   "id": "fd5a99e0",
   "metadata": {},
   "outputs": [],
   "source": [
    "def dSdx(S,x):\n",
    "    y1,y2=S\n",
    "    return [y1+y2**2+3*x,\n",
    "           3*y1+y2**3-np.cos(x)]"
   ]
  },
  {
   "cell_type": "code",
   "execution_count": 119,
   "id": "c533b8fa",
   "metadata": {},
   "outputs": [],
   "source": [
    "y1_0=0\n",
    "y2_0=0\n",
    "S_0=(y1_0,y2_0)"
   ]
  },
  {
   "cell_type": "code",
   "execution_count": 120,
   "id": "8d3d1352",
   "metadata": {},
   "outputs": [],
   "source": [
    "x=np.linspace(0,1,100)\n",
    "sol=odeint(dSdx,S_0,x)"
   ]
  },
  {
   "cell_type": "code",
   "execution_count": 121,
   "id": "bacfca98",
   "metadata": {
    "scrolled": true
   },
   "outputs": [
    {
     "data": {
      "text/plain": [
       "array([[ 0.00000000e+00,  0.00000000e+00],\n",
       "       [ 1.53914061e-04, -1.00992734e-02],\n",
       "       [ 6.19093356e-04, -2.01882005e-02],\n",
       "       [ 1.40076628e-03, -3.02563164e-02],\n",
       "       [ 2.50418953e-03, -4.02930766e-02],\n",
       "       [ 3.93464633e-03, -5.02878361e-02],\n",
       "       [ 5.69744401e-03, -6.02298432e-02],\n",
       "       [ 7.79789517e-03, -7.01082428e-02],\n",
       "       [ 1.02413187e-02, -7.99120712e-02],\n",
       "       [ 1.30330245e-02, -8.96302498e-02],\n",
       "       [ 1.61783065e-02, -9.92515816e-02],\n",
       "       [ 1.96824391e-02, -1.08764749e-01],\n",
       "       [ 2.35506573e-02, -1.18158303e-01],\n",
       "       [ 2.77881638e-02, -1.27420669e-01],\n",
       "       [ 3.24001125e-02, -1.36540133e-01],\n",
       "       [ 3.73915921e-02, -1.45504834e-01],\n",
       "       [ 4.27676179e-02, -1.54302762e-01],\n",
       "       [ 4.85331404e-02, -1.62921756e-01],\n",
       "       [ 5.46930282e-02, -1.71349495e-01],\n",
       "       [ 6.12520553e-02, -1.79573493e-01],\n",
       "       [ 6.82148995e-02, -1.87581095e-01],\n",
       "       [ 7.55861308e-02, -1.95359467e-01],\n",
       "       [ 8.33702071e-02, -2.02895598e-01],\n",
       "       [ 9.15714669e-02, -2.10176290e-01],\n",
       "       [ 1.00194121e-01, -2.17188157e-01],\n",
       "       [ 1.09242251e-01, -2.23917621e-01],\n",
       "       [ 1.18719801e-01, -2.30350906e-01],\n",
       "       [ 1.28630571e-01, -2.36474041e-01],\n",
       "       [ 1.38978219e-01, -2.42272857e-01],\n",
       "       [ 1.49766252e-01, -2.47732981e-01],\n",
       "       [ 1.60998020e-01, -2.52839835e-01],\n",
       "       [ 1.72676732e-01, -2.57578659e-01],\n",
       "       [ 1.84805434e-01, -2.61934483e-01],\n",
       "       [ 1.97387014e-01, -2.65892141e-01],\n",
       "       [ 2.10424222e-01, -2.69436297e-01],\n",
       "       [ 2.23919648e-01, -2.72551418e-01],\n",
       "       [ 2.37875730e-01, -2.75221791e-01],\n",
       "       [ 2.52294784e-01, -2.77431559e-01],\n",
       "       [ 2.67178978e-01, -2.79164693e-01],\n",
       "       [ 2.82530347e-01, -2.80405012e-01],\n",
       "       [ 2.98350829e-01, -2.81136222e-01],\n",
       "       [ 3.14642248e-01, -2.81341905e-01],\n",
       "       [ 3.31406342e-01, -2.81005542e-01],\n",
       "       [ 3.48644774e-01, -2.80110529e-01],\n",
       "       [ 3.66359140e-01, -2.78640187e-01],\n",
       "       [ 3.84551013e-01, -2.76577800e-01],\n",
       "       [ 4.03221942e-01, -2.73906616e-01],\n",
       "       [ 4.22373488e-01, -2.70609873e-01],\n",
       "       [ 4.42007253e-01, -2.66670823e-01],\n",
       "       [ 4.62124894e-01, -2.62072745e-01],\n",
       "       [ 4.82728181e-01, -2.56798966e-01],\n",
       "       [ 5.03819005e-01, -2.50832883e-01],\n",
       "       [ 5.25399429e-01, -2.44157971e-01],\n",
       "       [ 5.47471735e-01, -2.36757804e-01],\n",
       "       [ 5.70038442e-01, -2.28616068e-01],\n",
       "       [ 5.93102385e-01, -2.19716553e-01],\n",
       "       [ 6.16666735e-01, -2.10043183e-01],\n",
       "       [ 6.40735063e-01, -1.99579993e-01],\n",
       "       [ 6.65311401e-01, -1.88311119e-01],\n",
       "       [ 6.90400276e-01, -1.76220821e-01],\n",
       "       [ 7.16006799e-01, -1.63293405e-01],\n",
       "       [ 7.42136714e-01, -1.49513226e-01],\n",
       "       [ 7.68796463e-01, -1.34864636e-01],\n",
       "       [ 7.95993253e-01, -1.19331954e-01],\n",
       "       [ 8.23735143e-01, -1.02899359e-01],\n",
       "       [ 8.52031104e-01, -8.55508556e-02],\n",
       "       [ 8.80891112e-01, -6.72701355e-02],\n",
       "       [ 9.10326223e-01, -4.80405161e-02],\n",
       "       [ 9.40348671e-01, -2.78447548e-02],\n",
       "       [ 9.70971957e-01, -6.66492984e-03],\n",
       "       [ 1.00221095e+00,  1.55177321e-02],\n",
       "       [ 1.03408198e+00,  3.87230761e-02],\n",
       "       [ 1.06660299e+00,  6.29722272e-02],\n",
       "       [ 1.09979361e+00,  8.82878711e-02],\n",
       "       [ 1.13367532e+00,  1.14694542e-01],\n",
       "       [ 1.16827157e+00,  1.42218950e-01],\n",
       "       [ 1.20360797e+00,  1.70890394e-01],\n",
       "       [ 1.23971243e+00,  2.00741167e-01],\n",
       "       [ 1.27661538e+00,  2.31807067e-01],\n",
       "       [ 1.31434994e+00,  2.64127972e-01],\n",
       "       [ 1.35295223e+00,  2.97748502e-01],\n",
       "       [ 1.39246158e+00,  3.32718734e-01],\n",
       "       [ 1.43292087e+00,  3.69095107e-01],\n",
       "       [ 1.47437687e+00,  4.06941417e-01],\n",
       "       [ 1.51688069e+00,  4.46329999e-01],\n",
       "       [ 1.56048820e+00,  4.87343105e-01],\n",
       "       [ 1.60526063e+00,  5.30074560e-01],\n",
       "       [ 1.65126523e+00,  5.74631731e-01],\n",
       "       [ 1.69857604e+00,  6.21137874e-01],\n",
       "       [ 1.74727479e+00,  6.69734974e-01],\n",
       "       [ 1.79745207e+00,  7.20587249e-01],\n",
       "       [ 1.84920864e+00,  7.73885430e-01],\n",
       "       [ 1.90265708e+00,  8.29852098e-01],\n",
       "       [ 1.95792385e+00,  8.88748463e-01],\n",
       "       [ 2.01515175e+00,  9.50882831e-01],\n",
       "       [ 2.07450310e+00,  1.01662163e+00],\n",
       "       [ 2.13616376e+00,  1.08640368e+00],\n",
       "       [ 2.20034823e+00,  1.16075924e+00],\n",
       "       [ 2.26730636e+00,  1.24033522e+00],\n",
       "       [ 2.33733216e+00,  1.32592999e+00]])"
      ]
     },
     "execution_count": 121,
     "metadata": {},
     "output_type": "execute_result"
    }
   ],
   "source": [
    "sol"
   ]
  },
  {
   "cell_type": "code",
   "execution_count": 123,
   "id": "c8dbcf20",
   "metadata": {
    "scrolled": true
   },
   "outputs": [
    {
     "data": {
      "text/plain": [
       "array([[ 0.00000000e+00,  1.53914061e-04,  6.19093356e-04,\n",
       "         1.40076628e-03,  2.50418953e-03,  3.93464633e-03,\n",
       "         5.69744401e-03,  7.79789517e-03,  1.02413187e-02,\n",
       "         1.30330245e-02,  1.61783065e-02,  1.96824391e-02,\n",
       "         2.35506573e-02,  2.77881638e-02,  3.24001125e-02,\n",
       "         3.73915921e-02,  4.27676179e-02,  4.85331404e-02,\n",
       "         5.46930282e-02,  6.12520553e-02,  6.82148995e-02,\n",
       "         7.55861308e-02,  8.33702071e-02,  9.15714669e-02,\n",
       "         1.00194121e-01,  1.09242251e-01,  1.18719801e-01,\n",
       "         1.28630571e-01,  1.38978219e-01,  1.49766252e-01,\n",
       "         1.60998020e-01,  1.72676732e-01,  1.84805434e-01,\n",
       "         1.97387014e-01,  2.10424222e-01,  2.23919648e-01,\n",
       "         2.37875730e-01,  2.52294784e-01,  2.67178978e-01,\n",
       "         2.82530347e-01,  2.98350829e-01,  3.14642248e-01,\n",
       "         3.31406342e-01,  3.48644774e-01,  3.66359140e-01,\n",
       "         3.84551013e-01,  4.03221942e-01,  4.22373488e-01,\n",
       "         4.42007253e-01,  4.62124894e-01,  4.82728181e-01,\n",
       "         5.03819005e-01,  5.25399429e-01,  5.47471735e-01,\n",
       "         5.70038442e-01,  5.93102385e-01,  6.16666735e-01,\n",
       "         6.40735063e-01,  6.65311401e-01,  6.90400276e-01,\n",
       "         7.16006799e-01,  7.42136714e-01,  7.68796463e-01,\n",
       "         7.95993253e-01,  8.23735143e-01,  8.52031104e-01,\n",
       "         8.80891112e-01,  9.10326223e-01,  9.40348671e-01,\n",
       "         9.70971957e-01,  1.00221095e+00,  1.03408198e+00,\n",
       "         1.06660299e+00,  1.09979361e+00,  1.13367532e+00,\n",
       "         1.16827157e+00,  1.20360797e+00,  1.23971243e+00,\n",
       "         1.27661538e+00,  1.31434994e+00,  1.35295223e+00,\n",
       "         1.39246158e+00,  1.43292087e+00,  1.47437687e+00,\n",
       "         1.51688069e+00,  1.56048820e+00,  1.60526063e+00,\n",
       "         1.65126523e+00,  1.69857604e+00,  1.74727479e+00,\n",
       "         1.79745207e+00,  1.84920864e+00,  1.90265708e+00,\n",
       "         1.95792385e+00,  2.01515175e+00,  2.07450310e+00,\n",
       "         2.13616376e+00,  2.20034823e+00,  2.26730636e+00,\n",
       "         2.33733216e+00],\n",
       "       [ 0.00000000e+00, -1.00992734e-02, -2.01882005e-02,\n",
       "        -3.02563164e-02, -4.02930766e-02, -5.02878361e-02,\n",
       "        -6.02298432e-02, -7.01082428e-02, -7.99120712e-02,\n",
       "        -8.96302498e-02, -9.92515816e-02, -1.08764749e-01,\n",
       "        -1.18158303e-01, -1.27420669e-01, -1.36540133e-01,\n",
       "        -1.45504834e-01, -1.54302762e-01, -1.62921756e-01,\n",
       "        -1.71349495e-01, -1.79573493e-01, -1.87581095e-01,\n",
       "        -1.95359467e-01, -2.02895598e-01, -2.10176290e-01,\n",
       "        -2.17188157e-01, -2.23917621e-01, -2.30350906e-01,\n",
       "        -2.36474041e-01, -2.42272857e-01, -2.47732981e-01,\n",
       "        -2.52839835e-01, -2.57578659e-01, -2.61934483e-01,\n",
       "        -2.65892141e-01, -2.69436297e-01, -2.72551418e-01,\n",
       "        -2.75221791e-01, -2.77431559e-01, -2.79164693e-01,\n",
       "        -2.80405012e-01, -2.81136222e-01, -2.81341905e-01,\n",
       "        -2.81005542e-01, -2.80110529e-01, -2.78640187e-01,\n",
       "        -2.76577800e-01, -2.73906616e-01, -2.70609873e-01,\n",
       "        -2.66670823e-01, -2.62072745e-01, -2.56798966e-01,\n",
       "        -2.50832883e-01, -2.44157971e-01, -2.36757804e-01,\n",
       "        -2.28616068e-01, -2.19716553e-01, -2.10043183e-01,\n",
       "        -1.99579993e-01, -1.88311119e-01, -1.76220821e-01,\n",
       "        -1.63293405e-01, -1.49513226e-01, -1.34864636e-01,\n",
       "        -1.19331954e-01, -1.02899359e-01, -8.55508556e-02,\n",
       "        -6.72701355e-02, -4.80405161e-02, -2.78447548e-02,\n",
       "        -6.66492984e-03,  1.55177321e-02,  3.87230761e-02,\n",
       "         6.29722272e-02,  8.82878711e-02,  1.14694542e-01,\n",
       "         1.42218950e-01,  1.70890394e-01,  2.00741167e-01,\n",
       "         2.31807067e-01,  2.64127972e-01,  2.97748502e-01,\n",
       "         3.32718734e-01,  3.69095107e-01,  4.06941417e-01,\n",
       "         4.46329999e-01,  4.87343105e-01,  5.30074560e-01,\n",
       "         5.74631731e-01,  6.21137874e-01,  6.69734974e-01,\n",
       "         7.20587249e-01,  7.73885430e-01,  8.29852098e-01,\n",
       "         8.88748463e-01,  9.50882831e-01,  1.01662163e+00,\n",
       "         1.08640368e+00,  1.16075924e+00,  1.24033522e+00,\n",
       "         1.32592999e+00]])"
      ]
     },
     "execution_count": 123,
     "metadata": {},
     "output_type": "execute_result"
    }
   ],
   "source": [
    "sol.T"
   ]
  },
  {
   "cell_type": "code",
   "execution_count": 124,
   "id": "1385a399",
   "metadata": {},
   "outputs": [
    {
     "data": {
      "text/plain": [
       "[<matplotlib.lines.Line2D at 0x1ffa7a1c490>]"
      ]
     },
     "execution_count": 124,
     "metadata": {},
     "output_type": "execute_result"
    },
    {
     "data": {
      "image/png": "[encoded data removed]",
      "text/plain": [
       "<Figure size 432x288 with 1 Axes>"
      ]
     },
     "metadata": {
      "needs_background": "light"
     },
     "output_type": "display_data"
    }
   ],
   "source": [
    "y1=sol.T[0]\n",
    "y2=sol.T[1]\n",
    "plt.plot(x,y1)\n",
    "plt.plot(x,y2)"
   ]
  },
  {
   "cell_type": "code",
   "execution_count": null,
   "id": "e3b21591",
   "metadata": {},
   "outputs": [],
   "source": [
    "# 2nd order = 2x 1st order"
   ]
  },
  {
   "cell_type": "code",
   "execution_count": 16,
   "id": "8ee4a033",
   "metadata": {},
   "outputs": [],
   "source": [
    "def dsdt(s,t):\n",
    "    theta,omega=s\n",
    "    return [omega,np.sin(theta)]"
   ]
  },
  {
   "cell_type": "code",
   "execution_count": 18,
   "id": "f708cad8",
   "metadata": {},
   "outputs": [],
   "source": [
    "t=np.linspace(0,20,100)\n",
    "s_0=[np.pi/4,0]\n",
    "sol=odeint(dsdt,s_0,t)"
   ]
  },
  {
   "cell_type": "code",
   "execution_count": null,
   "id": "653b30ab",
   "metadata": {},
   "outputs": [],
   "source": [
    "sol=odeint(dsdt,s_0,t)\n",
    "plt.plot\n"
   ]
  },
  {
   "cell_type": "code",
   "execution_count": null,
   "id": "591f4019",
   "metadata": {},
   "outputs": [],
   "source": []
  },
  {
   "cell_type": "code",
   "execution_count": null,
   "id": "bab1ff55",
   "metadata": {},
   "outputs": [],
   "source": []
  },
  {
   "cell_type": "code",
   "execution_count": null,
   "id": "eb572b15",
   "metadata": {},
   "outputs": [],
   "source": []
  }
 ],
 "metadata": {
  "kernelspec": {
   "display_name": "Python 3",
   "language": "python",
   "name": "python3"
  },
  "language_info": {
   "codemirror_mode": {
    "name": "ipython",
    "version": 3
   },
   "file_extension": ".py",
   "mimetype": "text/x-python",
   "name": "python",
   "nbconvert_exporter": "python",
   "pygments_lexer": "ipython3",
   "version": "3.8.8"
  }
 },
 "nbformat": 4,
 "nbformat_minor": 5
}
