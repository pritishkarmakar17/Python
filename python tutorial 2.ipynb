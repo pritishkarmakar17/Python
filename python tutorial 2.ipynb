{
 "cells": [
  {
   "cell_type": "code",
   "execution_count": 1,
   "id": "7282df78",
   "metadata": {
    "scrolled": true
   },
   "outputs": [
    {
     "name": "stdout",
     "output_type": "stream",
     "text": [
      "2  *  1  =  2\n",
      "2  *  2  =  4\n",
      "2  *  3  =  6\n",
      "2  *  4  =  8\n",
      "2  *  5  =  10\n",
      "2  *  6  =  12\n",
      "2  *  7  =  14\n",
      "2  *  8  =  16\n",
      "2  *  9  =  18\n",
      "2  *  10  =  20\n"
     ]
    }
   ],
   "source": [
    "i=1\n",
    "n=2\n",
    "while i<=10:\n",
    "    print(n,' * ',i,' = ',i*n)\n",
    "    i+=1"
   ]
  },
  {
   "cell_type": "code",
   "execution_count": null,
   "id": "1c90db8f",
   "metadata": {},
   "outputs": [],
   "source": [
    "#while with list"
   ]
  },
  {
   "cell_type": "code",
   "execution_count": 3,
   "id": "2bb18b13",
   "metadata": {},
   "outputs": [],
   "source": [
    "l1=[1,2,3,4,5,6]"
   ]
  },
  {
   "cell_type": "code",
   "execution_count": 4,
   "id": "8c2e3fb9",
   "metadata": {},
   "outputs": [
    {
     "data": {
      "text/plain": [
       "[101, 102, 103, 104, 105, 106]"
      ]
     },
     "execution_count": 4,
     "metadata": {},
     "output_type": "execute_result"
    }
   ],
   "source": [
    "i=0\n",
    "while i<len(l1):\n",
    "    l1[i]+=100\n",
    "    i+=1\n",
    "l1"
   ]
  },
  {
   "cell_type": "code",
   "execution_count": null,
   "id": "c3c60883",
   "metadata": {},
   "outputs": [],
   "source": [
    "#for loop"
   ]
  },
  {
   "cell_type": "code",
   "execution_count": 5,
   "id": "ecc3081a",
   "metadata": {},
   "outputs": [],
   "source": [
    "l1=['mango','apple','grapes','orange']"
   ]
  },
  {
   "cell_type": "code",
   "execution_count": 6,
   "id": "0418af91",
   "metadata": {},
   "outputs": [
    {
     "name": "stdout",
     "output_type": "stream",
     "text": [
      "mango\n",
      "apple\n",
      "grapes\n",
      "orange\n"
     ]
    }
   ],
   "source": [
    "for i in l1:\n",
    "    print(i)"
   ]
  },
  {
   "cell_type": "code",
   "execution_count": 7,
   "id": "f38309b2",
   "metadata": {},
   "outputs": [],
   "source": [
    "l1=['orange','black','white']\n",
    "l2=['cup','book','laptop']"
   ]
  },
  {
   "cell_type": "code",
   "execution_count": 8,
   "id": "884fa1a3",
   "metadata": {},
   "outputs": [
    {
     "name": "stdout",
     "output_type": "stream",
     "text": [
      "orange cup\n",
      "orange book\n",
      "orange laptop\n",
      "black cup\n",
      "black book\n",
      "black laptop\n",
      "white cup\n",
      "white book\n",
      "white laptop\n"
     ]
    }
   ],
   "source": [
    "for i in l1:\n",
    "    for j in l2:\n",
    "        print(i,j)"
   ]
  },
  {
   "cell_type": "code",
   "execution_count": 9,
   "id": "267f47be",
   "metadata": {},
   "outputs": [
    {
     "name": "stdout",
     "output_type": "stream",
     "text": [
      "orange cup\n",
      "orange book\n",
      "orange laptop\n",
      "black cup\n",
      "black book\n",
      "black laptop\n",
      "white cup\n",
      "white book\n",
      "white laptop\n"
     ]
    }
   ],
   "source": [
    "for i in l1:\n",
    "    for j in l2:\n",
    "        print(i+' '+j)"
   ]
  },
  {
   "cell_type": "code",
   "execution_count": null,
   "id": "a418c51a",
   "metadata": {},
   "outputs": [],
   "source": [
    "#python function"
   ]
  },
  {
   "cell_type": "code",
   "execution_count": 10,
   "id": "af8aed1c",
   "metadata": {},
   "outputs": [],
   "source": [
    "def hello():\n",
    "    print('hello world')"
   ]
  },
  {
   "cell_type": "code",
   "execution_count": 11,
   "id": "7a7bbc07",
   "metadata": {},
   "outputs": [
    {
     "name": "stdout",
     "output_type": "stream",
     "text": [
      "hello world\n"
     ]
    }
   ],
   "source": [
    "hello()"
   ]
  },
  {
   "cell_type": "code",
   "execution_count": 12,
   "id": "68364d99",
   "metadata": {},
   "outputs": [],
   "source": [
    "def add_10(x):\n",
    "    return x+10"
   ]
  },
  {
   "cell_type": "code",
   "execution_count": 13,
   "id": "fc2518ca",
   "metadata": {},
   "outputs": [
    {
     "data": {
      "text/plain": [
       "35"
      ]
     },
     "execution_count": 13,
     "metadata": {},
     "output_type": "execute_result"
    }
   ],
   "source": [
    "add_10(25)"
   ]
  },
  {
   "cell_type": "code",
   "execution_count": 20,
   "id": "0f6e6901",
   "metadata": {},
   "outputs": [],
   "source": [
    "def odd_even(x):\n",
    "    if x%2==0:\n",
    "        print(x,' is even')\n",
    "    else:\n",
    "        print(x,' is odd')"
   ]
  },
  {
   "cell_type": "code",
   "execution_count": 21,
   "id": "a262c016",
   "metadata": {},
   "outputs": [
    {
     "name": "stdout",
     "output_type": "stream",
     "text": [
      "25  is odd\n"
     ]
    }
   ],
   "source": [
    "odd_even(25)"
   ]
  },
  {
   "cell_type": "code",
   "execution_count": null,
   "id": "0a23fa0a",
   "metadata": {},
   "outputs": [],
   "source": [
    "#lambda function"
   ]
  },
  {
   "cell_type": "code",
   "execution_count": 23,
   "id": "211bd2ee",
   "metadata": {},
   "outputs": [],
   "source": [
    "g=lambda x:x*x*x"
   ]
  },
  {
   "cell_type": "code",
   "execution_count": 24,
   "id": "8b6e955a",
   "metadata": {},
   "outputs": [
    {
     "data": {
      "text/plain": [
       "64"
      ]
     },
     "execution_count": 24,
     "metadata": {},
     "output_type": "execute_result"
    }
   ],
   "source": [
    "g(4)"
   ]
  },
  {
   "cell_type": "code",
   "execution_count": null,
   "id": "8a585094",
   "metadata": {},
   "outputs": [],
   "source": [
    "#lambda with filtr"
   ]
  },
  {
   "cell_type": "code",
   "execution_count": 28,
   "id": "5d11d03f",
   "metadata": {},
   "outputs": [],
   "source": [
    "l1=[95,5,65,32,8,12,14,74]"
   ]
  },
  {
   "cell_type": "code",
   "execution_count": 30,
   "id": "ba0d610e",
   "metadata": {},
   "outputs": [
    {
     "data": {
      "text/plain": [
       "[95, 5, 65]"
      ]
     },
     "execution_count": 30,
     "metadata": {},
     "output_type": "execute_result"
    }
   ],
   "source": [
    "final_list=list(filter(lambda x:(x%2!=0),l1))\n",
    "final_list"
   ]
  },
  {
   "cell_type": "code",
   "execution_count": null,
   "id": "5d67c65f",
   "metadata": {},
   "outputs": [],
   "source": [
    "#lambda with map"
   ]
  },
  {
   "cell_type": "code",
   "execution_count": 39,
   "id": "a789f34d",
   "metadata": {},
   "outputs": [
    {
     "data": {
      "text/plain": [
       "{2, 4, 6, 8, 10, 12, 14, 16, 18}"
      ]
     },
     "execution_count": 39,
     "metadata": {},
     "output_type": "execute_result"
    }
   ],
   "source": [
    "l1=[1,2,3,4,5,6,7,8,9]\n",
    "a=map(lambda x: x*2,l1)\n",
    "set(a)"
   ]
  },
  {
   "cell_type": "code",
   "execution_count": 40,
   "id": "cdab23a9",
   "metadata": {},
   "outputs": [
    {
     "data": {
      "text/plain": [
       "[2, 4, 6, 8, 10, 12, 14, 16, 18]"
      ]
     },
     "execution_count": 40,
     "metadata": {},
     "output_type": "execute_result"
    }
   ],
   "source": [
    "l1=[1,2,3,4,5,6,7,8,9]\n",
    "a=map(lambda x: x*2,l1)\n",
    "list(a)"
   ]
  },
  {
   "cell_type": "code",
   "execution_count": 41,
   "id": "055fe2b4",
   "metadata": {},
   "outputs": [],
   "source": [
    "from functools import reduce"
   ]
  },
  {
   "cell_type": "code",
   "execution_count": 44,
   "id": "ac468435",
   "metadata": {},
   "outputs": [
    {
     "data": {
      "text/plain": [
       "45"
      ]
     },
     "execution_count": 44,
     "metadata": {},
     "output_type": "execute_result"
    }
   ],
   "source": [
    "sum=reduce(lambda x,y:x+y,l1)\n",
    "sum"
   ]
  },
  {
   "cell_type": "code",
   "execution_count": null,
   "id": "ddbdc524",
   "metadata": {},
   "outputs": [],
   "source": [
    "#object oriented programming"
   ]
  },
  {
   "cell_type": "code",
   "execution_count": 9,
   "id": "fbe1b68a",
   "metadata": {},
   "outputs": [],
   "source": [
    "class Phone:#start with capital letter\n",
    "    def make_call(self):\n",
    "        print('making phone call')\n",
    "    def play_game(self):\n",
    "        print('playing games')"
   ]
  },
  {
   "cell_type": "code",
   "execution_count": 10,
   "id": "ea7c6a90",
   "metadata": {},
   "outputs": [],
   "source": [
    "p1=Phone()"
   ]
  },
  {
   "cell_type": "code",
   "execution_count": 11,
   "id": "3a660d73",
   "metadata": {},
   "outputs": [
    {
     "name": "stdout",
     "output_type": "stream",
     "text": [
      "making phone call\n"
     ]
    }
   ],
   "source": [
    "p1.make_call()"
   ]
  },
  {
   "cell_type": "code",
   "execution_count": 12,
   "id": "a96142b9",
   "metadata": {},
   "outputs": [
    {
     "name": "stdout",
     "output_type": "stream",
     "text": [
      "playing games\n"
     ]
    }
   ],
   "source": [
    "p1.play_game()"
   ]
  },
  {
   "cell_type": "code",
   "execution_count": null,
   "id": "8c7c4fd1",
   "metadata": {},
   "outputs": [],
   "source": [
    "#adding parameter"
   ]
  },
  {
   "cell_type": "code",
   "execution_count": 17,
   "id": "b3e1e2a1",
   "metadata": {},
   "outputs": [],
   "source": [
    "class Phone:\n",
    "    def set_color(self,color):\n",
    "        self.color=color\n",
    "    def  set_cost(self,cost):\n",
    "        self.cost=cost\n",
    "    def show_color(self):\n",
    "        return self.color\n",
    "    def show_cost(self):\n",
    "        return self.cost\n",
    "    def make_call(self):\n",
    "        print('making phone call')\n",
    "    def play_game(self):\n",
    "        print('playing games')\n"
   ]
  },
  {
   "cell_type": "code",
   "execution_count": 18,
   "id": "11ce3ca5",
   "metadata": {},
   "outputs": [],
   "source": [
    "p2=Phone()"
   ]
  },
  {
   "cell_type": "code",
   "execution_count": 19,
   "id": "e22c8c34",
   "metadata": {},
   "outputs": [],
   "source": [
    "p2.set_color('blue')\n",
    "p2.set_cost(10000)"
   ]
  },
  {
   "cell_type": "code",
   "execution_count": 21,
   "id": "79024731",
   "metadata": {},
   "outputs": [
    {
     "data": {
      "text/plain": [
       "'blue'"
      ]
     },
     "execution_count": 21,
     "metadata": {},
     "output_type": "execute_result"
    }
   ],
   "source": [
    "p2.show_color()"
   ]
  },
  {
   "cell_type": "code",
   "execution_count": 22,
   "id": "fd4dc48c",
   "metadata": {},
   "outputs": [
    {
     "name": "stdout",
     "output_type": "stream",
     "text": [
      "making phone call\n"
     ]
    }
   ],
   "source": [
    "p2.make_call()"
   ]
  },
  {
   "cell_type": "code",
   "execution_count": null,
   "id": "e82b0623",
   "metadata": {},
   "outputs": [],
   "source": [
    "# creting class with constructor---init"
   ]
  },
  {
   "cell_type": "code",
   "execution_count": 32,
   "id": "b4d0d9d7",
   "metadata": {},
   "outputs": [],
   "source": [
    "class Employee:\n",
    "    def __init__(self,name,age,salary,gender):\n",
    "        self.name=name\n",
    "        self.age=age\n",
    "        self.salary=salary\n",
    "        self.gender=gender\n",
    "    \n",
    "    def employee_details(self):\n",
    "        print('name of the employee  : ',self.name)\n",
    "        print('age of the employee   : ',self.age)\n",
    "        print('salary of the employee: ',self.salary)\n",
    "        print('gender of the employee: ',self.gender)"
   ]
  },
  {
   "cell_type": "code",
   "execution_count": 33,
   "id": "5a7a4185",
   "metadata": {},
   "outputs": [],
   "source": [
    "e1=Employee('Pritish',19,100000,'male')"
   ]
  },
  {
   "cell_type": "code",
   "execution_count": 34,
   "id": "13b2fa38",
   "metadata": {},
   "outputs": [
    {
     "name": "stdout",
     "output_type": "stream",
     "text": [
      "name of the employee  :  Pritish\n",
      "age of the employee   :  19\n",
      "salary of the employee:  100000\n",
      "gender of the employee:  male\n"
     ]
    }
   ],
   "source": [
    "e1.employee_details()"
   ]
  },
  {
   "cell_type": "code",
   "execution_count": 35,
   "id": "54c7559d",
   "metadata": {},
   "outputs": [],
   "source": [
    "#inheretance in python"
   ]
  },
  {
   "cell_type": "code",
   "execution_count": 50,
   "id": "b5d2c1b2",
   "metadata": {},
   "outputs": [],
   "source": [
    "class Vehicle:\n",
    "    def __init__(self,milage,cost):\n",
    "        self.milage=milage\n",
    "        self.cost=cost\n",
    "        \n",
    "    def show_details(self):\n",
    "        print('i am a vehicles')\n",
    "        print('milage of vehicles  : ',self.milage)\n",
    "        print('cost of the vehicles: ',self.cost)"
   ]
  },
  {
   "cell_type": "code",
   "execution_count": 51,
   "id": "63ad0239",
   "metadata": {},
   "outputs": [
    {
     "name": "stdout",
     "output_type": "stream",
     "text": [
      "i am a vehicles\n",
      "milage of vehicles  :  100\n",
      "cost of the vehicles:  100000\n"
     ]
    }
   ],
   "source": [
    "v1=Vehicle(100,100000)\n",
    "v1.show_details()"
   ]
  },
  {
   "cell_type": "code",
   "execution_count": 52,
   "id": "01ee9689",
   "metadata": {},
   "outputs": [],
   "source": [
    "class Car(Vehicle):\n",
    "    def show_car(self):\n",
    "        print('i am a car')\n",
    "        #creeating the child class from Vehicles"
   ]
  },
  {
   "cell_type": "code",
   "execution_count": 53,
   "id": "a6f26d5c",
   "metadata": {},
   "outputs": [
    {
     "name": "stdout",
     "output_type": "stream",
     "text": [
      "i am a car\n"
     ]
    }
   ],
   "source": [
    "c1=Car(70,200000)\n",
    "c1.show_car()"
   ]
  },
  {
   "cell_type": "code",
   "execution_count": 54,
   "id": "2cbd0134",
   "metadata": {},
   "outputs": [
    {
     "name": "stdout",
     "output_type": "stream",
     "text": [
      "i am a vehicles\n",
      "milage of vehicles  :  70\n",
      "cost of the vehicles:  200000\n"
     ]
    }
   ],
   "source": [
    "c1.show_details() "
   ]
  },
  {
   "cell_type": "code",
   "execution_count": 56,
   "id": "9af39c65",
   "metadata": {},
   "outputs": [],
   "source": [
    "#over-riding init methode\n",
    "class Car(Vehicle):\n",
    "    def __init__(self,milage,cost,tyres,hp):\n",
    "        super().__init__(milage,cost)#init from super class i.e. Vehicle\n",
    "        self.tyres=tyres\n",
    "        self.hp=hp\n",
    "    def show_car(self):\n",
    "        print('i am a car')\n",
    "        print('no of tyres: ',self.tyres)\n",
    "        print('value of hp: ',self.hp)"
   ]
  },
  {
   "cell_type": "code",
   "execution_count": 57,
   "id": "03653d8e",
   "metadata": {},
   "outputs": [],
   "source": [
    "c1=Car(70,100000,4,450)"
   ]
  },
  {
   "cell_type": "code",
   "execution_count": 59,
   "id": "ea6d871d",
   "metadata": {},
   "outputs": [
    {
     "name": "stdout",
     "output_type": "stream",
     "text": [
      "i am a car\n",
      "no of tyres:  4\n",
      "value of hp:  450\n"
     ]
    }
   ],
   "source": [
    "c1.show_car()"
   ]
  },
  {
   "cell_type": "code",
   "execution_count": 60,
   "id": "e39b628b",
   "metadata": {},
   "outputs": [
    {
     "name": "stdout",
     "output_type": "stream",
     "text": [
      "i am a vehicles\n",
      "milage of vehicles  :  70\n",
      "cost of the vehicles:  100000\n"
     ]
    }
   ],
   "source": [
    "c1.show_details()"
   ]
  },
  {
   "cell_type": "code",
   "execution_count": 61,
   "id": "dc260525",
   "metadata": {},
   "outputs": [],
   "source": [
    "#inheretance---multiple inheretance"
   ]
  },
  {
   "cell_type": "code",
   "execution_count": 83,
   "id": "8c40070c",
   "metadata": {},
   "outputs": [],
   "source": [
    "class Parent1:\n",
    "    def assign_string_one(self,str1):\n",
    "        self.str1=str1\n",
    "    def show_string_one(self):\n",
    "        return self.str1\n",
    "    \n",
    "class Parent2:\n",
    "    def assign_string_two(self,str2):\n",
    "        self.str2=str2\n",
    "    def show_string_two(self):\n",
    "        return self.str2"
   ]
  },
  {
   "cell_type": "code",
   "execution_count": 98,
   "id": "bce7c89c",
   "metadata": {},
   "outputs": [],
   "source": [
    "class Child(Parent1, Parent2):\n",
    "    def assign_string_three(self,str3):\n",
    "        self.str3=str3\n",
    "    def show_string_three(self):\n",
    "        return self.str3"
   ]
  },
  {
   "cell_type": "code",
   "execution_count": 99,
   "id": "b0fa56d8",
   "metadata": {},
   "outputs": [],
   "source": [
    "c1=Child()"
   ]
  },
  {
   "cell_type": "code",
   "execution_count": 100,
   "id": "4a9d88d4",
   "metadata": {},
   "outputs": [],
   "source": [
    "c1.assign_string_one('one')\n",
    "c1.assign_string_two('two')\n",
    "c1.assign_string_three('three')"
   ]
  },
  {
   "cell_type": "code",
   "execution_count": 101,
   "id": "9c2f52dc",
   "metadata": {},
   "outputs": [
    {
     "data": {
      "text/plain": [
       "'three'"
      ]
     },
     "execution_count": 101,
     "metadata": {},
     "output_type": "execute_result"
    }
   ],
   "source": [
    "c1.show_string_three()"
   ]
  },
  {
   "cell_type": "code",
   "execution_count": 102,
   "id": "a9345a3d",
   "metadata": {},
   "outputs": [
    {
     "data": {
      "text/plain": [
       "'one'"
      ]
     },
     "execution_count": 102,
     "metadata": {},
     "output_type": "execute_result"
    }
   ],
   "source": [
    "c1.show_string_one()"
   ]
  },
  {
   "cell_type": "code",
   "execution_count": 103,
   "id": "2b039228",
   "metadata": {},
   "outputs": [],
   "source": [
    "#multi level relationship"
   ]
  },
  {
   "cell_type": "code",
   "execution_count": 104,
   "id": "29fc4b28",
   "metadata": {},
   "outputs": [],
   "source": [
    "class Parent1:\n",
    "    def assign_name(self,name):\n",
    "        self.name=name\n",
    "    def show_name(self):\n",
    "        return self.name\n",
    "    \n",
    "class Child(Parent1):\n",
    "    def assign_age(self,age):\n",
    "        self.age=age\n",
    "    def show_age(self):\n",
    "        return self.age\n",
    "    \n",
    "class GrandChild(Child):\n",
    "    def assign_gender(self,gender):\n",
    "        self.gender=gender\n",
    "    def show_gender(self):\n",
    "        return self.gender"
   ]
  },
  {
   "cell_type": "code",
   "execution_count": 105,
   "id": "93d26aa4",
   "metadata": {},
   "outputs": [],
   "source": [
    "gc=GrandChild()"
   ]
  },
  {
   "cell_type": "code",
   "execution_count": 106,
   "id": "35bb5b47",
   "metadata": {},
   "outputs": [],
   "source": [
    "gc.assign_name('Pritish')\n",
    "gc.assign_age(18)\n",
    "gc.assign_gender('male')"
   ]
  },
  {
   "cell_type": "code",
   "execution_count": 107,
   "id": "6965a22c",
   "metadata": {},
   "outputs": [
    {
     "data": {
      "text/plain": [
       "'Pritish'"
      ]
     },
     "execution_count": 107,
     "metadata": {},
     "output_type": "execute_result"
    }
   ],
   "source": [
    "gc.show_name()"
   ]
  },
  {
   "cell_type": "code",
   "execution_count": 108,
   "id": "58412903",
   "metadata": {},
   "outputs": [
    {
     "data": {
      "text/plain": [
       "18"
      ]
     },
     "execution_count": 108,
     "metadata": {},
     "output_type": "execute_result"
    }
   ],
   "source": [
    "gc.show_age()"
   ]
  },
  {
   "cell_type": "code",
   "execution_count": null,
   "id": "7d96c2f8",
   "metadata": {},
   "outputs": [],
   "source": []
  },
  {
   "cell_type": "code",
   "execution_count": null,
   "id": "24141794",
   "metadata": {},
   "outputs": [],
   "source": []
  },
  {
   "cell_type": "code",
   "execution_count": null,
   "id": "075bf96b",
   "metadata": {},
   "outputs": [],
   "source": []
  }
 ],
 "metadata": {
  "kernelspec": {
   "display_name": "Python 3 (ipykernel)",
   "language": "python",
   "name": "python3"
  },
  "language_info": {
   "codemirror_mode": {
    "name": "ipython",
    "version": 3
   },
   "file_extension": ".py",
   "mimetype": "text/x-python",
   "name": "python",
   "nbconvert_exporter": "python",
   "pygments_lexer": "ipython3",
   "version": "3.9.7"
  }
 },
 "nbformat": 4,
 "nbformat_minor": 5
}
