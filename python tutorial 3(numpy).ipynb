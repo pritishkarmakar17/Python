{
 "cells": [
  {
   "cell_type": "code",
   "execution_count": null,
   "id": "424174b5",
   "metadata": {},
   "outputs": [],
   "source": [
    "#library---numpy-numerical pyton"
   ]
  },
  {
   "cell_type": "code",
   "execution_count": 5,
   "id": "0d5b54cb",
   "metadata": {},
   "outputs": [
    {
     "data": {
      "text/plain": [
       "array([10, 20, 30, 40])"
      ]
     },
     "execution_count": 5,
     "metadata": {},
     "output_type": "execute_result"
    }
   ],
   "source": [
    "import numpy as np\n",
    "n1=np.array([10,20,30,40])\n",
    "n1b"
   ]
  },
  {
   "cell_type": "code",
   "execution_count": 7,
   "id": "0712c62c",
   "metadata": {},
   "outputs": [
    {
     "data": {
      "text/plain": [
       "numpy.ndarray"
      ]
     },
     "execution_count": 7,
     "metadata": {},
     "output_type": "execute_result"
    }
   ],
   "source": [
    "type(n1) # numpy n dimensional array"
   ]
  },
  {
   "cell_type": "code",
   "execution_count": 8,
   "id": "c5cf8f4b",
   "metadata": {},
   "outputs": [
    {
     "data": {
      "text/plain": [
       "array([[10, 20, 30, 40],\n",
       "       [40, 30, 20, 10]])"
      ]
     },
     "execution_count": 8,
     "metadata": {},
     "output_type": "execute_result"
    }
   ],
   "source": [
    "n2=np.array([[10,20,30,40],[40,30,20,10]])\n",
    "n2"
   ]
  },
  {
   "cell_type": "code",
   "execution_count": 9,
   "id": "5fde2862",
   "metadata": {},
   "outputs": [
    {
     "data": {
      "text/plain": [
       "numpy.ndarray"
      ]
     },
     "execution_count": 9,
     "metadata": {},
     "output_type": "execute_result"
    }
   ],
   "source": [
    "type(n2)"
   ]
  },
  {
   "cell_type": "code",
   "execution_count": null,
   "id": "bb549b88",
   "metadata": {},
   "outputs": [],
   "source": [
    "#initialising numpy array with zeroes"
   ]
  },
  {
   "cell_type": "code",
   "execution_count": 11,
   "id": "5e8527cc",
   "metadata": {},
   "outputs": [
    {
     "data": {
      "text/plain": [
       "array([[0., 0.]])"
      ]
     },
     "execution_count": 11,
     "metadata": {},
     "output_type": "execute_result"
    }
   ],
   "source": [
    "n1=np.zeros((1,2))#(rows,columns)\n",
    "n1 "
   ]
  },
  {
   "cell_type": "code",
   "execution_count": 14,
   "id": "89f1ce9c",
   "metadata": {},
   "outputs": [
    {
     "data": {
      "text/plain": [
       "array([[0., 0., 0., 0., 0.],\n",
       "       [0., 0., 0., 0., 0.],\n",
       "       [0., 0., 0., 0., 0.],\n",
       "       [0., 0., 0., 0., 0.],\n",
       "       [0., 0., 0., 0., 0.],\n",
       "       [0., 0., 0., 0., 0.],\n",
       "       [0., 0., 0., 0., 0.],\n",
       "       [0., 0., 0., 0., 0.]])"
      ]
     },
     "execution_count": 14,
     "metadata": {},
     "output_type": "execute_result"
    }
   ],
   "source": [
    "n2=np.zeros((8,5))\n",
    "n2"
   ]
  },
  {
   "cell_type": "code",
   "execution_count": 15,
   "id": "5133c246",
   "metadata": {},
   "outputs": [],
   "source": [
    "#initialising numpy array with same number"
   ]
  },
  {
   "cell_type": "code",
   "execution_count": 16,
   "id": "5fd4764e",
   "metadata": {},
   "outputs": [
    {
     "data": {
      "text/plain": [
       "array([[7, 7, 7, 7, 7],\n",
       "       [7, 7, 7, 7, 7],\n",
       "       [7, 7, 7, 7, 7]])"
      ]
     },
     "execution_count": 16,
     "metadata": {},
     "output_type": "execute_result"
    }
   ],
   "source": [
    "n4=np.full((3,5),7)\n",
    "n4"
   ]
  },
  {
   "cell_type": "code",
   "execution_count": null,
   "id": "ef1145f2",
   "metadata": {},
   "outputs": [],
   "source": [
    "#initialising numpy array withiin a range"
   ]
  },
  {
   "cell_type": "code",
   "execution_count": 17,
   "id": "a54ab804",
   "metadata": {},
   "outputs": [
    {
     "data": {
      "text/plain": [
       "array([10, 11, 12, 13, 14, 15])"
      ]
     },
     "execution_count": 17,
     "metadata": {},
     "output_type": "execute_result"
    }
   ],
   "source": [
    "n5=np.arange(10,16)\n",
    "n5"
   ]
  },
  {
   "cell_type": "code",
   "execution_count": 18,
   "id": "6bd0d7df",
   "metadata": {},
   "outputs": [
    {
     "data": {
      "text/plain": [
       "array([10, 15, 20, 25, 30, 35, 40, 45])"
      ]
     },
     "execution_count": 18,
     "metadata": {},
     "output_type": "execute_result"
    }
   ],
   "source": [
    "n5=np.arange(10,50,5)\n",
    "n5"
   ]
  },
  {
   "cell_type": "code",
   "execution_count": null,
   "id": "ad202a1d",
   "metadata": {},
   "outputs": [],
   "source": [
    "#initialising numpy array with random number"
   ]
  },
  {
   "cell_type": "code",
   "execution_count": 19,
   "id": "f269be52",
   "metadata": {},
   "outputs": [
    {
     "data": {
      "text/plain": [
       "array([44, 56, 59,  3, 14, 96, 61])"
      ]
     },
     "execution_count": 19,
     "metadata": {},
     "output_type": "execute_result"
    }
   ],
   "source": [
    "n1=np.random.randint(1,100,7)#(low range,up range, no of int)\n",
    "n1"
   ]
  },
  {
   "cell_type": "code",
   "execution_count": 20,
   "id": "0304f3bd",
   "metadata": {},
   "outputs": [
    {
     "data": {
      "text/plain": [
       "array([44, 56, 59,  3, 14, 96, 61])"
      ]
     },
     "execution_count": 20,
     "metadata": {},
     "output_type": "execute_result"
    }
   ],
   "source": [
    "n1"
   ]
  },
  {
   "cell_type": "code",
   "execution_count": 21,
   "id": "24edf872",
   "metadata": {},
   "outputs": [
    {
     "data": {
      "text/plain": [
       "array([73, 80, 94, 90, 27, 29, 95])"
      ]
     },
     "execution_count": 21,
     "metadata": {},
     "output_type": "execute_result"
    }
   ],
   "source": [
    "n1=np.random.randint(1,100,7)\n",
    "n1"
   ]
  },
  {
   "cell_type": "code",
   "execution_count": 22,
   "id": "3a35cbfd",
   "metadata": {},
   "outputs": [
    {
     "data": {
      "text/plain": [
       "(2, 4)"
      ]
     },
     "execution_count": 22,
     "metadata": {},
     "output_type": "execute_result"
    }
   ],
   "source": [
    "n2=np.array([[10,20,30,40],[40,30,20,10]])\n",
    "n2.shape#(row,column)"
   ]
  },
  {
   "cell_type": "code",
   "execution_count": 27,
   "id": "8b7b9a28",
   "metadata": {},
   "outputs": [
    {
     "data": {
      "text/plain": [
       "array([[10, 20],\n",
       "       [30, 40],\n",
       "       [40, 30],\n",
       "       [20, 10]])"
      ]
     },
     "execution_count": 27,
     "metadata": {},
     "output_type": "execute_result"
    }
   ],
   "source": [
    "n2.shape=(4,2)\n",
    "n2"
   ]
  },
  {
   "cell_type": "code",
   "execution_count": 28,
   "id": "f518d04f",
   "metadata": {},
   "outputs": [
    {
     "data": {
      "text/plain": [
       "array([[10],\n",
       "       [20],\n",
       "       [30],\n",
       "       [40],\n",
       "       [40],\n",
       "       [30],\n",
       "       [20],\n",
       "       [10]])"
      ]
     },
     "execution_count": 28,
     "metadata": {},
     "output_type": "execute_result"
    }
   ],
   "source": [
    "n2.shape=(8,1)\n",
    "n2"
   ]
  },
  {
   "cell_type": "code",
   "execution_count": 29,
   "id": "2a96600b",
   "metadata": {},
   "outputs": [
    {
     "data": {
      "text/plain": [
       "array([[10, 20, 30],\n",
       "       [40, 50, 60]])"
      ]
     },
     "execution_count": 29,
     "metadata": {},
     "output_type": "execute_result"
    }
   ],
   "source": [
    "#joining numpy array\n",
    "#vertical stack\n",
    "n1=np.array([10,20,30])\n",
    "n2=np.array([40,50,60])\n",
    "np.vstack((n1,n2))"
   ]
  },
  {
   "cell_type": "code",
   "execution_count": 30,
   "id": "4aee7e2d",
   "metadata": {},
   "outputs": [
    {
     "data": {
      "text/plain": [
       "array([10, 20, 30, 40, 50, 60])"
      ]
     },
     "execution_count": 30,
     "metadata": {},
     "output_type": "execute_result"
    }
   ],
   "source": [
    "#horyzontal stack\n",
    "np.hstack((n1,n2))"
   ]
  },
  {
   "cell_type": "code",
   "execution_count": 32,
   "id": "3183be45",
   "metadata": {},
   "outputs": [
    {
     "data": {
      "text/plain": [
       "array([[10, 40],\n",
       "       [20, 50],\n",
       "       [30, 60]])"
      ]
     },
     "execution_count": 32,
     "metadata": {},
     "output_type": "execute_result"
    }
   ],
   "source": [
    "#column stack\n",
    "np.column_stack((n1,n2))"
   ]
  },
  {
   "cell_type": "code",
   "execution_count": 33,
   "id": "47c4a8e9",
   "metadata": {},
   "outputs": [],
   "source": [
    "#numpy intersection & difference\n",
    "n1=np.array([10,20,30])\n",
    "n2=np.array([10,30,60])"
   ]
  },
  {
   "cell_type": "code",
   "execution_count": 34,
   "id": "449bef30",
   "metadata": {},
   "outputs": [
    {
     "data": {
      "text/plain": [
       "array([10, 30])"
      ]
     },
     "execution_count": 34,
     "metadata": {},
     "output_type": "execute_result"
    }
   ],
   "source": [
    "np.intersect1d(n1,n2)"
   ]
  },
  {
   "cell_type": "code",
   "execution_count": 35,
   "id": "77f13da1",
   "metadata": {},
   "outputs": [
    {
     "data": {
      "text/plain": [
       "array([20])"
      ]
     },
     "execution_count": 35,
     "metadata": {},
     "output_type": "execute_result"
    }
   ],
   "source": [
    "np.setdiff1d(n1,n2)   #set(n1-n2)"
   ]
  },
  {
   "cell_type": "code",
   "execution_count": 36,
   "id": "8b04640b",
   "metadata": {},
   "outputs": [
    {
     "data": {
      "text/plain": [
       "array([60])"
      ]
     },
     "execution_count": 36,
     "metadata": {},
     "output_type": "execute_result"
    }
   ],
   "source": [
    "np.setdiff1d(n2,n1) "
   ]
  },
  {
   "cell_type": "code",
   "execution_count": 37,
   "id": "6cc97a9e",
   "metadata": {},
   "outputs": [],
   "source": [
    "#numpy array mathmatics"
   ]
  },
  {
   "cell_type": "code",
   "execution_count": 38,
   "id": "8d8414ce",
   "metadata": {},
   "outputs": [],
   "source": [
    "n1=np.array([10,20,30])\n",
    "n2=np.array([10,30,60])"
   ]
  },
  {
   "cell_type": "code",
   "execution_count": 39,
   "id": "109a3bba",
   "metadata": {},
   "outputs": [
    {
     "data": {
      "text/plain": [
       "160"
      ]
     },
     "execution_count": 39,
     "metadata": {},
     "output_type": "execute_result"
    }
   ],
   "source": [
    "np.sum([n1,n2]) #sum of all element"
   ]
  },
  {
   "cell_type": "code",
   "execution_count": 40,
   "id": "807db455",
   "metadata": {},
   "outputs": [
    {
     "data": {
      "text/plain": [
       "array([20, 50, 90])"
      ]
     },
     "execution_count": 40,
     "metadata": {},
     "output_type": "execute_result"
    }
   ],
   "source": [
    "np.sum([n1,n2],axis=0)  #sum along column"
   ]
  },
  {
   "cell_type": "code",
   "execution_count": 42,
   "id": "eaf51d4a",
   "metadata": {},
   "outputs": [
    {
     "data": {
      "text/plain": [
       "array([ 60, 100])"
      ]
     },
     "execution_count": 42,
     "metadata": {},
     "output_type": "execute_result"
    }
   ],
   "source": [
    "np.sum([n1,n2],axis=1)  #sum along row"
   ]
  },
  {
   "cell_type": "code",
   "execution_count": 43,
   "id": "3b1b52d7",
   "metadata": {},
   "outputs": [
    {
     "data": {
      "text/plain": [
       "array([15, 25, 35])"
      ]
     },
     "execution_count": 43,
     "metadata": {},
     "output_type": "execute_result"
    }
   ],
   "source": [
    "n1=np.array([10,20,30])\n",
    "n1=n1+5\n",
    "n1"
   ]
  },
  {
   "cell_type": "code",
   "execution_count": 44,
   "id": "9063fd3c",
   "metadata": {},
   "outputs": [
    {
     "data": {
      "text/plain": [
       "array([150, 250, 350])"
      ]
     },
     "execution_count": 44,
     "metadata": {},
     "output_type": "execute_result"
    }
   ],
   "source": [
    "n1=n1*10\n",
    "n1"
   ]
  },
  {
   "cell_type": "code",
   "execution_count": 45,
   "id": "c20db87b",
   "metadata": {},
   "outputs": [
    {
     "data": {
      "text/plain": [
       "array([3., 5., 7.])"
      ]
     },
     "execution_count": 45,
     "metadata": {},
     "output_type": "execute_result"
    }
   ],
   "source": [
    "n1=n1/50\n",
    "n1"
   ]
  },
  {
   "cell_type": "code",
   "execution_count": 46,
   "id": "d3689a90",
   "metadata": {},
   "outputs": [],
   "source": [
    "#numpy math function\n",
    "n1=np.array([5,7,8,12,13,15,11])"
   ]
  },
  {
   "cell_type": "code",
   "execution_count": 47,
   "id": "b898a736",
   "metadata": {},
   "outputs": [
    {
     "data": {
      "text/plain": [
       "10.142857142857142"
      ]
     },
     "execution_count": 47,
     "metadata": {},
     "output_type": "execute_result"
    }
   ],
   "source": [
    "np.mean(n1)"
   ]
  },
  {
   "cell_type": "code",
   "execution_count": 48,
   "id": "60ced4ef",
   "metadata": {},
   "outputs": [
    {
     "data": {
      "text/plain": [
       "11.0"
      ]
     },
     "execution_count": 48,
     "metadata": {},
     "output_type": "execute_result"
    }
   ],
   "source": [
    "np.median(n1)"
   ]
  },
  {
   "cell_type": "code",
   "execution_count": 49,
   "id": "d626e063",
   "metadata": {},
   "outputs": [
    {
     "data": {
      "text/plain": [
       "3.313546715640915"
      ]
     },
     "execution_count": 49,
     "metadata": {},
     "output_type": "execute_result"
    }
   ],
   "source": [
    "np.std(n1)  #standard deviation"
   ]
  },
  {
   "cell_type": "code",
   "execution_count": 52,
   "id": "fb6720b5",
   "metadata": {},
   "outputs": [],
   "source": [
    "#numpy save and load\n",
    "n1=np.array([5,7,8,12,13,15,11])\n",
    "np.save('my_numpy',n1)"
   ]
  },
  {
   "cell_type": "code",
   "execution_count": 2,
   "id": "ce957da4",
   "metadata": {},
   "outputs": [
    {
     "ename": "NameError",
     "evalue": "name 'np' is not defined",
     "output_type": "error",
     "traceback": [
      "\u001b[1;31m---------------------------------------------------------------------------\u001b[0m",
      "\u001b[1;31mNameError\u001b[0m                                 Traceback (most recent call last)",
      "\u001b[1;32m<ipython-input-2-5bcbba4d623f>\u001b[0m in \u001b[0;36m<module>\u001b[1;34m\u001b[0m\n\u001b[1;32m----> 1\u001b[1;33m \u001b[0mn2\u001b[0m\u001b[1;33m=\u001b[0m\u001b[0mnp\u001b[0m\u001b[1;33m.\u001b[0m\u001b[0mload\u001b[0m\u001b[1;33m(\u001b[0m\u001b[1;34m'my_numpy.npy'\u001b[0m\u001b[1;33m)\u001b[0m\u001b[1;33m\u001b[0m\u001b[1;33m\u001b[0m\u001b[0m\n\u001b[0m\u001b[0;32m      2\u001b[0m \u001b[0mn2\u001b[0m\u001b[1;33m\u001b[0m\u001b[1;33m\u001b[0m\u001b[0m\n",
      "\u001b[1;31mNameError\u001b[0m: name 'np' is not defined"
     ]
    }
   ],
   "source": [
    "n2=np.load('my_numpy.npy')\n",
    "n2"
   ]
  },
  {
   "cell_type": "code",
   "execution_count": 1,
   "id": "7f970387",
   "metadata": {
    "scrolled": true
   },
   "outputs": [
    {
     "ename": "NameError",
     "evalue": "name 'n2' is not defined",
     "output_type": "error",
     "traceback": [
      "\u001b[1;31m---------------------------------------------------------------------------\u001b[0m",
      "\u001b[1;31mNameError\u001b[0m                                 Traceback (most recent call last)",
      "\u001b[1;32m<ipython-input-1-e2f2e3e2e04a>\u001b[0m in \u001b[0;36m<module>\u001b[1;34m\u001b[0m\n\u001b[1;32m----> 1\u001b[1;33m \u001b[0mn2\u001b[0m\u001b[1;33m.\u001b[0m\u001b[0mshape\u001b[0m\u001b[1;33m\u001b[0m\u001b[1;33m\u001b[0m\u001b[0m\n\u001b[0m",
      "\u001b[1;31mNameError\u001b[0m: name 'n2' is not defined"
     ]
    }
   ],
   "source": [
    "n2.shape"
   ]
  },
  {
   "cell_type": "code",
   "execution_count": 6,
   "id": "70c2ceae",
   "metadata": {},
   "outputs": [],
   "source": [
    "## new"
   ]
  },
  {
   "cell_type": "code",
   "execution_count": 1,
   "id": "abae4d3a",
   "metadata": {},
   "outputs": [],
   "source": [
    "import numpy as np\n",
    "import matplotlib.pyplot as plt"
   ]
  },
  {
   "cell_type": "code",
   "execution_count": 4,
   "id": "7f8b8d7a",
   "metadata": {},
   "outputs": [
    {
     "data": {
      "text/plain": [
       "array([[0., 0., 0.],\n",
       "       [0., 0., 0.]])"
      ]
     },
     "execution_count": 4,
     "metadata": {},
     "output_type": "execute_result"
    }
   ],
   "source": [
    "n0=np.zeros((2,3))\n",
    "n0"
   ]
  },
  {
   "cell_type": "code",
   "execution_count": 5,
   "id": "1cdf631e",
   "metadata": {},
   "outputs": [
    {
     "data": {
      "text/plain": [
       "array([[1., 1., 1.],\n",
       "       [1., 1., 1.]])"
      ]
     },
     "execution_count": 5,
     "metadata": {},
     "output_type": "execute_result"
    }
   ],
   "source": [
    "n1=np.ones((2,3))\n",
    "n1"
   ]
  },
  {
   "cell_type": "code",
   "execution_count": 19,
   "id": "6ee14d24",
   "metadata": {},
   "outputs": [
    {
     "data": {
      "text/plain": [
       "array([0.85977058, 0.86703501, 0.10570245, 0.68047903, 0.38735238,\n",
       "       0.09906096, 0.30736562, 0.40021747, 0.29072582, 0.93577324])"
      ]
     },
     "execution_count": 19,
     "metadata": {},
     "output_type": "execute_result"
    }
   ],
   "source": [
    "n2=np.random.random(10) #between 0 and 1\n",
    "n2"
   ]
  },
  {
   "cell_type": "code",
   "execution_count": 20,
   "id": "c6c0b0cc",
   "metadata": {},
   "outputs": [
    {
     "data": {
      "text/plain": [
       "array([-0.0161679 ,  1.20957092,  0.02742677,  0.55701009,  0.60907885,\n",
       "        0.49188509, -0.74471484, -1.41489362,  0.50317294, -0.64923629])"
      ]
     },
     "execution_count": 20,
     "metadata": {},
     "output_type": "execute_result"
    }
   ],
   "source": [
    "n3=np.random.randn(10) #mean of 0 and sd of 1\n",
    "n3"
   ]
  },
  {
   "cell_type": "code",
   "execution_count": 13,
   "id": "d058ee9d",
   "metadata": {},
   "outputs": [
    {
     "data": {
      "text/plain": [
       "array([  0.,   5.,  10.,  15.,  20.,  25.,  30.,  35.,  40.,  45.,  50.,\n",
       "        55.,  60.,  65.,  70.,  75.,  80.,  85.,  90.,  95., 100.])"
      ]
     },
     "execution_count": 13,
     "metadata": {},
     "output_type": "execute_result"
    }
   ],
   "source": [
    "n1=np.linspace(0,100,21)\n",
    "n1"
   ]
  },
  {
   "cell_type": "code",
   "execution_count": 14,
   "id": "6c7df6bd",
   "metadata": {},
   "outputs": [
    {
     "data": {
      "text/plain": [
       "array([0. , 0.5, 1. , 1.5, 2. , 2.5, 3. , 3.5, 4. , 4.5, 5. , 5.5, 6. ,\n",
       "       6.5, 7. , 7.5, 8. , 8.5, 9. , 9.5])"
      ]
     },
     "execution_count": 14,
     "metadata": {},
     "output_type": "execute_result"
    }
   ],
   "source": [
    "np.arange(0,10,0.5)"
   ]
  },
  {
   "cell_type": "code",
   "execution_count": 15,
   "id": "86a57df8",
   "metadata": {},
   "outputs": [],
   "source": [
    "#arrey operation"
   ]
  },
  {
   "cell_type": "code",
   "execution_count": 16,
   "id": "b01271fa",
   "metadata": {},
   "outputs": [
    {
     "data": {
      "text/plain": [
       "array([  0.,   5.,  10.,  15.,  20.,  25.,  30.,  35.,  40.,  45.,  50.,\n",
       "        55.,  60.,  65.,  70.,  75.,  80.,  85.,  90.,  95., 100.])"
      ]
     },
     "execution_count": 16,
     "metadata": {},
     "output_type": "execute_result"
    }
   ],
   "source": [
    "n1"
   ]
  },
  {
   "cell_type": "code",
   "execution_count": 17,
   "id": "9d1ca1f7",
   "metadata": {},
   "outputs": [
    {
     "data": {
      "text/plain": [
       "array([  0.,  10.,  20.,  30.,  40.,  50.,  60.,  70.,  80.,  90., 100.,\n",
       "       110., 120., 130., 140., 150., 160., 170., 180., 190., 200.])"
      ]
     },
     "execution_count": 17,
     "metadata": {},
     "output_type": "execute_result"
    }
   ],
   "source": [
    "n1*2"
   ]
  },
  {
   "cell_type": "code",
   "execution_count": 18,
   "id": "8e5bc32e",
   "metadata": {},
   "outputs": [
    {
     "name": "stderr",
     "output_type": "stream",
     "text": [
      "<ipython-input-18-cd6c0addd329>:1: RuntimeWarning: divide by zero encountered in true_divide\n",
      "  1/n1\n"
     ]
    },
    {
     "data": {
      "text/plain": [
       "array([       inf, 0.2       , 0.1       , 0.06666667, 0.05      ,\n",
       "       0.04      , 0.03333333, 0.02857143, 0.025     , 0.02222222,\n",
       "       0.02      , 0.01818182, 0.01666667, 0.01538462, 0.01428571,\n",
       "       0.01333333, 0.0125    , 0.01176471, 0.01111111, 0.01052632,\n",
       "       0.01      ])"
      ]
     },
     "execution_count": 18,
     "metadata": {},
     "output_type": "execute_result"
    }
   ],
   "source": [
    "1/n1"
   ]
  },
  {
   "cell_type": "code",
   "execution_count": 21,
   "id": "a4173e9d",
   "metadata": {},
   "outputs": [
    {
     "data": {
      "text/plain": [
       "array([ True, False,  True, False,  True, False,  True, False,  True,\n",
       "       False,  True, False,  True, False,  True, False,  True, False,\n",
       "        True, False,  True])"
      ]
     },
     "execution_count": 21,
     "metadata": {},
     "output_type": "execute_result"
    }
   ],
   "source": [
    "n1%2==0"
   ]
  },
  {
   "cell_type": "code",
   "execution_count": 22,
   "id": "d0e1dd86",
   "metadata": {},
   "outputs": [],
   "source": [
    "x= np.linspace(0,10,101)"
   ]
  },
  {
   "cell_type": "code",
   "execution_count": 23,
   "id": "0f21bd97",
   "metadata": {},
   "outputs": [
    {
     "data": {
      "text/plain": [
       "array([ 0. ,  0.1,  0.2,  0.3,  0.4,  0.5,  0.6,  0.7,  0.8,  0.9,  1. ,\n",
       "        1.1,  1.2,  1.3,  1.4,  1.5,  1.6,  1.7,  1.8,  1.9,  2. ,  2.1,\n",
       "        2.2,  2.3,  2.4,  2.5,  2.6,  2.7,  2.8,  2.9,  3. ,  3.1,  3.2,\n",
       "        3.3,  3.4,  3.5,  3.6,  3.7,  3.8,  3.9,  4. ,  4.1,  4.2,  4.3,\n",
       "        4.4,  4.5,  4.6,  4.7,  4.8,  4.9,  5. ,  5.1,  5.2,  5.3,  5.4,\n",
       "        5.5,  5.6,  5.7,  5.8,  5.9,  6. ,  6.1,  6.2,  6.3,  6.4,  6.5,\n",
       "        6.6,  6.7,  6.8,  6.9,  7. ,  7.1,  7.2,  7.3,  7.4,  7.5,  7.6,\n",
       "        7.7,  7.8,  7.9,  8. ,  8.1,  8.2,  8.3,  8.4,  8.5,  8.6,  8.7,\n",
       "        8.8,  8.9,  9. ,  9.1,  9.2,  9.3,  9.4,  9.5,  9.6,  9.7,  9.8,\n",
       "        9.9, 10. ])"
      ]
     },
     "execution_count": 23,
     "metadata": {},
     "output_type": "execute_result"
    }
   ],
   "source": [
    "x"
   ]
  },
  {
   "cell_type": "code",
   "execution_count": 24,
   "id": "43c207ce",
   "metadata": {},
   "outputs": [
    {
     "data": {
      "text/plain": [
       "[<matplotlib.lines.Line2D at 0x20df2433cd0>]"
      ]
     },
     "execution_count": 24,
     "metadata": {},
     "output_type": "execute_result"
    },
    {
     "data": {
      "image/png": "[encoded data removed]",
      "text/plain": [
       "<Figure size 432x288 with 1 Axes>"
      ]
     },
     "metadata": {
      "needs_background": "light"
     },
     "output_type": "display_data"
    }
   ],
   "source": [
    "plt.plot(x,x**2)"
   ]
  },
  {
   "cell_type": "code",
   "execution_count": 25,
   "id": "8065c40a",
   "metadata": {},
   "outputs": [],
   "source": [
    "y=x**2"
   ]
  },
  {
   "cell_type": "code",
   "execution_count": 26,
   "id": "ae5980ae",
   "metadata": {},
   "outputs": [
    {
     "data": {
      "text/plain": [
       "[<matplotlib.lines.Line2D at 0x20df2baf370>]"
      ]
     },
     "execution_count": 26,
     "metadata": {},
     "output_type": "execute_result"
    },
    {
     "data": {
      "image/png": "[encoded data removed]",
      "text/plain": [
       "<Figure size 432x288 with 1 Axes>"
      ]
     },
     "metadata": {
      "needs_background": "light"
     },
     "output_type": "display_data"
    }
   ],
   "source": [
    "plt.plot(x,y)"
   ]
  },
  {
   "cell_type": "code",
   "execution_count": 35,
   "id": "f582cc5f",
   "metadata": {
    "scrolled": true
   },
   "outputs": [
    {
     "data": {
      "text/plain": [
       "(array([1., 0., 2., 0., 1., 0., 1., 2., 1., 2.]),\n",
       " array([0.0086196 , 0.08950692, 0.17039424, 0.25128155, 0.33216887,\n",
       "        0.41305619, 0.4939435 , 0.57483082, 0.65571814, 0.73660545,\n",
       "        0.81749277]),\n",
       " <BarContainer object of 10 artists>)"
      ]
     },
     "execution_count": 35,
     "metadata": {},
     "output_type": "execute_result"
    },
    {
     "data": {
      "image/png": "[encoded data removed]",
      "text/plain": [
       "<Figure size 432x288 with 1 Axes>"
      ]
     },
     "metadata": {
      "needs_background": "light"
     },
     "output_type": "display_data"
    }
   ],
   "source": [
    "plt.hist(np.random.random(10))"
   ]
  },
  {
   "cell_type": "code",
   "execution_count": 36,
   "id": "ee463bd4",
   "metadata": {},
   "outputs": [
    {
     "data": {
      "text/plain": [
       "[<matplotlib.lines.Line2D at 0x20df2ccf670>]"
      ]
     },
     "execution_count": 36,
     "metadata": {},
     "output_type": "execute_result"
    },
    {
     "data": {
      "image/png": "[encoded data removed]",
      "text/plain": [
       "<Figure size 432x288 with 1 Axes>"
      ]
     },
     "metadata": {
      "needs_background": "light"
     },
     "output_type": "display_data"
    }
   ],
   "source": [
    "y=np.sin(x)\n",
    "plt.plot(x,y)"
   ]
  },
  {
   "cell_type": "code",
   "execution_count": 37,
   "id": "1d0c448a",
   "metadata": {},
   "outputs": [],
   "source": [
    "#array indexing slicing"
   ]
  },
  {
   "cell_type": "code",
   "execution_count": 38,
   "id": "55fc1562",
   "metadata": {},
   "outputs": [],
   "source": [
    "a1=np.array([2,4,6,8,10])"
   ]
  },
  {
   "cell_type": "code",
   "execution_count": 39,
   "id": "9edda93f",
   "metadata": {},
   "outputs": [
    {
     "data": {
      "text/plain": [
       "array([ 2,  4,  6,  8, 10])"
      ]
     },
     "execution_count": 39,
     "metadata": {},
     "output_type": "execute_result"
    }
   ],
   "source": [
    "a1"
   ]
  },
  {
   "cell_type": "code",
   "execution_count": 41,
   "id": "040da1c3",
   "metadata": {},
   "outputs": [
    {
     "data": {
      "text/plain": [
       "8"
      ]
     },
     "execution_count": 41,
     "metadata": {},
     "output_type": "execute_result"
    }
   ],
   "source": [
    "a1[3]"
   ]
  },
  {
   "cell_type": "code",
   "execution_count": 42,
   "id": "ad2a02f1",
   "metadata": {},
   "outputs": [
    {
     "data": {
      "text/plain": [
       "array([ 6,  8, 10])"
      ]
     },
     "execution_count": 42,
     "metadata": {},
     "output_type": "execute_result"
    }
   ],
   "source": [
    "a1[2:]"
   ]
  },
  {
   "cell_type": "code",
   "execution_count": 44,
   "id": "7b60f494",
   "metadata": {},
   "outputs": [
    {
     "data": {
      "text/plain": [
       "array([ 6,  8, 10])"
      ]
     },
     "execution_count": 44,
     "metadata": {},
     "output_type": "execute_result"
    }
   ],
   "source": [
    "a1[-3:]"
   ]
  },
  {
   "cell_type": "code",
   "execution_count": 45,
   "id": "05dbb4ce",
   "metadata": {},
   "outputs": [
    {
     "data": {
      "text/plain": [
       "array([2, 4])"
      ]
     },
     "execution_count": 45,
     "metadata": {},
     "output_type": "execute_result"
    }
   ],
   "source": [
    "a1[:-3]"
   ]
  },
  {
   "cell_type": "code",
   "execution_count": 46,
   "id": "766a47ee",
   "metadata": {},
   "outputs": [
    {
     "data": {
      "text/plain": [
       "array([2, 4, 6])"
      ]
     },
     "execution_count": 46,
     "metadata": {},
     "output_type": "execute_result"
    }
   ],
   "source": [
    "a1[0:3]"
   ]
  },
  {
   "cell_type": "code",
   "execution_count": 47,
   "id": "7df73288",
   "metadata": {},
   "outputs": [
    {
     "data": {
      "text/plain": [
       "array([False,  True,  True,  True,  True])"
      ]
     },
     "execution_count": 47,
     "metadata": {},
     "output_type": "execute_result"
    }
   ],
   "source": [
    "a1>3"
   ]
  },
  {
   "cell_type": "code",
   "execution_count": 48,
   "id": "0767ac7f",
   "metadata": {},
   "outputs": [
    {
     "data": {
      "text/plain": [
       "array([ 6,  8, 10])"
      ]
     },
     "execution_count": 48,
     "metadata": {},
     "output_type": "execute_result"
    }
   ],
   "source": [
    "a1[a1>5]  #only true"
   ]
  },
  {
   "cell_type": "code",
   "execution_count": 50,
   "id": "86a9afa2",
   "metadata": {},
   "outputs": [
    {
     "data": {
      "text/plain": [
       "array(['cris', 'prit', 'leo', 'ney'], dtype='<U4')"
      ]
     },
     "execution_count": 50,
     "metadata": {},
     "output_type": "execute_result"
    }
   ],
   "source": [
    "names=np.array(['cris','prit','leo','ney'])\n",
    "names"
   ]
  },
  {
   "cell_type": "code",
   "execution_count": 52,
   "id": "349e27bf",
   "metadata": {},
   "outputs": [],
   "source": [
    "first_letter_p = np.vectorize(lambda s: s[0])(names)=='p'"
   ]
  },
  {
   "cell_type": "code",
   "execution_count": 53,
   "id": "f41cef37",
   "metadata": {},
   "outputs": [
    {
     "data": {
      "text/plain": [
       "array(['c', 'p', 'l', 'n'], dtype='<U1')"
      ]
     },
     "execution_count": 53,
     "metadata": {},
     "output_type": "execute_result"
    }
   ],
   "source": [
    "np.vectorize(lambda s: s[0])(names)"
   ]
  },
  {
   "cell_type": "code",
   "execution_count": 54,
   "id": "bef42a6e",
   "metadata": {},
   "outputs": [
    {
     "data": {
      "text/plain": [
       "array([False,  True, False, False])"
      ]
     },
     "execution_count": 54,
     "metadata": {},
     "output_type": "execute_result"
    }
   ],
   "source": [
    "first_letter_p"
   ]
  },
  {
   "cell_type": "code",
   "execution_count": 55,
   "id": "bcd72eb1",
   "metadata": {},
   "outputs": [
    {
     "data": {
      "text/plain": [
       "array(['prit'], dtype='<U4')"
      ]
     },
     "execution_count": 55,
     "metadata": {},
     "output_type": "execute_result"
    }
   ],
   "source": [
    "names[first_letter_p]"
   ]
  },
  {
   "cell_type": "code",
   "execution_count": 63,
   "id": "d2c10e7d",
   "metadata": {},
   "outputs": [],
   "source": [
    "#statistic"
   ]
  },
  {
   "cell_type": "code",
   "execution_count": 59,
   "id": "b6981049",
   "metadata": {},
   "outputs": [],
   "source": [
    "a1=2*np.random.randn(10000)+10"
   ]
  },
  {
   "cell_type": "code",
   "execution_count": 60,
   "id": "c97beb48",
   "metadata": {},
   "outputs": [
    {
     "data": {
      "text/plain": [
       "9.9868289318012"
      ]
     },
     "execution_count": 60,
     "metadata": {},
     "output_type": "execute_result"
    }
   ],
   "source": [
    "np.mean(a1) #=10"
   ]
  },
  {
   "cell_type": "code",
   "execution_count": 61,
   "id": "995a149f",
   "metadata": {},
   "outputs": [
    {
     "data": {
      "text/plain": [
       "2.0033384264161906"
      ]
     },
     "execution_count": 61,
     "metadata": {},
     "output_type": "execute_result"
    }
   ],
   "source": [
    "np.std(a1) #=2"
   ]
  },
  {
   "cell_type": "code",
   "execution_count": 62,
   "id": "cc8c8841",
   "metadata": {},
   "outputs": [
    {
     "data": {
      "text/plain": [
       "11.680679137089825"
      ]
     },
     "execution_count": 62,
     "metadata": {},
     "output_type": "execute_result"
    }
   ],
   "source": [
    "np.percentile(a1,80) #80% are below that number "
   ]
  },
  {
   "cell_type": "code",
   "execution_count": 64,
   "id": "0fd3721f",
   "metadata": {},
   "outputs": [],
   "source": [
    "#intigral & derivative"
   ]
  },
  {
   "cell_type": "code",
   "execution_count": 68,
   "id": "a0dd8adf",
   "metadata": {},
   "outputs": [
    {
     "data": {
      "text/plain": [
       "[<matplotlib.lines.Line2D at 0x20df31aff10>]"
      ]
     },
     "execution_count": 68,
     "metadata": {},
     "output_type": "execute_result"
    },
    {
     "data": {
      "image/png": "[encoded data removed]",
      "text/plain": [
       "<Figure size 432x288 with 1 Axes>"
      ]
     },
     "metadata": {
      "needs_background": "light"
     },
     "output_type": "display_data"
    }
   ],
   "source": [
    "x=np.linspace(1,10,101)\n",
    "y=1/x**2*np.sin(x)\n",
    "plt.plot(x,y)"
   ]
  },
  {
   "cell_type": "code",
   "execution_count": 69,
   "id": "11f15eb2",
   "metadata": {},
   "outputs": [
    {
     "data": {
      "text/plain": [
       "[<matplotlib.lines.Line2D at 0x20df3207dc0>]"
      ]
     },
     "execution_count": 69,
     "metadata": {},
     "output_type": "execute_result"
    },
    {
     "data": {
      "image/png": "[encoded data removed]",
      "text/plain": [
       "<Figure size 432x288 with 1 Axes>"
      ]
     },
     "metadata": {
      "needs_background": "light"
     },
     "output_type": "display_data"
    }
   ],
   "source": [
    "dydx=np.gradient(y,x)\n",
    "plt.plot(x,y)\n",
    "plt.plot(x,dydx)"
   ]
  },
  {
   "cell_type": "code",
   "execution_count": 70,
   "id": "786761e0",
   "metadata": {},
   "outputs": [
    {
     "data": {
      "text/plain": [
       "array([ 1,  3,  6, 10, 15], dtype=int32)"
      ]
     },
     "execution_count": 70,
     "metadata": {},
     "output_type": "execute_result"
    }
   ],
   "source": [
    "np.cumsum([1,2,3,4,5]) # cumulative sum"
   ]
  },
  {
   "cell_type": "code",
   "execution_count": 71,
   "id": "26d2b71f",
   "metadata": {},
   "outputs": [],
   "source": [
    "y_int=np.cumsum(y)*(x[1]-x[0])  #delta x=(x[1]-x[0])"
   ]
  },
  {
   "cell_type": "code",
   "execution_count": 72,
   "id": "c4085cce",
   "metadata": {},
   "outputs": [
    {
     "data": {
      "text/plain": [
       "[<matplotlib.lines.Line2D at 0x20df32751c0>]"
      ]
     },
     "execution_count": 72,
     "metadata": {},
     "output_type": "execute_result"
    },
    {
     "data": {
      "image/png": "[encoded data removed]",
      "text/plain": [
       "<Figure size 432x288 with 1 Axes>"
      ]
     },
     "metadata": {
      "needs_background": "light"
     },
     "output_type": "display_data"
    }
   ],
   "source": [
    "plt.plot(x,y)\n",
    "plt.plot(x,dydx)\n",
    "plt.plot(x,y_int)"
   ]
  },
  {
   "cell_type": "code",
   "execution_count": 103,
   "id": "a38625ac",
   "metadata": {},
   "outputs": [],
   "source": [
    "#example 1"
   ]
  },
  {
   "cell_type": "code",
   "execution_count": 82,
   "id": "855c54a7",
   "metadata": {},
   "outputs": [
    {
     "data": {
      "text/plain": [
       "[<matplotlib.lines.Line2D at 0x20df43b19a0>]"
      ]
     },
     "execution_count": 82,
     "metadata": {},
     "output_type": "execute_result"
    },
    {
     "data": {
      "image/png": "[encoded data removed]",
      "text/plain": [
       "<Figure size 432x288 with 1 Axes>"
      ]
     },
     "metadata": {
      "needs_background": "light"
     },
     "output_type": "display_data"
    }
   ],
   "source": [
    "x=np.linspace(0,10,10001)\n",
    "y=np.exp(-x/10)*np.sin(x)\n",
    "plt.plot(x,y)"
   ]
  },
  {
   "cell_type": "code",
   "execution_count": 83,
   "id": "712990c7",
   "metadata": {},
   "outputs": [
    {
     "data": {
      "text/plain": [
       "-0.2956023068963138"
      ]
     },
     "execution_count": 83,
     "metadata": {},
     "output_type": "execute_result"
    }
   ],
   "source": [
    "np.mean(y[(x>=4) & (x<=7)])"
   ]
  },
  {
   "cell_type": "code",
   "execution_count": 84,
   "id": "9530f867",
   "metadata": {},
   "outputs": [
    {
     "data": {
      "text/plain": [
       "0.31448753875085117"
      ]
     },
     "execution_count": 84,
     "metadata": {},
     "output_type": "execute_result"
    }
   ],
   "source": [
    "np.std(y[(x>=4) & (x<=7)])"
   ]
  },
  {
   "cell_type": "code",
   "execution_count": 85,
   "id": "e1ec17eb",
   "metadata": {},
   "outputs": [
    {
     "data": {
      "text/plain": [
       "[<matplotlib.lines.Line2D at 0x20df440c910>]"
      ]
     },
     "execution_count": 85,
     "metadata": {},
     "output_type": "execute_result"
    },
    {
     "data": {
      "image/png": "[encoded data removed]",
      "text/plain": [
       "<Figure size 432x288 with 1 Axes>"
      ]
     },
     "metadata": {
      "needs_background": "light"
     },
     "output_type": "display_data"
    }
   ],
   "source": [
    "dydx=np.gradient(y,x)\n",
    "plt.plot(x,dydx)"
   ]
  },
  {
   "cell_type": "code",
   "execution_count": 87,
   "id": "55366c59",
   "metadata": {
    "scrolled": true
   },
   "outputs": [
    {
     "data": {
      "text/plain": [
       "array([], dtype=float64)"
      ]
     },
     "execution_count": 87,
     "metadata": {},
     "output_type": "execute_result"
    }
   ],
   "source": [
    "x[dydx==0]"
   ]
  },
  {
   "cell_type": "code",
   "execution_count": 89,
   "id": "883f3cae",
   "metadata": {},
   "outputs": [],
   "source": [
    "#dy/dx=0"
   ]
  },
  {
   "cell_type": "code",
   "execution_count": 90,
   "id": "12333d19",
   "metadata": {},
   "outputs": [
    {
     "data": {
      "text/plain": [
       "array([ 0.99989984,  0.99979935,  0.9995979 , ..., -0.28918296,\n",
       "       -0.28892346, -0.28879364])"
      ]
     },
     "execution_count": 90,
     "metadata": {},
     "output_type": "execute_result"
    }
   ],
   "source": [
    "dydx"
   ]
  },
  {
   "cell_type": "code",
   "execution_count": 91,
   "id": "08da59de",
   "metadata": {},
   "outputs": [
    {
     "data": {
      "text/plain": [
       "array([ 0.99979935,  0.9995979 ,  0.99939548, ..., -0.28918296,\n",
       "       -0.28892346, -0.28879364])"
      ]
     },
     "execution_count": 91,
     "metadata": {},
     "output_type": "execute_result"
    }
   ],
   "source": [
    "dydx[1:]"
   ]
  },
  {
   "cell_type": "code",
   "execution_count": 92,
   "id": "67c7566e",
   "metadata": {},
   "outputs": [
    {
     "data": {
      "text/plain": [
       "array([ 0.99989984,  0.99979935,  0.9995979 , ..., -0.28944223,\n",
       "       -0.28918296, -0.28892346])"
      ]
     },
     "execution_count": 92,
     "metadata": {},
     "output_type": "execute_result"
    }
   ],
   "source": [
    "dydx[:-1]"
   ]
  },
  {
   "cell_type": "code",
   "execution_count": 93,
   "id": "04081ede",
   "metadata": {},
   "outputs": [
    {
     "data": {
      "text/plain": [
       "array([False, False, False, ..., False, False, False])"
      ]
     },
     "execution_count": 93,
     "metadata": {},
     "output_type": "execute_result"
    }
   ],
   "source": [
    "dydx[1:]*dydx[:-1]<0"
   ]
  },
  {
   "cell_type": "code",
   "execution_count": 95,
   "id": "7681b9c6",
   "metadata": {
    "scrolled": true
   },
   "outputs": [
    {
     "ename": "IndexError",
     "evalue": "boolean index did not match indexed array along dimension 0; dimension is 10001 but corresponding boolean dimension is 10000",
     "output_type": "error",
     "traceback": [
      "\u001b[1;31m---------------------------------------------------------------------------\u001b[0m",
      "\u001b[1;31mIndexError\u001b[0m                                Traceback (most recent call last)",
      "\u001b[1;32m<ipython-input-95-e275d3a9ae00>\u001b[0m in \u001b[0;36m<module>\u001b[1;34m\u001b[0m\n\u001b[1;32m----> 1\u001b[1;33m \u001b[0mx\u001b[0m\u001b[1;33m[\u001b[0m\u001b[1;33m(\u001b[0m\u001b[0mdydx\u001b[0m\u001b[1;33m[\u001b[0m\u001b[1;36m1\u001b[0m\u001b[1;33m:\u001b[0m\u001b[1;33m]\u001b[0m\u001b[1;33m*\u001b[0m\u001b[0mdydx\u001b[0m\u001b[1;33m[\u001b[0m\u001b[1;33m:\u001b[0m\u001b[1;33m-\u001b[0m\u001b[1;36m1\u001b[0m\u001b[1;33m]\u001b[0m\u001b[1;33m)\u001b[0m\u001b[1;33m<\u001b[0m\u001b[1;36m0\u001b[0m\u001b[1;33m]\u001b[0m\u001b[1;33m\u001b[0m\u001b[1;33m\u001b[0m\u001b[0m\n\u001b[0m",
      "\u001b[1;31mIndexError\u001b[0m: boolean index did not match indexed array along dimension 0; dimension is 10001 but corresponding boolean dimension is 10000"
     ]
    }
   ],
   "source": [
    "x[(dydx[1:]*dydx[:-1])<0]"
   ]
  },
  {
   "cell_type": "code",
   "execution_count": 96,
   "id": "4017a11d",
   "metadata": {},
   "outputs": [
    {
     "data": {
      "text/plain": [
       "array([1.472, 4.613, 7.755])"
      ]
     },
     "execution_count": 96,
     "metadata": {},
     "output_type": "execute_result"
    }
   ],
   "source": [
    "x[1:][(dydx[1:]*dydx[:-1])<0]"
   ]
  },
  {
   "cell_type": "code",
   "execution_count": 104,
   "id": "2f151e9c",
   "metadata": {},
   "outputs": [],
   "source": [
    "#example 2"
   ]
  },
  {
   "cell_type": "code",
   "execution_count": 107,
   "id": "6706e54d",
   "metadata": {},
   "outputs": [],
   "source": [
    "n1=np.arange(0,10001,1)"
   ]
  },
  {
   "cell_type": "code",
   "execution_count": 106,
   "id": "31d7cf9f",
   "metadata": {},
   "outputs": [],
   "source": [
    "#sum of numbers from 0 to 10000 divided by 4 or 7"
   ]
  },
  {
   "cell_type": "code",
   "execution_count": 109,
   "id": "95f45014",
   "metadata": {},
   "outputs": [
    {
     "data": {
      "text/plain": [
       "17857858"
      ]
     },
     "execution_count": 109,
     "metadata": {},
     "output_type": "execute_result"
    }
   ],
   "source": [
    "np.cumsum(n1[(n1%4==0) | (n1%7==0)])[-1]"
   ]
  },
  {
   "cell_type": "code",
   "execution_count": 110,
   "id": "ff53e9dc",
   "metadata": {},
   "outputs": [
    {
     "data": {
      "text/plain": [
       "17857858"
      ]
     },
     "execution_count": 110,
     "metadata": {},
     "output_type": "execute_result"
    }
   ],
   "source": [
    "sum(n1[(n1%4==0) | (n1%7==0)])"
   ]
  },
  {
   "cell_type": "code",
   "execution_count": 111,
   "id": "d6365165",
   "metadata": {},
   "outputs": [],
   "source": [
    "#example 3"
   ]
  },
  {
   "cell_type": "code",
   "execution_count": 114,
   "id": "85559889",
   "metadata": {},
   "outputs": [],
   "source": [
    "theta=np.linspace(0,2*np.pi,10001)"
   ]
  },
  {
   "cell_type": "code",
   "execution_count": 118,
   "id": "6bcdea3c",
   "metadata": {},
   "outputs": [],
   "source": [
    "r=1+0.75*np.sin(3*theta)"
   ]
  },
  {
   "cell_type": "code",
   "execution_count": 122,
   "id": "b24ed3e4",
   "metadata": {
    "scrolled": true
   },
   "outputs": [
    {
     "data": {
      "text/plain": [
       "[<matplotlib.lines.Line2D at 0x20df45c3400>]"
      ]
     },
     "execution_count": 122,
     "metadata": {},
     "output_type": "execute_result"
    },
    {
     "data": {
      "image/png": "[encoded data removed]",
      "text/plain": [
       "<Figure size 432x288 with 1 Axes>"
      ]
     },
     "metadata": {
      "needs_background": "light"
     },
     "output_type": "display_data"
    }
   ],
   "source": [
    "y=r*np.sin(theta)\n",
    "x=r*np.cos(theta)\n",
    "plt.plot(x,y)"
   ]
  },
  {
   "cell_type": "code",
   "execution_count": 123,
   "id": "c1ac05ce",
   "metadata": {},
   "outputs": [
    {
     "data": {
      "text/plain": [
       "[<matplotlib.lines.Line2D at 0x20df4615df0>]"
      ]
     },
     "execution_count": 123,
     "metadata": {},
     "output_type": "execute_result"
    },
    {
     "data": {
      "image/png": "[encoded data removed]",
      "text/plain": [
       "<Figure size 432x288 with 1 Axes>"
      ]
     },
     "metadata": {
      "needs_background": "light"
     },
     "output_type": "display_data"
    }
   ],
   "source": [
    "plt.plot(theta,0.5*r**2)"
   ]
  },
  {
   "cell_type": "code",
   "execution_count": 125,
   "id": "64976548",
   "metadata": {},
   "outputs": [
    {
     "data": {
      "text/plain": [
       "4.025479746677269"
      ]
     },
     "execution_count": 125,
     "metadata": {},
     "output_type": "execute_result"
    }
   ],
   "source": [
    "0.5*sum(r**2)*(theta[1]-theta[0]) # area under 0.5*r**2"
   ]
  },
  {
   "cell_type": "code",
   "execution_count": 126,
   "id": "1b525774",
   "metadata": {},
   "outputs": [
    {
     "data": {
      "text/plain": [
       "11.626531059700897"
      ]
     },
     "execution_count": 126,
     "metadata": {},
     "output_type": "execute_result"
    }
   ],
   "source": [
    "#arc length of r(theta)\n",
    "dydx=np.gradient(r,theta)\n",
    "f=np.sqrt(r**2+dydx**2)\n",
    "sum(f)*(theta[1]-theta[0])"
   ]
  },
  {
   "cell_type": "code",
   "execution_count": 127,
   "id": "878a8aba",
   "metadata": {},
   "outputs": [],
   "source": [
    "#example 4 blac body radiation"
   ]
  },
  {
   "cell_type": "code",
   "execution_count": 138,
   "id": "31960481",
   "metadata": {},
   "outputs": [
    {
     "data": {
      "text/plain": [
       "'\\nP=A*sigma*epsilon*T**4\\nP/(A*sigma*epsilon)=T**4\\nT=T_0/(1+exp(-kt))\\np/(A*sigma*epsilon*T_0**4)=1/(1+exp(-kt))\\n'"
      ]
     },
     "execution_count": 138,
     "metadata": {},
     "output_type": "execute_result"
    }
   ],
   "source": [
    "'''\n",
    "p=A*sigma*epsilon*T**4\n",
    "P/(A*sigma*epsilon)=T**4\n",
    "T=T_0/(1+exp(-kt))\n",
    "P=p/(A*sigma*epsilon*T_0**4)=1/(1+exp(-kt))**4\n",
    "'''\n"
   ]
  },
  {
   "cell_type": "code",
   "execution_count": 142,
   "id": "c3526812",
   "metadata": {},
   "outputs": [],
   "source": [
    "kt=np.linspace(0,3,100)\n",
    "P=1/(1+np.exp(-kt))**4"
   ]
  },
  {
   "cell_type": "code",
   "execution_count": 147,
   "id": "f9738100",
   "metadata": {},
   "outputs": [
    {
     "data": {
      "text/plain": [
       "Text(0, 0.5, 'p/(A*sigma*epsilon*T_0**4)')"
      ]
     },
     "execution_count": 147,
     "metadata": {},
     "output_type": "execute_result"
    },
    {
     "data": {
      "image/png": "[encoded data removed]",
      "text/plain": [
       "<Figure size 432x288 with 1 Axes>"
      ]
     },
     "metadata": {
      "needs_background": "light"
     },
     "output_type": "display_data"
    }
   ],
   "source": [
    "plt.plot(kt,P)\n",
    "plt.xlabel('kt')\n",
    "plt.ylabel('\\(A*\\sigma*\\epsilon*T_0**4)')"
   ]
  },
  {
   "cell_type": "code",
   "execution_count": 146,
   "id": "efb4a388",
   "metadata": {},
   "outputs": [
    {
     "data": {
      "text/plain": [
       "Text(0, 0.5, '(k/(A*sigma*epsilon*T_0**4))*E')"
      ]
     },
     "execution_count": 146,
     "metadata": {},
     "output_type": "execute_result"
    },
    {
     "data": {
      "image/png": "[encoded data removed]",
      "text/plain": [
       "<Figure size 432x288 with 1 Axes>"
      ]
     },
     "metadata": {
      "needs_background": "light"
     },
     "output_type": "display_data"
    }
   ],
   "source": [
    "E=np.cumsum(P)*(kt[1]-kt[0])\n",
    "plt.plot(kt,E)\n",
    "plt.xlabel('kt')\n",
    "plt.ylabel('(k/(A*sigma*epsilon*T_0**4))*E')"
   ]
  },
  {
   "cell_type": "code",
   "execution_count": 1,
   "id": "87ec26e3",
   "metadata": {},
   "outputs": [],
   "source": [
    "#multidimensional aray"
   ]
  },
  {
   "cell_type": "code",
   "execution_count": 3,
   "id": "544fca6b",
   "metadata": {},
   "outputs": [
    {
     "data": {
      "text/plain": [
       "array([[ 6,  8, 10],\n",
       "       [12,  8, 16],\n",
       "       [18,  2, 14]])"
      ]
     },
     "execution_count": 3,
     "metadata": {},
     "output_type": "execute_result"
    }
   ],
   "source": [
    "a1 = np.array([[3,4,5],[6,4,8],[9,1,7]])\n",
    "a1*2"
   ]
  },
  {
   "cell_type": "code",
   "execution_count": 6,
   "id": "3b4227b5",
   "metadata": {},
   "outputs": [
    {
     "data": {
      "text/plain": [
       "array([[0.66666667, 0.5       , 0.4       ],\n",
       "       [0.33333333, 0.5       , 0.25      ],\n",
       "       [0.22222222, 2.        , 0.28571429]])"
      ]
     },
     "execution_count": 6,
     "metadata": {},
     "output_type": "execute_result"
    }
   ],
   "source": [
    "2/a1"
   ]
  },
  {
   "cell_type": "code",
   "execution_count": 7,
   "id": "90fa847f",
   "metadata": {},
   "outputs": [
    {
     "data": {
      "text/plain": [
       "array([3, 4, 5, 6, 4, 8, 9, 1, 7])"
      ]
     },
     "execution_count": 7,
     "metadata": {},
     "output_type": "execute_result"
    }
   ],
   "source": [
    "a1.ravel()"
   ]
  },
  {
   "cell_type": "code",
   "execution_count": 8,
   "id": "c3496336",
   "metadata": {},
   "outputs": [
    {
     "data": {
      "text/plain": [
       "array([[False, False, False],\n",
       "       [ True, False,  True],\n",
       "       [ True, False,  True]])"
      ]
     },
     "execution_count": 8,
     "metadata": {},
     "output_type": "execute_result"
    }
   ],
   "source": [
    "a1>5"
   ]
  },
  {
   "cell_type": "code",
   "execution_count": 9,
   "id": "53c7bb30",
   "metadata": {},
   "outputs": [],
   "source": [
    "a2=np.random.randn(3,3)"
   ]
  },
  {
   "cell_type": "code",
   "execution_count": 10,
   "id": "aad316e6",
   "metadata": {},
   "outputs": [
    {
     "data": {
      "text/plain": [
       "array([[-1.41760187, -0.51062746, -1.89315858],\n",
       "       [-1.64308937,  1.44502767, -0.80411518],\n",
       "       [-0.70098425, -0.58129105,  1.4636016 ]])"
      ]
     },
     "execution_count": 10,
     "metadata": {},
     "output_type": "execute_result"
    }
   ],
   "source": [
    "a2"
   ]
  },
  {
   "cell_type": "code",
   "execution_count": 12,
   "id": "57a1a632",
   "metadata": {},
   "outputs": [
    {
     "data": {
      "text/plain": [
       "array([6, 8, 9, 7])"
      ]
     },
     "execution_count": 12,
     "metadata": {},
     "output_type": "execute_result"
    }
   ],
   "source": [
    "a1[a1>5]"
   ]
  },
  {
   "cell_type": "code",
   "execution_count": 13,
   "id": "a7cd774e",
   "metadata": {},
   "outputs": [
    {
     "data": {
      "text/plain": [
       "array([[3, 4, 5],\n",
       "       [6, 4, 8],\n",
       "       [9, 1, 7]])"
      ]
     },
     "execution_count": 13,
     "metadata": {},
     "output_type": "execute_result"
    }
   ],
   "source": [
    "a1"
   ]
  },
  {
   "cell_type": "code",
   "execution_count": 14,
   "id": "cd0b264b",
   "metadata": {},
   "outputs": [
    {
     "data": {
      "text/plain": [
       "array([-1.64308937, -0.80411518, -0.70098425,  1.4636016 ])"
      ]
     },
     "execution_count": 14,
     "metadata": {},
     "output_type": "execute_result"
    }
   ],
   "source": [
    "a2[a1>5]"
   ]
  },
  {
   "cell_type": "code",
   "execution_count": 15,
   "id": "d5e2978f",
   "metadata": {},
   "outputs": [
    {
     "data": {
      "text/plain": [
       "array([3, 4, 5])"
      ]
     },
     "execution_count": 15,
     "metadata": {},
     "output_type": "execute_result"
    }
   ],
   "source": [
    "a1[0]"
   ]
  },
  {
   "cell_type": "code",
   "execution_count": 16,
   "id": "6f972639",
   "metadata": {},
   "outputs": [
    {
     "data": {
      "text/plain": [
       "array([3, 6, 9])"
      ]
     },
     "execution_count": 16,
     "metadata": {},
     "output_type": "execute_result"
    }
   ],
   "source": [
    "a1[:,0] #go across all rows and only take 0th element"
   ]
  },
  {
   "cell_type": "code",
   "execution_count": 19,
   "id": "907a68ef",
   "metadata": {},
   "outputs": [
    {
     "data": {
      "text/plain": [
       "array([6, 9])"
      ]
     },
     "execution_count": 19,
     "metadata": {},
     "output_type": "execute_result"
    }
   ],
   "source": [
    "a1[1:,0] #go across 1 to 2  rows and only take 0th element"
   ]
  },
  {
   "cell_type": "code",
   "execution_count": 20,
   "id": "33484e60",
   "metadata": {},
   "outputs": [
    {
     "data": {
      "text/plain": [
       "array([4, 5])"
      ]
     },
     "execution_count": 20,
     "metadata": {},
     "output_type": "execute_result"
    }
   ],
   "source": [
    "a1[0,1:] #go across 1 to 2 columns and only take 0th element"
   ]
  },
  {
   "cell_type": "code",
   "execution_count": 22,
   "id": "d8c50bd1",
   "metadata": {},
   "outputs": [
    {
     "data": {
      "text/plain": [
       "array([9, 1, 7])"
      ]
     },
     "execution_count": 22,
     "metadata": {},
     "output_type": "execute_result"
    }
   ],
   "source": [
    "a1[1:][1]"
   ]
  },
  {
   "cell_type": "code",
   "execution_count": 4,
   "id": "e19803fd",
   "metadata": {
    "scrolled": true
   },
   "outputs": [
    {
     "data": {
      "text/plain": [
       "array([[6, 4],\n",
       "       [9, 1]])"
      ]
     },
     "execution_count": 4,
     "metadata": {},
     "output_type": "execute_result"
    }
   ],
   "source": [
    "a1[1:,:2]"
   ]
  },
  {
   "cell_type": "code",
   "execution_count": 5,
   "id": "02f8ec05",
   "metadata": {},
   "outputs": [],
   "source": [
    "# 2d function"
   ]
  },
  {
   "cell_type": "code",
   "execution_count": 6,
   "id": "ed339b6f",
   "metadata": {},
   "outputs": [
    {
     "ename": "ValueError",
     "evalue": "operands could not be broadcast together with shapes (1001,) (501,) ",
     "output_type": "error",
     "traceback": [
      "\u001b[1;31m---------------------------------------------------------------------------\u001b[0m",
      "\u001b[1;31mValueError\u001b[0m                                Traceback (most recent call last)",
      "\u001b[1;32m<ipython-input-6-4aa5071e9940>\u001b[0m in \u001b[0;36m<module>\u001b[1;34m\u001b[0m\n\u001b[0;32m      1\u001b[0m \u001b[0mx\u001b[0m\u001b[1;33m=\u001b[0m\u001b[0mnp\u001b[0m\u001b[1;33m.\u001b[0m\u001b[0mlinspace\u001b[0m\u001b[1;33m(\u001b[0m\u001b[1;36m0\u001b[0m\u001b[1;33m,\u001b[0m\u001b[1;36m10\u001b[0m\u001b[1;33m,\u001b[0m\u001b[1;36m1001\u001b[0m\u001b[1;33m)\u001b[0m\u001b[1;33m\u001b[0m\u001b[1;33m\u001b[0m\u001b[0m\n\u001b[0;32m      2\u001b[0m \u001b[0my\u001b[0m\u001b[1;33m=\u001b[0m\u001b[0mnp\u001b[0m\u001b[1;33m.\u001b[0m\u001b[0mlinspace\u001b[0m\u001b[1;33m(\u001b[0m\u001b[1;36m0\u001b[0m\u001b[1;33m,\u001b[0m\u001b[1;36m5\u001b[0m\u001b[1;33m,\u001b[0m\u001b[1;36m501\u001b[0m\u001b[1;33m)\u001b[0m\u001b[1;33m\u001b[0m\u001b[1;33m\u001b[0m\u001b[0m\n\u001b[1;32m----> 3\u001b[1;33m \u001b[0mz\u001b[0m\u001b[1;33m=\u001b[0m\u001b[0mx\u001b[0m\u001b[1;33m**\u001b[0m\u001b[1;36m2\u001b[0m\u001b[1;33m+\u001b[0m\u001b[0my\u001b[0m\u001b[1;33m**\u001b[0m\u001b[1;36m2\u001b[0m\u001b[1;33m\u001b[0m\u001b[1;33m\u001b[0m\u001b[0m\n\u001b[0m",
      "\u001b[1;31mValueError\u001b[0m: operands could not be broadcast together with shapes (1001,) (501,) "
     ]
    }
   ],
   "source": [
    "x=np.linspace(0,10,1001)\n",
    "y=np.linspace(0,5,501)\n",
    "z=x**2+y**2"
   ]
  },
  {
   "cell_type": "code",
   "execution_count": 3,
   "id": "e1009bf7",
   "metadata": {},
   "outputs": [],
   "source": [
    "x=np.linspace(0,10,1001)\n",
    "y=np.linspace(0,10,1001)\n",
    "z=x**2+y**2"
   ]
  },
  {
   "cell_type": "code",
   "execution_count": 4,
   "id": "5db00e22",
   "metadata": {},
   "outputs": [],
   "source": [
    "xv,yv=np.meshgrid(x,y)"
   ]
  },
  {
   "cell_type": "code",
   "execution_count": null,
   "id": "e8f84248",
   "metadata": {},
   "outputs": [],
   "source": []
  },
  {
   "cell_type": "code",
   "execution_count": 5,
   "id": "f83a35ed",
   "metadata": {},
   "outputs": [
    {
     "data": {
      "text/plain": [
       "array([[ 0.  ,  0.01,  0.02, ...,  9.98,  9.99, 10.  ],\n",
       "       [ 0.  ,  0.01,  0.02, ...,  9.98,  9.99, 10.  ],\n",
       "       [ 0.  ,  0.01,  0.02, ...,  9.98,  9.99, 10.  ],\n",
       "       ...,\n",
       "       [ 0.  ,  0.01,  0.02, ...,  9.98,  9.99, 10.  ],\n",
       "       [ 0.  ,  0.01,  0.02, ...,  9.98,  9.99, 10.  ],\n",
       "       [ 0.  ,  0.01,  0.02, ...,  9.98,  9.99, 10.  ]])"
      ]
     },
     "execution_count": 5,
     "metadata": {},
     "output_type": "execute_result"
    }
   ],
   "source": [
    "xv"
   ]
  },
  {
   "cell_type": "code",
   "execution_count": 6,
   "id": "1562b5e0",
   "metadata": {},
   "outputs": [
    {
     "data": {
      "text/plain": [
       "array([[ 0.  ,  0.  ,  0.  , ...,  0.  ,  0.  ,  0.  ],\n",
       "       [ 0.01,  0.01,  0.01, ...,  0.01,  0.01,  0.01],\n",
       "       [ 0.02,  0.02,  0.02, ...,  0.02,  0.02,  0.02],\n",
       "       ...,\n",
       "       [ 9.98,  9.98,  9.98, ...,  9.98,  9.98,  9.98],\n",
       "       [ 9.99,  9.99,  9.99, ...,  9.99,  9.99,  9.99],\n",
       "       [10.  , 10.  , 10.  , ..., 10.  , 10.  , 10.  ]])"
      ]
     },
     "execution_count": 6,
     "metadata": {},
     "output_type": "execute_result"
    }
   ],
   "source": [
    "yv"
   ]
  },
  {
   "cell_type": "code",
   "execution_count": 7,
   "id": "14327b72",
   "metadata": {},
   "outputs": [],
   "source": [
    "zv=xv**2+yv**3"
   ]
  },
  {
   "cell_type": "code",
   "execution_count": 8,
   "id": "10701b6a",
   "metadata": {},
   "outputs": [
    {
     "data": {
      "text/plain": [
       "<matplotlib.colorbar.Colorbar at 0x16939ac6880>"
      ]
     },
     "execution_count": 8,
     "metadata": {},
     "output_type": "execute_result"
    },
    {
     "data": {
      "image/png": "[encoded data removed]",
      "text/plain": [
       "<Figure size 432x288 with 2 Axes>"
      ]
     },
     "metadata": {
      "needs_background": "light"
     },
     "output_type": "display_data"
    }
   ],
   "source": [
    "plt.contourf(xv,yv,zv,levels=50,cmap='magma')\n",
    "plt.colorbar()"
   ]
  },
  {
   "cell_type": "code",
   "execution_count": 9,
   "id": "f115efbf",
   "metadata": {},
   "outputs": [],
   "source": [
    "#basic linear algebra"
   ]
  },
  {
   "cell_type": "code",
   "execution_count": null,
   "id": "de080e38",
   "metadata": {},
   "outputs": [],
   "source": [
    "#matrix operation"
   ]
  },
  {
   "cell_type": "code",
   "execution_count": 10,
   "id": "b7179c52",
   "metadata": {},
   "outputs": [
    {
     "data": {
      "text/plain": [
       "array([[1, 2, 5],\n",
       "       [2, 4, 6],\n",
       "       [3, 6, 8]])"
      ]
     },
     "execution_count": 10,
     "metadata": {},
     "output_type": "execute_result"
    }
   ],
   "source": [
    "a=np.array([[1,2,5],[2,4,6],[3,6,8]])\n",
    "a"
   ]
  },
  {
   "cell_type": "code",
   "execution_count": 11,
   "id": "c61f07f3",
   "metadata": {},
   "outputs": [],
   "source": [
    "b1=np.array([1,2,3])\n",
    "b2=np.array([-1,3,-4])"
   ]
  },
  {
   "cell_type": "code",
   "execution_count": 12,
   "id": "b05ed28e",
   "metadata": {},
   "outputs": [
    {
     "data": {
      "text/plain": [
       "array([20, 28, 39])"
      ]
     },
     "execution_count": 12,
     "metadata": {},
     "output_type": "execute_result"
    }
   ],
   "source": [
    "a@b1    # matrix multiplication"
   ]
  },
  {
   "cell_type": "code",
   "execution_count": 13,
   "id": "96b49182",
   "metadata": {},
   "outputs": [
    {
     "data": {
      "text/plain": [
       "array([[1, 2, 3],\n",
       "       [2, 4, 6],\n",
       "       [5, 6, 8]])"
      ]
     },
     "execution_count": 13,
     "metadata": {},
     "output_type": "execute_result"
    }
   ],
   "source": [
    "a.T   # transpose"
   ]
  },
  {
   "cell_type": "code",
   "execution_count": 15,
   "id": "9164683c",
   "metadata": {},
   "outputs": [
    {
     "data": {
      "text/plain": [
       "-7"
      ]
     },
     "execution_count": 15,
     "metadata": {},
     "output_type": "execute_result"
    }
   ],
   "source": [
    "np.dot(b1,b2)      # vector dot product"
   ]
  },
  {
   "cell_type": "code",
   "execution_count": 16,
   "id": "ce5eff18",
   "metadata": {},
   "outputs": [
    {
     "data": {
      "text/plain": [
       "array([-17,   1,   5])"
      ]
     },
     "execution_count": 16,
     "metadata": {},
     "output_type": "execute_result"
    }
   ],
   "source": [
    "np.cross(b1,b2)"
   ]
  },
  {
   "cell_type": "code",
   "execution_count": 17,
   "id": "885c86ea",
   "metadata": {},
   "outputs": [],
   "source": [
    "#system of equation"
   ]
  },
  {
   "cell_type": "code",
   "execution_count": 18,
   "id": "912ff0e9",
   "metadata": {},
   "outputs": [],
   "source": [
    "#3x+2y+z=4\n",
    "#5x-5y+4z=3\n",
    "#6x+z=0"
   ]
  },
  {
   "cell_type": "code",
   "execution_count": 19,
   "id": "5324b79b",
   "metadata": {},
   "outputs": [],
   "source": [
    "a=np.array([[3,2,1],[5,-5,4],[6,0,1]])\n",
    "b=np.array([4,3,0])"
   ]
  },
  {
   "cell_type": "code",
   "execution_count": 20,
   "id": "5b435555",
   "metadata": {},
   "outputs": [
    {
     "data": {
      "text/plain": [
       "array([-0.49056604,  1.26415094,  2.94339623])"
      ]
     },
     "execution_count": 20,
     "metadata": {},
     "output_type": "execute_result"
    }
   ],
   "source": [
    "np.linalg.solve(a,b)"
   ]
  },
  {
   "cell_type": "code",
   "execution_count": 21,
   "id": "568a4802",
   "metadata": {},
   "outputs": [],
   "source": [
    "#finding eigen value"
   ]
  },
  {
   "cell_type": "code",
   "execution_count": 22,
   "id": "2fcaa438",
   "metadata": {},
   "outputs": [],
   "source": [
    "a=np.array([[1,2,3],[4,5,3],[2,1,7]])"
   ]
  },
  {
   "cell_type": "code",
   "execution_count": 23,
   "id": "ff82986e",
   "metadata": {},
   "outputs": [
    {
     "data": {
      "text/plain": [
       "(array([-0.74541498,  9.51620328,  4.2292117 ]),\n",
       " array([[-0.84668748,  0.37483348, -0.15130905],\n",
       "        [ 0.50967087,  0.71997324, -0.88987535],\n",
       "        [ 0.15282643,  0.58407054,  0.43038057]]))"
      ]
     },
     "execution_count": 23,
     "metadata": {},
     "output_type": "execute_result"
    }
   ],
   "source": [
    "np.linalg.eig(a)"
   ]
  },
  {
   "cell_type": "code",
   "execution_count": 24,
   "id": "b0e69588",
   "metadata": {},
   "outputs": [],
   "source": [
    "w,v=np.linalg.eig(a)"
   ]
  },
  {
   "cell_type": "code",
   "execution_count": 25,
   "id": "d9a54393",
   "metadata": {},
   "outputs": [
    {
     "data": {
      "text/plain": [
       "array([-0.74541498,  9.51620328,  4.2292117 ])"
      ]
     },
     "execution_count": 25,
     "metadata": {},
     "output_type": "execute_result"
    }
   ],
   "source": [
    "w  #eigenvalue"
   ]
  },
  {
   "cell_type": "code",
   "execution_count": 26,
   "id": "4579fa60",
   "metadata": {},
   "outputs": [
    {
     "data": {
      "text/plain": [
       "array([[-0.84668748,  0.37483348, -0.15130905],\n",
       "       [ 0.50967087,  0.71997324, -0.88987535],\n",
       "       [ 0.15282643,  0.58407054,  0.43038057]])"
      ]
     },
     "execution_count": 26,
     "metadata": {},
     "output_type": "execute_result"
    }
   ],
   "source": [
    "v "
   ]
  },
  {
   "cell_type": "code",
   "execution_count": 28,
   "id": "da0fd4be",
   "metadata": {},
   "outputs": [],
   "source": [
    "#eigenvectors\n",
    "v1=v[:,0]\n",
    "v2=v[:,1]\n",
    "v3=v[:,2]"
   ]
  },
  {
   "cell_type": "code",
   "execution_count": 30,
   "id": "b1ab9c34",
   "metadata": {},
   "outputs": [
    {
     "data": {
      "text/plain": [
       "array([-0.84668748,  0.50967087,  0.15282643])"
      ]
     },
     "execution_count": 30,
     "metadata": {},
     "output_type": "execute_result"
    }
   ],
   "source": [
    "v1"
   ]
  },
  {
   "cell_type": "code",
   "execution_count": 31,
   "id": "c3857684",
   "metadata": {},
   "outputs": [
    {
     "data": {
      "text/plain": [
       "array([ 0.63113353, -0.3799163 , -0.11391911])"
      ]
     },
     "execution_count": 31,
     "metadata": {},
     "output_type": "execute_result"
    }
   ],
   "source": [
    "a@v1"
   ]
  },
  {
   "cell_type": "code",
   "execution_count": 33,
   "id": "c97bce89",
   "metadata": {},
   "outputs": [
    {
     "data": {
      "text/plain": [
       "array([ 0.63113353, -0.3799163 , -0.11391911])"
      ]
     },
     "execution_count": 33,
     "metadata": {},
     "output_type": "execute_result"
    }
   ],
   "source": [
    "w[0]*v1"
   ]
  },
  {
   "cell_type": "code",
   "execution_count": 37,
   "id": "9fe1a1a9",
   "metadata": {},
   "outputs": [],
   "source": [
    "#example1"
   ]
  },
  {
   "cell_type": "code",
   "execution_count": 44,
   "id": "1c113cea",
   "metadata": {},
   "outputs": [],
   "source": [
    "x=np.linspace(-2,2,1001)\n",
    "y=np.linspace(-2,2,1001)\n",
    "xv,yv=np.meshgrid(x,y)"
   ]
  },
  {
   "cell_type": "code",
   "execution_count": 46,
   "id": "0bde2e74",
   "metadata": {},
   "outputs": [
    {
     "data": {
      "text/plain": [
       "<matplotlib.colorbar.Colorbar at 0x1693b40e730>"
      ]
     },
     "execution_count": 46,
     "metadata": {},
     "output_type": "execute_result"
    },
    {
     "data": {
      "image/png": "[encoded data removed]",
      "text/plain": [
       "<Figure size 432x288 with 2 Axes>"
      ]
     },
     "metadata": {
      "needs_background": "light"
     },
     "output_type": "display_data"
    }
   ],
   "source": [
    "zv=np.exp(-(xv**2+yv**2))*np.sin(xv)\n",
    "plt.contourf(xv,yv,zv,levels=100,cmap='plasma')\n",
    "plt.colorbar()"
   ]
  },
  {
   "cell_type": "code",
   "execution_count": 48,
   "id": "bae78e16",
   "metadata": {},
   "outputs": [
    {
     "data": {
      "text/plain": [
       "array([[-0.00030504, -0.00031052, -0.00031608, ...,  0.00031608,\n",
       "         0.00031052,  0.00030504],\n",
       "       [-0.00030995, -0.00031552, -0.00032117, ...,  0.00032117,\n",
       "         0.00031552,  0.00030995],\n",
       "       [-0.00031493, -0.00032059, -0.00032633, ...,  0.00032633,\n",
       "         0.00032059,  0.00031493],\n",
       "       ...,\n",
       "       [-0.00031493, -0.00032059, -0.00032633, ...,  0.00032633,\n",
       "         0.00032059,  0.00031493],\n",
       "       [-0.00030995, -0.00031552, -0.00032117, ...,  0.00032117,\n",
       "         0.00031552,  0.00030995],\n",
       "       [-0.00030504, -0.00031052, -0.00031608, ...,  0.00031608,\n",
       "         0.00031052,  0.00030504]])"
      ]
     },
     "execution_count": 48,
     "metadata": {},
     "output_type": "execute_result"
    }
   ],
   "source": [
    "zv"
   ]
  },
  {
   "cell_type": "code",
   "execution_count": 49,
   "id": "3848468d",
   "metadata": {},
   "outputs": [
    {
     "data": {
      "text/plain": [
       "array([-0.00030504, -0.00031052, -0.00031608, ...,  0.00031608,\n",
       "        0.00031052,  0.00030504])"
      ]
     },
     "execution_count": 49,
     "metadata": {},
     "output_type": "execute_result"
    }
   ],
   "source": [
    "zv.ravel()"
   ]
  },
  {
   "cell_type": "code",
   "execution_count": 50,
   "id": "1e8dd4e6",
   "metadata": {},
   "outputs": [],
   "source": [
    "#volume under plot"
   ]
  },
  {
   "cell_type": "code",
   "execution_count": 57,
   "id": "55c792bd",
   "metadata": {},
   "outputs": [
    {
     "data": {
      "text/plain": [
       "92886.16090285697"
      ]
     },
     "execution_count": 57,
     "metadata": {},
     "output_type": "execute_result"
    }
   ],
   "source": [
    "np.abs(zv.ravel()).sum()"
   ]
  },
  {
   "cell_type": "code",
   "execution_count": 61,
   "id": "89302385",
   "metadata": {},
   "outputs": [
    {
     "data": {
      "text/plain": [
       "1.486178574445714"
      ]
     },
     "execution_count": 61,
     "metadata": {},
     "output_type": "execute_result"
    }
   ],
   "source": [
    "np.abs(zv.ravel()).sum()*(xv[0][1]-xv[0][0])*(yv[1][0]-yv[0][0])"
   ]
  },
  {
   "cell_type": "code",
   "execution_count": 59,
   "id": "e5cdc582",
   "metadata": {},
   "outputs": [
    {
     "data": {
      "text/plain": [
       "array([[-2.   , -1.996, -1.992, ...,  1.992,  1.996,  2.   ],\n",
       "       [-2.   , -1.996, -1.992, ...,  1.992,  1.996,  2.   ],\n",
       "       [-2.   , -1.996, -1.992, ...,  1.992,  1.996,  2.   ],\n",
       "       ...,\n",
       "       [-2.   , -1.996, -1.992, ...,  1.992,  1.996,  2.   ],\n",
       "       [-2.   , -1.996, -1.992, ...,  1.992,  1.996,  2.   ],\n",
       "       [-2.   , -1.996, -1.992, ...,  1.992,  1.996,  2.   ]])"
      ]
     },
     "execution_count": 59,
     "metadata": {},
     "output_type": "execute_result"
    }
   ],
   "source": [
    "xv"
   ]
  },
  {
   "cell_type": "code",
   "execution_count": 60,
   "id": "be47bcc5",
   "metadata": {},
   "outputs": [
    {
     "data": {
      "text/plain": [
       "array([[-2.   , -2.   , -2.   , ..., -2.   , -2.   , -2.   ],\n",
       "       [-1.996, -1.996, -1.996, ..., -1.996, -1.996, -1.996],\n",
       "       [-1.992, -1.992, -1.992, ..., -1.992, -1.992, -1.992],\n",
       "       ...,\n",
       "       [ 1.992,  1.992,  1.992, ...,  1.992,  1.992,  1.992],\n",
       "       [ 1.996,  1.996,  1.996, ...,  1.996,  1.996,  1.996],\n",
       "       [ 2.   ,  2.   ,  2.   , ...,  2.   ,  2.   ,  2.   ]])"
      ]
     },
     "execution_count": 60,
     "metadata": {},
     "output_type": "execute_result"
    }
   ],
   "source": [
    "yv"
   ]
  },
  {
   "cell_type": "code",
   "execution_count": 65,
   "id": "ece0f72b",
   "metadata": {},
   "outputs": [
    {
     "data": {
      "text/plain": [
       "0.0040000000000000036"
      ]
     },
     "execution_count": 65,
     "metadata": {},
     "output_type": "execute_result"
    }
   ],
   "source": [
    "np.diff(x)[0]"
   ]
  },
  {
   "cell_type": "code",
   "execution_count": 69,
   "id": "eeab4acc",
   "metadata": {},
   "outputs": [
    {
     "data": {
      "text/plain": [
       "1.4861785744460012"
      ]
     },
     "execution_count": 69,
     "metadata": {},
     "output_type": "execute_result"
    }
   ],
   "source": [
    "sum(np.abs(zv.ravel()))*np.diff(x)[0]*np.diff(y)[0]"
   ]
  },
  {
   "cell_type": "code",
   "execution_count": 70,
   "id": "519cbe9c",
   "metadata": {},
   "outputs": [
    {
     "data": {
      "text/plain": [
       "1.486178574445714"
      ]
     },
     "execution_count": 70,
     "metadata": {},
     "output_type": "execute_result"
    }
   ],
   "source": [
    "np.abs(zv.ravel()).sum()*(x[1]-x[0])*(y[1]-y[0])"
   ]
  },
  {
   "cell_type": "code",
   "execution_count": 74,
   "id": "3eac86c1",
   "metadata": {},
   "outputs": [
    {
     "data": {
      "text/plain": [
       "array([-0.00030504, -0.00031052, -0.00031608, ...,  0.00031608,\n",
       "        0.00031052,  0.00030504])"
      ]
     },
     "execution_count": 74,
     "metadata": {},
     "output_type": "execute_result"
    }
   ],
   "source": [
    "zv[xv**2+yv**2>0.5**2]"
   ]
  },
  {
   "cell_type": "code",
   "execution_count": 75,
   "id": "e2fb94d5",
   "metadata": {},
   "outputs": [
    {
     "data": {
      "text/plain": [
       "1.3447714662509203"
      ]
     },
     "execution_count": 75,
     "metadata": {},
     "output_type": "execute_result"
    }
   ],
   "source": [
    "sum(np.abs(zv[xv**2+yv**2>0.5**2].ravel()))*np.diff(x)[0]*np.diff(y)[0]"
   ]
  },
  {
   "cell_type": "code",
   "execution_count": 76,
   "id": "c95079f7",
   "metadata": {},
   "outputs": [],
   "source": [
    "#example2"
   ]
  },
  {
   "cell_type": "code",
   "execution_count": 77,
   "id": "63b820a6",
   "metadata": {},
   "outputs": [
    {
     "data": {
      "text/plain": [
       "array([ 0.78378378,  0.03603604, -0.67567568,  0.36036036])"
      ]
     },
     "execution_count": 77,
     "metadata": {},
     "output_type": "execute_result"
    }
   ],
   "source": [
    "a=np.array([[3,2,3,10],[2,-2,5,8],[3,3,4,9],[3,4,-3,-7]])\n",
    "b=np.array([4,1,3,2])\n",
    "np.linalg.solve(a,b)"
   ]
  },
  {
   "cell_type": "code",
   "execution_count": 78,
   "id": "e2d83d6b",
   "metadata": {},
   "outputs": [],
   "source": [
    "#example3"
   ]
  },
  {
   "cell_type": "code",
   "execution_count": 2,
   "id": "f4300670",
   "metadata": {
    "scrolled": true
   },
   "outputs": [],
   "source": [
    "z=np.linspace(0,4*np.pi,100)\n",
    "t=np.linspace(0,10,100)"
   ]
  },
  {
   "cell_type": "code",
   "execution_count": 3,
   "id": "b5d5b739",
   "metadata": {},
   "outputs": [],
   "source": [
    "tv,zv=np.meshgrid(t,z)\n",
    "Ex=np.cos(zv-tv)\n",
    "Ey=2*np.cos(zv-tv+np.pi/2)\n",
    "Ez=0*tv"
   ]
  },
  {
   "cell_type": "code",
   "execution_count": 4,
   "id": "f8d02580",
   "metadata": {},
   "outputs": [
    {
     "data": {
      "text/plain": [
       "[<matplotlib.lines.Line2D at 0x22666cdd670>]"
      ]
     },
     "execution_count": 4,
     "metadata": {},
     "output_type": "execute_result"
    },
    {
     "data": {
      "image/png": "[encoded data removed]",
      "text/plain": [
       "<Figure size 432x288 with 1 Axes>"
      ]
     },
     "metadata": {
      "needs_background": "light"
     },
     "output_type": "display_data"
    }
   ],
   "source": [
    "plt.plot(t,Ex[0])"
   ]
  },
  {
   "cell_type": "code",
   "execution_count": 5,
   "id": "99bf210c",
   "metadata": {},
   "outputs": [
    {
     "data": {
      "text/plain": [
       "array([[ 1.        ,  0.99490282,  0.97966323, ..., -0.93116473,\n",
       "        -0.88965286, -0.83907153],\n",
       "       [ 0.99195481,  0.99966402,  0.99718228, ..., -0.96982879,\n",
       "        -0.94030229, -0.90119001],\n",
       "       [ 0.9679487 ,  0.98834025,  0.9986563 , ..., -0.99288793,\n",
       "        -0.97582191, -0.948808  ],\n",
       "       ...,\n",
       "       [ 0.9679487 ,  0.93768952,  0.89787119, ..., -0.80975146,\n",
       "        -0.74645474, -0.67554839],\n",
       "       [ 0.99195481,  0.97413325,  0.94638102, ..., -0.87751789,\n",
       "        -0.82468857, -0.76345207],\n",
       "       [ 1.        ,  0.99490282,  0.97966323, ..., -0.93116473,\n",
       "        -0.88965286, -0.83907153]])"
      ]
     },
     "execution_count": 5,
     "metadata": {},
     "output_type": "execute_result"
    }
   ],
   "source": [
    "Ex"
   ]
  },
  {
   "cell_type": "code",
   "execution_count": 6,
   "id": "ea83c7ab",
   "metadata": {
    "scrolled": true
   },
   "outputs": [
    {
     "data": {
      "text/plain": [
       "[<matplotlib.lines.Line2D at 0x22667459d60>]"
      ]
     },
     "execution_count": 6,
     "metadata": {},
     "output_type": "execute_result"
    },
    {
     "data": {
      "image/png": "[encoded data removed]",
      "text/plain": [
       "<Figure size 432x288 with 1 Axes>"
      ]
     },
     "metadata": {
      "needs_background": "light"
     },
     "output_type": "display_data"
    }
   ],
   "source": [
    "plt.plot(t,Ex[zv==0])"
   ]
  },
  {
   "cell_type": "code",
   "execution_count": 18,
   "id": "6fb4aa4b",
   "metadata": {},
   "outputs": [
    {
     "data": {
      "text/plain": [
       "[<matplotlib.lines.Line2D at 0x226676c3100>]"
      ]
     },
     "execution_count": 18,
     "metadata": {},
     "output_type": "execute_result"
    },
    {
     "data": {
      "image/png": "[encoded data removed]",
      "text/plain": [
       "<Figure size 432x288 with 1 Axes>"
      ]
     },
     "metadata": {
      "needs_background": "light"
     },
     "output_type": "display_data"
    }
   ],
   "source": [
    "plt.plot(t,Ex[0])"
   ]
  },
  {
   "cell_type": "code",
   "execution_count": 7,
   "id": "2be0a060",
   "metadata": {
    "scrolled": false
   },
   "outputs": [
    {
     "data": {
      "text/plain": [
       "[<matplotlib.lines.Line2D at 0x226674c48b0>]"
      ]
     },
     "execution_count": 7,
     "metadata": {},
     "output_type": "execute_result"
    },
    {
     "data": {
      "image/png": "[encoded data removed]",
      "text/plain": [
       "<Figure size 432x288 with 1 Axes>"
      ]
     },
     "metadata": {
      "needs_background": "light"
     },
     "output_type": "display_data"
    }
   ],
   "source": [
    "plt.plot(t,Ex[tv==0])"
   ]
  },
  {
   "cell_type": "code",
   "execution_count": 19,
   "id": "50ecf9df",
   "metadata": {},
   "outputs": [
    {
     "data": {
      "text/plain": [
       "[<matplotlib.lines.Line2D at 0x2266771c8b0>]"
      ]
     },
     "execution_count": 19,
     "metadata": {},
     "output_type": "execute_result"
    },
    {
     "data": {
      "image/png": "[encoded data removed]",
      "text/plain": [
       "<Figure size 432x288 with 1 Axes>"
      ]
     },
     "metadata": {
      "needs_background": "light"
     },
     "output_type": "display_data"
    }
   ],
   "source": [
    "plt.plot(t,Ex[:,0])"
   ]
  },
  {
   "cell_type": "code",
   "execution_count": 8,
   "id": "55eef395",
   "metadata": {},
   "outputs": [],
   "source": [
    "E=np.array([Ex,Ey,Ez])"
   ]
  },
  {
   "cell_type": "code",
   "execution_count": 9,
   "id": "4746dcfc",
   "metadata": {
    "scrolled": true
   },
   "outputs": [
    {
     "data": {
      "text/plain": [
       "array([[[ 1.00000000e+00,  9.94902816e-01,  9.79663226e-01, ...,\n",
       "         -9.31164735e-01, -8.89652856e-01, -8.39071529e-01],\n",
       "        [ 9.91954813e-01,  9.99664020e-01,  9.97182283e-01, ...,\n",
       "         -9.69828789e-01, -9.40302293e-01, -9.01190009e-01],\n",
       "        [ 9.67948701e-01,  9.88340255e-01,  9.98656304e-01, ...,\n",
       "         -9.92887934e-01, -9.75821913e-01, -9.48808004e-01],\n",
       "        ...,\n",
       "        [ 9.67948701e-01,  9.37689522e-01,  8.97871191e-01, ...,\n",
       "         -8.09751458e-01, -7.46454741e-01, -6.75548390e-01],\n",
       "        [ 9.91954813e-01,  9.74133253e-01,  9.46381021e-01, ...,\n",
       "         -8.77517892e-01, -8.24688573e-01, -7.63452074e-01],\n",
       "        [ 1.00000000e+00,  9.94902816e-01,  9.79663226e-01, ...,\n",
       "         -9.31164735e-01, -8.89652856e-01, -8.39071529e-01]],\n",
       "\n",
       "       [[ 1.22464680e-16,  2.01676841e-01,  4.01297713e-01, ...,\n",
       "         -7.29197467e-01, -9.13274975e-01, -1.08804222e+00],\n",
       "        [-2.53184907e-01, -5.18400645e-02,  1.50033255e-01, ...,\n",
       "         -4.87574080e-01, -6.80680831e-01, -8.66848471e-01],\n",
       "        [-5.02295974e-01, -3.04522843e-01, -1.03645294e-01, ...,\n",
       "         -2.38105444e-01, -4.37134278e-01, -6.31706804e-01],\n",
       "        ...,\n",
       "        [ 5.02295974e-01,  6.94948515e-01,  8.80516495e-01, ...,\n",
       "         -1.17354604e+00, -1.33087237e+00, -1.47463131e+00],\n",
       "        [ 2.53184907e-01,  4.51948690e-01,  6.46105141e-01, ...,\n",
       "         -9.59087794e-01, -1.13117418e+00, -1.29172897e+00],\n",
       "        [ 1.10218212e-15,  2.01676841e-01,  4.01297713e-01, ...,\n",
       "         -7.29197467e-01, -9.13274975e-01, -1.08804222e+00]],\n",
       "\n",
       "       [[ 0.00000000e+00,  0.00000000e+00,  0.00000000e+00, ...,\n",
       "          0.00000000e+00,  0.00000000e+00,  0.00000000e+00],\n",
       "        [ 0.00000000e+00,  0.00000000e+00,  0.00000000e+00, ...,\n",
       "          0.00000000e+00,  0.00000000e+00,  0.00000000e+00],\n",
       "        [ 0.00000000e+00,  0.00000000e+00,  0.00000000e+00, ...,\n",
       "          0.00000000e+00,  0.00000000e+00,  0.00000000e+00],\n",
       "        ...,\n",
       "        [ 0.00000000e+00,  0.00000000e+00,  0.00000000e+00, ...,\n",
       "          0.00000000e+00,  0.00000000e+00,  0.00000000e+00],\n",
       "        [ 0.00000000e+00,  0.00000000e+00,  0.00000000e+00, ...,\n",
       "          0.00000000e+00,  0.00000000e+00,  0.00000000e+00],\n",
       "        [ 0.00000000e+00,  0.00000000e+00,  0.00000000e+00, ...,\n",
       "          0.00000000e+00,  0.00000000e+00,  0.00000000e+00]]])"
      ]
     },
     "execution_count": 9,
     "metadata": {},
     "output_type": "execute_result"
    }
   ],
   "source": [
    "E"
   ]
  },
  {
   "cell_type": "code",
   "execution_count": 11,
   "id": "a9b1b1b5",
   "metadata": {
    "scrolled": true
   },
   "outputs": [
    {
     "data": {
      "text/plain": [
       "array([[[ 1.00000000e+00,  1.22464680e-16,  0.00000000e+00],\n",
       "        [ 9.91954813e-01, -2.53184907e-01,  0.00000000e+00],\n",
       "        [ 9.67948701e-01, -5.02295974e-01,  0.00000000e+00],\n",
       "        ...,\n",
       "        [ 9.67948701e-01,  5.02295974e-01,  0.00000000e+00],\n",
       "        [ 9.91954813e-01,  2.53184907e-01,  0.00000000e+00],\n",
       "        [ 1.00000000e+00,  1.10218212e-15,  0.00000000e+00]],\n",
       "\n",
       "       [[ 9.94902816e-01,  2.01676841e-01,  0.00000000e+00],\n",
       "        [ 9.99664020e-01, -5.18400645e-02,  0.00000000e+00],\n",
       "        [ 9.88340255e-01, -3.04522843e-01,  0.00000000e+00],\n",
       "        ...,\n",
       "        [ 9.37689522e-01,  6.94948515e-01,  0.00000000e+00],\n",
       "        [ 9.74133253e-01,  4.51948690e-01,  0.00000000e+00],\n",
       "        [ 9.94902816e-01,  2.01676841e-01,  0.00000000e+00]],\n",
       "\n",
       "       [[ 9.79663226e-01,  4.01297713e-01,  0.00000000e+00],\n",
       "        [ 9.97182283e-01,  1.50033255e-01,  0.00000000e+00],\n",
       "        [ 9.98656304e-01, -1.03645294e-01,  0.00000000e+00],\n",
       "        ...,\n",
       "        [ 8.97871191e-01,  8.80516495e-01,  0.00000000e+00],\n",
       "        [ 9.46381021e-01,  6.46105141e-01,  0.00000000e+00],\n",
       "        [ 9.79663226e-01,  4.01297713e-01,  0.00000000e+00]],\n",
       "\n",
       "       ...,\n",
       "\n",
       "       [[-9.31164735e-01, -7.29197467e-01,  0.00000000e+00],\n",
       "        [-9.69828789e-01, -4.87574080e-01,  0.00000000e+00],\n",
       "        [-9.92887934e-01, -2.38105444e-01,  0.00000000e+00],\n",
       "        ...,\n",
       "        [-8.09751458e-01, -1.17354604e+00,  0.00000000e+00],\n",
       "        [-8.77517892e-01, -9.59087794e-01,  0.00000000e+00],\n",
       "        [-9.31164735e-01, -7.29197467e-01,  0.00000000e+00]],\n",
       "\n",
       "       [[-8.89652856e-01, -9.13274975e-01,  0.00000000e+00],\n",
       "        [-9.40302293e-01, -6.80680831e-01,  0.00000000e+00],\n",
       "        [-9.75821913e-01, -4.37134278e-01,  0.00000000e+00],\n",
       "        ...,\n",
       "        [-7.46454741e-01, -1.33087237e+00,  0.00000000e+00],\n",
       "        [-8.24688573e-01, -1.13117418e+00,  0.00000000e+00],\n",
       "        [-8.89652856e-01, -9.13274975e-01,  0.00000000e+00]],\n",
       "\n",
       "       [[-8.39071529e-01, -1.08804222e+00,  0.00000000e+00],\n",
       "        [-9.01190009e-01, -8.66848471e-01,  0.00000000e+00],\n",
       "        [-9.48808004e-01, -6.31706804e-01,  0.00000000e+00],\n",
       "        ...,\n",
       "        [-6.75548390e-01, -1.47463131e+00,  0.00000000e+00],\n",
       "        [-7.63452074e-01, -1.29172897e+00,  0.00000000e+00],\n",
       "        [-8.39071529e-01, -1.08804222e+00,  0.00000000e+00]]])"
      ]
     },
     "execution_count": 11,
     "metadata": {},
     "output_type": "execute_result"
    }
   ],
   "source": [
    "E.T"
   ]
  },
  {
   "cell_type": "code",
   "execution_count": 20,
   "id": "5f98719f",
   "metadata": {
    "scrolled": true
   },
   "outputs": [],
   "source": [
    "E=np.swapaxes(E,0,-1)"
   ]
  },
  {
   "cell_type": "code",
   "execution_count": 21,
   "id": "9168a787",
   "metadata": {
    "scrolled": true
   },
   "outputs": [
    {
     "data": {
      "text/plain": [
       "array([[[ 1.00000000e+00,  1.22464680e-16,  0.00000000e+00],\n",
       "        [ 9.91954813e-01, -2.53184907e-01,  0.00000000e+00],\n",
       "        [ 9.67948701e-01, -5.02295974e-01,  0.00000000e+00],\n",
       "        ...,\n",
       "        [ 9.67948701e-01,  5.02295974e-01,  0.00000000e+00],\n",
       "        [ 9.91954813e-01,  2.53184907e-01,  0.00000000e+00],\n",
       "        [ 1.00000000e+00,  1.10218212e-15,  0.00000000e+00]],\n",
       "\n",
       "       [[ 9.94902816e-01,  2.01676841e-01,  0.00000000e+00],\n",
       "        [ 9.99664020e-01, -5.18400645e-02,  0.00000000e+00],\n",
       "        [ 9.88340255e-01, -3.04522843e-01,  0.00000000e+00],\n",
       "        ...,\n",
       "        [ 9.37689522e-01,  6.94948515e-01,  0.00000000e+00],\n",
       "        [ 9.74133253e-01,  4.51948690e-01,  0.00000000e+00],\n",
       "        [ 9.94902816e-01,  2.01676841e-01,  0.00000000e+00]],\n",
       "\n",
       "       [[ 9.79663226e-01,  4.01297713e-01,  0.00000000e+00],\n",
       "        [ 9.97182283e-01,  1.50033255e-01,  0.00000000e+00],\n",
       "        [ 9.98656304e-01, -1.03645294e-01,  0.00000000e+00],\n",
       "        ...,\n",
       "        [ 8.97871191e-01,  8.80516495e-01,  0.00000000e+00],\n",
       "        [ 9.46381021e-01,  6.46105141e-01,  0.00000000e+00],\n",
       "        [ 9.79663226e-01,  4.01297713e-01,  0.00000000e+00]],\n",
       "\n",
       "       ...,\n",
       "\n",
       "       [[-9.31164735e-01, -7.29197467e-01,  0.00000000e+00],\n",
       "        [-9.69828789e-01, -4.87574080e-01,  0.00000000e+00],\n",
       "        [-9.92887934e-01, -2.38105444e-01,  0.00000000e+00],\n",
       "        ...,\n",
       "        [-8.09751458e-01, -1.17354604e+00,  0.00000000e+00],\n",
       "        [-8.77517892e-01, -9.59087794e-01,  0.00000000e+00],\n",
       "        [-9.31164735e-01, -7.29197467e-01,  0.00000000e+00]],\n",
       "\n",
       "       [[-8.89652856e-01, -9.13274975e-01,  0.00000000e+00],\n",
       "        [-9.40302293e-01, -6.80680831e-01,  0.00000000e+00],\n",
       "        [-9.75821913e-01, -4.37134278e-01,  0.00000000e+00],\n",
       "        ...,\n",
       "        [-7.46454741e-01, -1.33087237e+00,  0.00000000e+00],\n",
       "        [-8.24688573e-01, -1.13117418e+00,  0.00000000e+00],\n",
       "        [-8.89652856e-01, -9.13274975e-01,  0.00000000e+00]],\n",
       "\n",
       "       [[-8.39071529e-01, -1.08804222e+00,  0.00000000e+00],\n",
       "        [-9.01190009e-01, -8.66848471e-01,  0.00000000e+00],\n",
       "        [-9.48808004e-01, -6.31706804e-01,  0.00000000e+00],\n",
       "        ...,\n",
       "        [-6.75548390e-01, -1.47463131e+00,  0.00000000e+00],\n",
       "        [-7.63452074e-01, -1.29172897e+00,  0.00000000e+00],\n",
       "        [-8.39071529e-01, -1.08804222e+00,  0.00000000e+00]]])"
      ]
     },
     "execution_count": 21,
     "metadata": {},
     "output_type": "execute_result"
    }
   ],
   "source": [
    "E"
   ]
  },
  {
   "cell_type": "code",
   "execution_count": 23,
   "id": "b354eac6",
   "metadata": {},
   "outputs": [
    {
     "data": {
      "text/plain": [
       "array([[[-1.22464680e-16,  1.00000000e+00,  0.00000000e+00],\n",
       "        [ 2.53184907e-01,  9.91954813e-01, -0.00000000e+00],\n",
       "        [ 5.02295974e-01,  9.67948701e-01, -0.00000000e+00],\n",
       "        ...,\n",
       "        [-5.02295974e-01,  9.67948701e-01,  0.00000000e+00],\n",
       "        [-2.53184907e-01,  9.91954813e-01,  0.00000000e+00],\n",
       "        [-1.10218212e-15,  1.00000000e+00,  0.00000000e+00]],\n",
       "\n",
       "       [[-2.01676841e-01,  9.94902816e-01,  0.00000000e+00],\n",
       "        [ 5.18400645e-02,  9.99664020e-01, -0.00000000e+00],\n",
       "        [ 3.04522843e-01,  9.88340255e-01, -0.00000000e+00],\n",
       "        ...,\n",
       "        [-6.94948515e-01,  9.37689522e-01,  0.00000000e+00],\n",
       "        [-4.51948690e-01,  9.74133253e-01,  0.00000000e+00],\n",
       "        [-2.01676841e-01,  9.94902816e-01,  0.00000000e+00]],\n",
       "\n",
       "       [[-4.01297713e-01,  9.79663226e-01,  0.00000000e+00],\n",
       "        [-1.50033255e-01,  9.97182283e-01,  0.00000000e+00],\n",
       "        [ 1.03645294e-01,  9.98656304e-01, -0.00000000e+00],\n",
       "        ...,\n",
       "        [-8.80516495e-01,  8.97871191e-01,  0.00000000e+00],\n",
       "        [-6.46105141e-01,  9.46381021e-01,  0.00000000e+00],\n",
       "        [-4.01297713e-01,  9.79663226e-01,  0.00000000e+00]],\n",
       "\n",
       "       ...,\n",
       "\n",
       "       [[ 7.29197467e-01, -9.31164735e-01,  0.00000000e+00],\n",
       "        [ 4.87574080e-01, -9.69828789e-01,  0.00000000e+00],\n",
       "        [ 2.38105444e-01, -9.92887934e-01,  0.00000000e+00],\n",
       "        ...,\n",
       "        [ 1.17354604e+00, -8.09751458e-01,  0.00000000e+00],\n",
       "        [ 9.59087794e-01, -8.77517892e-01,  0.00000000e+00],\n",
       "        [ 7.29197467e-01, -9.31164735e-01,  0.00000000e+00]],\n",
       "\n",
       "       [[ 9.13274975e-01, -8.89652856e-01,  0.00000000e+00],\n",
       "        [ 6.80680831e-01, -9.40302293e-01,  0.00000000e+00],\n",
       "        [ 4.37134278e-01, -9.75821913e-01,  0.00000000e+00],\n",
       "        ...,\n",
       "        [ 1.33087237e+00, -7.46454741e-01,  0.00000000e+00],\n",
       "        [ 1.13117418e+00, -8.24688573e-01,  0.00000000e+00],\n",
       "        [ 9.13274975e-01, -8.89652856e-01,  0.00000000e+00]],\n",
       "\n",
       "       [[ 1.08804222e+00, -8.39071529e-01,  0.00000000e+00],\n",
       "        [ 8.66848471e-01, -9.01190009e-01,  0.00000000e+00],\n",
       "        [ 6.31706804e-01, -9.48808004e-01,  0.00000000e+00],\n",
       "        ...,\n",
       "        [ 1.47463131e+00, -6.75548390e-01,  0.00000000e+00],\n",
       "        [ 1.29172897e+00, -7.63452074e-01,  0.00000000e+00],\n",
       "        [ 1.08804222e+00, -8.39071529e-01,  0.00000000e+00]]])"
      ]
     },
     "execution_count": 23,
     "metadata": {},
     "output_type": "execute_result"
    }
   ],
   "source": [
    "B=np.cross(np.array([0,0,1]),E)\n",
    "B"
   ]
  },
  {
   "cell_type": "code",
   "execution_count": null,
   "id": "e30b984b",
   "metadata": {},
   "outputs": [],
   "source": []
  },
  {
   "cell_type": "code",
   "execution_count": null,
   "id": "20a21d0a",
   "metadata": {},
   "outputs": [],
   "source": []
  },
  {
   "cell_type": "code",
   "execution_count": null,
   "id": "5ec78b2d",
   "metadata": {},
   "outputs": [],
   "source": []
  },
  {
   "cell_type": "code",
   "execution_count": null,
   "id": "dc4c037c",
   "metadata": {},
   "outputs": [],
   "source": []
  },
  {
   "cell_type": "code",
   "execution_count": null,
   "id": "7e1ef0b4",
   "metadata": {},
   "outputs": [],
   "source": []
  },
  {
   "cell_type": "code",
   "execution_count": null,
   "id": "89fad6c2",
   "metadata": {},
   "outputs": [],
   "source": []
  },
  {
   "cell_type": "code",
   "execution_count": null,
   "id": "8aafda2e",
   "metadata": {},
   "outputs": [],
   "source": []
  }
 ],
 "metadata": {
  "kernelspec": {
   "display_name": "Python 3 (ipykernel)",
   "language": "python",
   "name": "python3"
  },
  "language_info": {
   "codemirror_mode": {
    "name": "ipython",
    "version": 3
   },
   "file_extension": ".py",
   "mimetype": "text/x-python",
   "name": "python",
   "nbconvert_exporter": "python",
   "pygments_lexer": "ipython3",
   "version": "3.9.7"
  }
 },
 "nbformat": 4,
 "nbformat_minor": 5
}
