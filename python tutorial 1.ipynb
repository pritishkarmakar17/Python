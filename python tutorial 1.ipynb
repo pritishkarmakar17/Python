{
 "cells": [
  {
   "cell_type": "code",
   "execution_count": 1,
   "id": "0fad5a0c",
   "metadata": {},
   "outputs": [
    {
     "data": {
      "text/plain": [
       "10"
      ]
     },
     "execution_count": 1,
     "metadata": {},
     "output_type": "execute_result"
    }
   ],
   "source": [
    "a=10\n",
    "a"
   ]
  },
  {
   "cell_type": "code",
   "execution_count": 2,
   "id": "78303bba",
   "metadata": {},
   "outputs": [
    {
     "data": {
      "text/plain": [
       "int"
      ]
     },
     "execution_count": 2,
     "metadata": {},
     "output_type": "execute_result"
    }
   ],
   "source": [
    "type(a)"
   ]
  },
  {
   "cell_type": "code",
   "execution_count": 3,
   "id": "3bad1d95",
   "metadata": {},
   "outputs": [
    {
     "data": {
      "text/plain": [
       "10.5"
      ]
     },
     "execution_count": 3,
     "metadata": {},
     "output_type": "execute_result"
    }
   ],
   "source": [
    "a=10.5\n",
    "a"
   ]
  },
  {
   "cell_type": "code",
   "execution_count": 5,
   "id": "3057d124",
   "metadata": {},
   "outputs": [
    {
     "data": {
      "text/plain": [
       "float"
      ]
     },
     "execution_count": 5,
     "metadata": {},
     "output_type": "execute_result"
    }
   ],
   "source": [
    "type(a)"
   ]
  },
  {
   "cell_type": "code",
   "execution_count": 6,
   "id": "4af1f270",
   "metadata": {},
   "outputs": [
    {
     "data": {
      "text/plain": [
       "True"
      ]
     },
     "execution_count": 6,
     "metadata": {},
     "output_type": "execute_result"
    }
   ],
   "source": [
    "a=True\n",
    "a"
   ]
  },
  {
   "cell_type": "code",
   "execution_count": 7,
   "id": "e32c3f54",
   "metadata": {},
   "outputs": [
    {
     "data": {
      "text/plain": [
       "bool"
      ]
     },
     "execution_count": 7,
     "metadata": {},
     "output_type": "execute_result"
    }
   ],
   "source": [
    "type(a)"
   ]
  },
  {
   "cell_type": "code",
   "execution_count": 8,
   "id": "b4f187d3",
   "metadata": {},
   "outputs": [
    {
     "data": {
      "text/plain": [
       "str"
      ]
     },
     "execution_count": 8,
     "metadata": {},
     "output_type": "execute_result"
    }
   ],
   "source": [
    "a='pritish'\n",
    "type(a)"
   ]
  },
  {
   "cell_type": "code",
   "execution_count": 9,
   "id": "93298f2d",
   "metadata": {},
   "outputs": [
    {
     "data": {
      "text/plain": [
       "(3+4j)"
      ]
     },
     "execution_count": 9,
     "metadata": {},
     "output_type": "execute_result"
    }
   ],
   "source": [
    "a=3+4j\n",
    "a"
   ]
  },
  {
   "cell_type": "code",
   "execution_count": 10,
   "id": "b5a53917",
   "metadata": {},
   "outputs": [
    {
     "data": {
      "text/plain": [
       "complex"
      ]
     },
     "execution_count": 10,
     "metadata": {},
     "output_type": "execute_result"
    }
   ],
   "source": [
    "type(a)"
   ]
  },
  {
   "cell_type": "code",
   "execution_count": 11,
   "id": "6f7b3f97",
   "metadata": {},
   "outputs": [],
   "source": [
    "#arithmatic operators\n",
    "#+,-,*,/\n",
    "#relational operator \n",
    "#>,<,==,!=\n",
    "#logical operator\n",
    "#&,|"
   ]
  },
  {
   "cell_type": "code",
   "execution_count": 14,
   "id": "f65614f9",
   "metadata": {},
   "outputs": [
    {
     "data": {
      "text/plain": [
       "'i\\nam\\npritish'"
      ]
     },
     "execution_count": 14,
     "metadata": {},
     "output_type": "execute_result"
    }
   ],
   "source": [
    "str='''i\n",
    "am\n",
    "pritish'''\n",
    "str"
   ]
  },
  {
   "cell_type": "code",
   "execution_count": 18,
   "id": "9a0f6db3",
   "metadata": {},
   "outputs": [
    {
     "data": {
      "text/plain": [
       "'i'"
      ]
     },
     "execution_count": 18,
     "metadata": {},
     "output_type": "execute_result"
    }
   ],
   "source": [
    "str[0] #indexing"
   ]
  },
  {
   "cell_type": "code",
   "execution_count": 19,
   "id": "17564ead",
   "metadata": {},
   "outputs": [
    {
     "data": {
      "text/plain": [
       "'i'"
      ]
     },
     "execution_count": 19,
     "metadata": {},
     "output_type": "execute_result"
    }
   ],
   "source": [
    "str[9]"
   ]
  },
  {
   "cell_type": "code",
   "execution_count": 17,
   "id": "5634cb57",
   "metadata": {},
   "outputs": [
    {
     "data": {
      "text/plain": [
       "'h'"
      ]
     },
     "execution_count": 17,
     "metadata": {},
     "output_type": "execute_result"
    }
   ],
   "source": [
    "str[-1] "
   ]
  },
  {
   "cell_type": "code",
   "execution_count": 21,
   "id": "6da294cd",
   "metadata": {},
   "outputs": [
    {
     "data": {
      "text/plain": [
       "'pritish'"
      ]
     },
     "execution_count": 21,
     "metadata": {},
     "output_type": "execute_result"
    }
   ],
   "source": [
    "str[5:12]"
   ]
  },
  {
   "cell_type": "code",
   "execution_count": 12,
   "id": "523bbe07",
   "metadata": {},
   "outputs": [
    {
     "data": {
      "text/plain": [
       "'I AM PRITISH'"
      ]
     },
     "execution_count": 12,
     "metadata": {},
     "output_type": "execute_result"
    }
   ],
   "source": [
    "str='i am Pritish'\n",
    "len(str)#length\n",
    "str.lower()\n",
    "str.upper()"
   ]
  },
  {
   "cell_type": "code",
   "execution_count": 10,
   "id": "1ee7571a",
   "metadata": {},
   "outputs": [
    {
     "data": {
      "text/plain": [
       "12"
      ]
     },
     "execution_count": 10,
     "metadata": {},
     "output_type": "execute_result"
    }
   ],
   "source": [
    "len(str)#length"
   ]
  },
  {
   "cell_type": "code",
   "execution_count": 13,
   "id": "82ebd0a3",
   "metadata": {},
   "outputs": [
    {
     "data": {
      "text/plain": [
       "'I AM PRITISH'"
      ]
     },
     "execution_count": 13,
     "metadata": {},
     "output_type": "execute_result"
    }
   ],
   "source": [
    "str.upper()"
   ]
  },
  {
   "cell_type": "code",
   "execution_count": 14,
   "id": "84ac9bbd",
   "metadata": {},
   "outputs": [
    {
     "data": {
      "text/plain": [
       "'i am pritish'"
      ]
     },
     "execution_count": 14,
     "metadata": {},
     "output_type": "execute_result"
    }
   ],
   "source": [
    "str.lower()"
   ]
  },
  {
   "cell_type": "code",
   "execution_count": 15,
   "id": "be7761e5",
   "metadata": {},
   "outputs": [
    {
     "data": {
      "text/plain": [
       "'i am Ronaldo'"
      ]
     },
     "execution_count": 15,
     "metadata": {},
     "output_type": "execute_result"
    }
   ],
   "source": [
    "str.replace('Pritish','Ronaldo')"
   ]
  },
  {
   "cell_type": "code",
   "execution_count": 16,
   "id": "48e48dbe",
   "metadata": {},
   "outputs": [
    {
     "data": {
      "text/plain": [
       "3"
      ]
     },
     "execution_count": 16,
     "metadata": {},
     "output_type": "execute_result"
    }
   ],
   "source": [
    "str.count('i')"
   ]
  },
  {
   "cell_type": "code",
   "execution_count": 17,
   "id": "49efd48a",
   "metadata": {},
   "outputs": [
    {
     "data": {
      "text/plain": [
       "2"
      ]
     },
     "execution_count": 17,
     "metadata": {},
     "output_type": "execute_result"
    }
   ],
   "source": [
    "str.find('a')"
   ]
  },
  {
   "cell_type": "code",
   "execution_count": 19,
   "id": "bdbb97e5",
   "metadata": {},
   "outputs": [
    {
     "data": {
      "text/plain": [
       "2"
      ]
     },
     "execution_count": 19,
     "metadata": {},
     "output_type": "execute_result"
    }
   ],
   "source": [
    "str.find('am')"
   ]
  },
  {
   "cell_type": "code",
   "execution_count": 25,
   "id": "f8e4cf49",
   "metadata": {},
   "outputs": [
    {
     "data": {
      "text/plain": [
       "5"
      ]
     },
     "execution_count": 25,
     "metadata": {},
     "output_type": "execute_result"
    }
   ],
   "source": [
    "str.find('Pritish')"
   ]
  },
  {
   "cell_type": "code",
   "execution_count": 26,
   "id": "e51d29d2",
   "metadata": {},
   "outputs": [
    {
     "data": {
      "text/plain": [
       "0"
      ]
     },
     "execution_count": 26,
     "metadata": {},
     "output_type": "execute_result"
    }
   ],
   "source": [
    "str.find('i')"
   ]
  },
  {
   "cell_type": "code",
   "execution_count": 27,
   "id": "87358365",
   "metadata": {},
   "outputs": [
    {
     "data": {
      "text/plain": [
       "['i', 'am', 'Pritish']"
      ]
     },
     "execution_count": 27,
     "metadata": {},
     "output_type": "execute_result"
    }
   ],
   "source": [
    "str.split(' ')"
   ]
  },
  {
   "cell_type": "code",
   "execution_count": 28,
   "id": "fb55d88e",
   "metadata": {},
   "outputs": [
    {
     "data": {
      "text/plain": [
       "['', ' am Pr', 't', 'sh']"
      ]
     },
     "execution_count": 28,
     "metadata": {},
     "output_type": "execute_result"
    }
   ],
   "source": [
    "str.split('i')"
   ]
  },
  {
   "cell_type": "code",
   "execution_count": 29,
   "id": "5243a94d",
   "metadata": {},
   "outputs": [
    {
     "data": {
      "text/plain": [
       "'cristiano ronaldo is equivalent to leo messi'"
      ]
     },
     "execution_count": 29,
     "metadata": {},
     "output_type": "execute_result"
    }
   ],
   "source": [
    "s='cristiano ronaldo is equivalent to leo messi'\n",
    "s"
   ]
  },
  {
   "cell_type": "code",
   "execution_count": 30,
   "id": "5232d840",
   "metadata": {},
   "outputs": [
    {
     "data": {
      "text/plain": [
       "['cr', 'st', 'ano ronaldo ', 's equ', 'valent to leo mess', '']"
      ]
     },
     "execution_count": 30,
     "metadata": {},
     "output_type": "execute_result"
    }
   ],
   "source": [
    "s.split('i')"
   ]
  },
  {
   "cell_type": "code",
   "execution_count": 31,
   "id": "beb7a8b0",
   "metadata": {},
   "outputs": [
    {
     "data": {
      "text/plain": [
       "['', 'ristiano ronaldo is equivalent to leo messi']"
      ]
     },
     "execution_count": 31,
     "metadata": {},
     "output_type": "execute_result"
    }
   ],
   "source": [
    "s.split('c')"
   ]
  },
  {
   "cell_type": "code",
   "execution_count": 32,
   "id": "07b0854d",
   "metadata": {},
   "outputs": [],
   "source": [
    "#tuple"
   ]
  },
  {
   "cell_type": "code",
   "execution_count": 43,
   "id": "3b404a27",
   "metadata": {},
   "outputs": [
    {
     "data": {
      "text/plain": [
       "tuple"
      ]
     },
     "execution_count": 43,
     "metadata": {},
     "output_type": "execute_result"
    }
   ],
   "source": [
    "tup1=(1,True,3.14,5+7j)\n",
    "type(tup1) "
   ]
  },
  {
   "cell_type": "code",
   "execution_count": 44,
   "id": "8db3955a",
   "metadata": {},
   "outputs": [
    {
     "data": {
      "text/plain": [
       "3.14"
      ]
     },
     "execution_count": 44,
     "metadata": {},
     "output_type": "execute_result"
    }
   ],
   "source": [
    "tup1[2]"
   ]
  },
  {
   "cell_type": "code",
   "execution_count": 45,
   "id": "8d0f7d49",
   "metadata": {},
   "outputs": [
    {
     "data": {
      "text/plain": [
       "(True, 3.14)"
      ]
     },
     "execution_count": 45,
     "metadata": {},
     "output_type": "execute_result"
    }
   ],
   "source": [
    "tup1[1:3]"
   ]
  },
  {
   "cell_type": "code",
   "execution_count": 46,
   "id": "ab69d376",
   "metadata": {},
   "outputs": [
    {
     "ename": "TypeError",
     "evalue": "'tuple' object does not support item assignment",
     "output_type": "error",
     "traceback": [
      "\u001b[1;31m---------------------------------------------------------------------------\u001b[0m",
      "\u001b[1;31mTypeError\u001b[0m                                 Traceback (most recent call last)",
      "\u001b[1;32m<ipython-input-46-a234f4dafa6c>\u001b[0m in \u001b[0;36m<module>\u001b[1;34m\u001b[0m\n\u001b[1;32m----> 1\u001b[1;33m \u001b[0mtup1\u001b[0m\u001b[1;33m[\u001b[0m\u001b[1;36m4\u001b[0m\u001b[1;33m]\u001b[0m\u001b[1;33m=\u001b[0m\u001b[1;34m'cristiano'\u001b[0m\u001b[1;33m\u001b[0m\u001b[1;33m\u001b[0m\u001b[0m\n\u001b[0m",
      "\u001b[1;31mTypeError\u001b[0m: 'tuple' object does not support item assignment"
     ]
    }
   ],
   "source": [
    "tup1[4]='cristiano'"
   ]
  },
  {
   "cell_type": "code",
   "execution_count": 47,
   "id": "97b1c459",
   "metadata": {},
   "outputs": [
    {
     "data": {
      "text/plain": [
       "4"
      ]
     },
     "execution_count": 47,
     "metadata": {},
     "output_type": "execute_result"
    }
   ],
   "source": [
    "len(tup1)"
   ]
  },
  {
   "cell_type": "code",
   "execution_count": 48,
   "id": "4d182265",
   "metadata": {},
   "outputs": [
    {
     "data": {
      "text/plain": [
       "(1, True, 3.14, (5+7j), 2, 'ronaldo')"
      ]
     },
     "execution_count": 48,
     "metadata": {},
     "output_type": "execute_result"
    }
   ],
   "source": [
    "tup2=(2,'ronaldo')\n",
    "tup1+tup2"
   ]
  },
  {
   "cell_type": "code",
   "execution_count": 42,
   "id": "8316af3a",
   "metadata": {},
   "outputs": [
    {
     "data": {
      "text/plain": [
       "(2, 'ronaldo', 1, True, 3.14, (5+7j))"
      ]
     },
     "execution_count": 42,
     "metadata": {},
     "output_type": "execute_result"
    }
   ],
   "source": [
    "tup2+tup1"
   ]
  },
  {
   "cell_type": "code",
   "execution_count": 49,
   "id": "e22ea7f7",
   "metadata": {},
   "outputs": [
    {
     "data": {
      "text/plain": [
       "(1, True, 3.14, (5+7j), 1, True, 3.14, (5+7j), 1, True, 3.14, (5+7j))"
      ]
     },
     "execution_count": 49,
     "metadata": {},
     "output_type": "execute_result"
    }
   ],
   "source": [
    "tup1*3"
   ]
  },
  {
   "cell_type": "code",
   "execution_count": 50,
   "id": "c352f839",
   "metadata": {},
   "outputs": [
    {
     "ename": "TypeError",
     "evalue": "'>' not supported between instances of 'complex' and 'float'",
     "output_type": "error",
     "traceback": [
      "\u001b[1;31m---------------------------------------------------------------------------\u001b[0m",
      "\u001b[1;31mTypeError\u001b[0m                                 Traceback (most recent call last)",
      "\u001b[1;32m<ipython-input-50-611148b54c88>\u001b[0m in \u001b[0;36m<module>\u001b[1;34m\u001b[0m\n\u001b[1;32m----> 1\u001b[1;33m \u001b[0mmax\u001b[0m\u001b[1;33m(\u001b[0m\u001b[0mtup1\u001b[0m\u001b[1;33m)\u001b[0m\u001b[1;33m\u001b[0m\u001b[1;33m\u001b[0m\u001b[0m\n\u001b[0m",
      "\u001b[1;31mTypeError\u001b[0m: '>' not supported between instances of 'complex' and 'float'"
     ]
    }
   ],
   "source": [
    "max(tup1)"
   ]
  },
  {
   "cell_type": "code",
   "execution_count": 51,
   "id": "e16ef74f",
   "metadata": {},
   "outputs": [
    {
     "data": {
      "text/plain": [
       "(1, 2, 3, 4, 5)"
      ]
     },
     "execution_count": 51,
     "metadata": {},
     "output_type": "execute_result"
    }
   ],
   "source": [
    "tup3=(1,2,3,4,5)\n",
    "tup3"
   ]
  },
  {
   "cell_type": "code",
   "execution_count": 52,
   "id": "b63aa513",
   "metadata": {},
   "outputs": [
    {
     "data": {
      "text/plain": [
       "5"
      ]
     },
     "execution_count": 52,
     "metadata": {},
     "output_type": "execute_result"
    }
   ],
   "source": [
    "max(tup3)"
   ]
  },
  {
   "cell_type": "code",
   "execution_count": null,
   "id": "88c911fc",
   "metadata": {},
   "outputs": [],
   "source": [
    "#lists"
   ]
  },
  {
   "cell_type": "code",
   "execution_count": 54,
   "id": "fe1c04b6",
   "metadata": {},
   "outputs": [
    {
     "data": {
      "text/plain": [
       "list"
      ]
     },
     "execution_count": 54,
     "metadata": {},
     "output_type": "execute_result"
    }
   ],
   "source": [
    "l1=[1,'cr7',3.14,True]\n",
    "type(l1)"
   ]
  },
  {
   "cell_type": "code",
   "execution_count": 55,
   "id": "d0aeefa0",
   "metadata": {},
   "outputs": [
    {
     "data": {
      "text/plain": [
       "['cr7', 3.14, True]"
      ]
     },
     "execution_count": 55,
     "metadata": {},
     "output_type": "execute_result"
    }
   ],
   "source": [
    "l1[1:5]"
   ]
  },
  {
   "cell_type": "code",
   "execution_count": 57,
   "id": "54dfbd86",
   "metadata": {},
   "outputs": [
    {
     "data": {
      "text/plain": [
       "[1, 'lm10', 3.14, True]"
      ]
     },
     "execution_count": 57,
     "metadata": {},
     "output_type": "execute_result"
    }
   ],
   "source": [
    "l1[1]='lm10'\n",
    "l1"
   ]
  },
  {
   "cell_type": "code",
   "execution_count": 58,
   "id": "2b42c802",
   "metadata": {},
   "outputs": [
    {
     "data": {
      "text/plain": [
       "[1, 'lm10', 3.14, True, 'cr7']"
      ]
     },
     "execution_count": 58,
     "metadata": {},
     "output_type": "execute_result"
    }
   ],
   "source": [
    "l1.append('cr7')\n",
    "l1"
   ]
  },
  {
   "cell_type": "code",
   "execution_count": 59,
   "id": "ec2c2409",
   "metadata": {},
   "outputs": [
    {
     "data": {
      "text/plain": [
       "[1, 'lm10', 3.14, True]"
      ]
     },
     "execution_count": 59,
     "metadata": {},
     "output_type": "execute_result"
    }
   ],
   "source": [
    "l1.pop()\n",
    "l1\n"
   ]
  },
  {
   "cell_type": "code",
   "execution_count": 62,
   "id": "21b816bf",
   "metadata": {},
   "outputs": [
    {
     "data": {
      "text/plain": [
       "[True, 3.14, 'lm10', 1]"
      ]
     },
     "execution_count": 62,
     "metadata": {},
     "output_type": "execute_result"
    }
   ],
   "source": [
    "l1.reverse()\n",
    "l1"
   ]
  },
  {
   "cell_type": "code",
   "execution_count": 63,
   "id": "33c739b1",
   "metadata": {},
   "outputs": [
    {
     "data": {
      "text/plain": [
       "[True, 'cr7', 3.14, 'lm10', 1]"
      ]
     },
     "execution_count": 63,
     "metadata": {},
     "output_type": "execute_result"
    }
   ],
   "source": [
    "l1.insert(1,'cr7')\n",
    "l1"
   ]
  },
  {
   "cell_type": "code",
   "execution_count": 65,
   "id": "53c90f66",
   "metadata": {},
   "outputs": [
    {
     "data": {
      "text/plain": [
       "['ronaldo', 'messi', 'neymar', 'ramos', 'maldini']"
      ]
     },
     "execution_count": 65,
     "metadata": {},
     "output_type": "execute_result"
    }
   ],
   "source": [
    "l2=['ronaldo','messi','neymar','ramos','maldini']\n",
    "l2"
   ]
  },
  {
   "cell_type": "code",
   "execution_count": 68,
   "id": "ad0d3f57",
   "metadata": {},
   "outputs": [
    {
     "data": {
      "text/plain": [
       "['maldini', 'messi', 'neymar', 'ramos', 'ronaldo']"
      ]
     },
     "execution_count": 68,
     "metadata": {},
     "output_type": "execute_result"
    }
   ],
   "source": [
    "l2.sort()\n",
    "l2"
   ]
  },
  {
   "cell_type": "code",
   "execution_count": 69,
   "id": "3bddc51f",
   "metadata": {},
   "outputs": [
    {
     "ename": "TypeError",
     "evalue": "'<' not supported between instances of 'str' and 'bool'",
     "output_type": "error",
     "traceback": [
      "\u001b[1;31m---------------------------------------------------------------------------\u001b[0m",
      "\u001b[1;31mTypeError\u001b[0m                                 Traceback (most recent call last)",
      "\u001b[1;32m<ipython-input-69-b8f5f256bbcf>\u001b[0m in \u001b[0;36m<module>\u001b[1;34m\u001b[0m\n\u001b[1;32m----> 1\u001b[1;33m \u001b[0ml1\u001b[0m\u001b[1;33m.\u001b[0m\u001b[0msort\u001b[0m\u001b[1;33m(\u001b[0m\u001b[1;33m)\u001b[0m\u001b[1;33m\u001b[0m\u001b[1;33m\u001b[0m\u001b[0m\n\u001b[0m",
      "\u001b[1;31mTypeError\u001b[0m: '<' not supported between instances of 'str' and 'bool'"
     ]
    }
   ],
   "source": [
    "l1.sort()"
   ]
  },
  {
   "cell_type": "code",
   "execution_count": 70,
   "id": "1a58578d",
   "metadata": {},
   "outputs": [
    {
     "data": {
      "text/plain": [
       "[True,\n",
       " 'cr7',\n",
       " 3.14,\n",
       " 'lm10',\n",
       " 1,\n",
       " 'maldini',\n",
       " 'messi',\n",
       " 'neymar',\n",
       " 'ramos',\n",
       " 'ronaldo']"
      ]
     },
     "execution_count": 70,
     "metadata": {},
     "output_type": "execute_result"
    }
   ],
   "source": [
    "l1+l2"
   ]
  },
  {
   "cell_type": "code",
   "execution_count": 71,
   "id": "f16908fc",
   "metadata": {},
   "outputs": [
    {
     "data": {
      "text/plain": [
       "['maldini',\n",
       " 'messi',\n",
       " 'neymar',\n",
       " 'ramos',\n",
       " 'ronaldo',\n",
       " 'maldini',\n",
       " 'messi',\n",
       " 'neymar',\n",
       " 'ramos',\n",
       " 'ronaldo',\n",
       " 'maldini',\n",
       " 'messi',\n",
       " 'neymar',\n",
       " 'ramos',\n",
       " 'ronaldo']"
      ]
     },
     "execution_count": 71,
     "metadata": {},
     "output_type": "execute_result"
    }
   ],
   "source": [
    "l2*3"
   ]
  },
  {
   "cell_type": "code",
   "execution_count": null,
   "id": "ae5b9213",
   "metadata": {},
   "outputs": [],
   "source": [
    "#dictionary---key value pairs"
   ]
  },
  {
   "cell_type": "code",
   "execution_count": 72,
   "id": "b981d4ff",
   "metadata": {},
   "outputs": [
    {
     "data": {
      "text/plain": [
       "{'messi': 10, 'ronaldo': 7, 'neymar': 11, 'ramos': 4}"
      ]
     },
     "execution_count": 72,
     "metadata": {},
     "output_type": "execute_result"
    }
   ],
   "source": [
    "d1={'messi':10,'ronaldo':7,'neymar':11,'ramos':4}\n",
    "d1"
   ]
  },
  {
   "cell_type": "code",
   "execution_count": 73,
   "id": "fbf47915",
   "metadata": {},
   "outputs": [
    {
     "data": {
      "text/plain": [
       "dict"
      ]
     },
     "execution_count": 73,
     "metadata": {},
     "output_type": "execute_result"
    }
   ],
   "source": [
    "type(d1)"
   ]
  },
  {
   "cell_type": "code",
   "execution_count": 75,
   "id": "786969cc",
   "metadata": {},
   "outputs": [
    {
     "data": {
      "text/plain": [
       "dict_keys(['messi', 'ronaldo', 'neymar', 'ramos'])"
      ]
     },
     "execution_count": 75,
     "metadata": {},
     "output_type": "execute_result"
    }
   ],
   "source": [
    "d1.keys()"
   ]
  },
  {
   "cell_type": "code",
   "execution_count": 76,
   "id": "62e50611",
   "metadata": {},
   "outputs": [
    {
     "data": {
      "text/plain": [
       "dict_values([10, 7, 11, 4])"
      ]
     },
     "execution_count": 76,
     "metadata": {},
     "output_type": "execute_result"
    }
   ],
   "source": [
    "d1.values()"
   ]
  },
  {
   "cell_type": "code",
   "execution_count": 77,
   "id": "9dd3bf5f",
   "metadata": {},
   "outputs": [
    {
     "data": {
      "text/plain": [
       "{'messi': 10, 'ronaldo': 7, 'neymar': 11, 'ramos': 4, 'lewa': 9}"
      ]
     },
     "execution_count": 77,
     "metadata": {},
     "output_type": "execute_result"
    }
   ],
   "source": [
    "d1['lewa']=9\n",
    "d1"
   ]
  },
  {
   "cell_type": "code",
   "execution_count": 80,
   "id": "1b584a2a",
   "metadata": {},
   "outputs": [
    {
     "data": {
      "text/plain": [
       "{'messi': 30, 'ronaldo': 7, 'neymar': 11, 'ramos': 4, 'lewa': 9}"
      ]
     },
     "execution_count": 80,
     "metadata": {},
     "output_type": "execute_result"
    }
   ],
   "source": [
    "d1['messi']=30\n",
    "d1"
   ]
  },
  {
   "cell_type": "code",
   "execution_count": 81,
   "id": "72e0f3c4",
   "metadata": {},
   "outputs": [
    {
     "data": {
      "text/plain": [
       "{'mbappe': 20, 'halland': 10}"
      ]
     },
     "execution_count": 81,
     "metadata": {},
     "output_type": "execute_result"
    }
   ],
   "source": [
    "d2={'mbappe':20,'halland':10}\n",
    "d2"
   ]
  },
  {
   "cell_type": "code",
   "execution_count": 95,
   "id": "3ee2e230",
   "metadata": {},
   "outputs": [],
   "source": [
    "d1={'messi': 10, 'ronaldo': 7, 'neymar': 11, 'ramos': 4, 'lewa': 9}"
   ]
  },
  {
   "cell_type": "code",
   "execution_count": 97,
   "id": "6f69f9d8",
   "metadata": {},
   "outputs": [
    {
     "data": {
      "text/plain": [
       "{'messi': 10,\n",
       " 'ronaldo': 7,\n",
       " 'neymar': 11,\n",
       " 'ramos': 4,\n",
       " 'lewa': 9,\n",
       " 'mbappe': 20,\n",
       " 'halland': 10}"
      ]
     },
     "execution_count": 97,
     "metadata": {},
     "output_type": "execute_result"
    }
   ],
   "source": [
    "d1.update(d2)\n",
    "d1"
   ]
  },
  {
   "cell_type": "code",
   "execution_count": 98,
   "id": "a96bc8d7",
   "metadata": {},
   "outputs": [
    {
     "data": {
      "text/plain": [
       "4"
      ]
     },
     "execution_count": 98,
     "metadata": {},
     "output_type": "execute_result"
    }
   ],
   "source": [
    "d1.pop('ramos')"
   ]
  },
  {
   "cell_type": "code",
   "execution_count": 99,
   "id": "e466d304",
   "metadata": {},
   "outputs": [
    {
     "data": {
      "text/plain": [
       "{'messi': 10,\n",
       " 'ronaldo': 7,\n",
       " 'neymar': 11,\n",
       " 'lewa': 9,\n",
       " 'mbappe': 20,\n",
       " 'halland': 10}"
      ]
     },
     "execution_count": 99,
     "metadata": {},
     "output_type": "execute_result"
    }
   ],
   "source": [
    "d1"
   ]
  },
  {
   "cell_type": "code",
   "execution_count": null,
   "id": "65cc2174",
   "metadata": {},
   "outputs": [],
   "source": [
    "#set"
   ]
  },
  {
   "cell_type": "code",
   "execution_count": 100,
   "id": "8dbfaa40",
   "metadata": {},
   "outputs": [
    {
     "data": {
      "text/plain": [
       "{1, 3.14, 'pritish'}"
      ]
     },
     "execution_count": 100,
     "metadata": {},
     "output_type": "execute_result"
    }
   ],
   "source": [
    "s1={1,3.14,'pritish'}\n",
    "s1"
   ]
  },
  {
   "cell_type": "code",
   "execution_count": 103,
   "id": "ac00f1b9",
   "metadata": {},
   "outputs": [
    {
     "data": {
      "text/plain": [
       "{1, 3.14, 'pritish'}"
      ]
     },
     "execution_count": 103,
     "metadata": {},
     "output_type": "execute_result"
    }
   ],
   "source": [
    "s1={1,3.14,'pritish','pritish'}\n",
    "s1"
   ]
  },
  {
   "cell_type": "code",
   "execution_count": 104,
   "id": "2f5f18d7",
   "metadata": {},
   "outputs": [
    {
     "data": {
      "text/plain": [
       "{1, 3.14, 'helo', 'pritish'}"
      ]
     },
     "execution_count": 104,
     "metadata": {},
     "output_type": "execute_result"
    }
   ],
   "source": [
    "s1.add('helo')\n",
    "s1"
   ]
  },
  {
   "cell_type": "code",
   "execution_count": 105,
   "id": "b9a7ca36",
   "metadata": {},
   "outputs": [
    {
     "data": {
      "text/plain": [
       "{1, 10, 20, 3.14, 30, 'helo', 'pritish'}"
      ]
     },
     "execution_count": 105,
     "metadata": {},
     "output_type": "execute_result"
    }
   ],
   "source": [
    "s1.update([10,20,30])\n",
    "s1"
   ]
  },
  {
   "cell_type": "code",
   "execution_count": 106,
   "id": "e4fb79d3",
   "metadata": {},
   "outputs": [
    {
     "data": {
      "text/plain": [
       "{1, 10, 20, 3.14, 30, 'pritish'}"
      ]
     },
     "execution_count": 106,
     "metadata": {},
     "output_type": "execute_result"
    }
   ],
   "source": [
    "s1.remove('helo')\n",
    "s1"
   ]
  },
  {
   "cell_type": "code",
   "execution_count": 107,
   "id": "1521b691",
   "metadata": {},
   "outputs": [
    {
     "data": {
      "text/plain": [
       "{1, 10, 13, 20, 3.14, 30, 'hello', 'pritish'}"
      ]
     },
     "execution_count": 107,
     "metadata": {},
     "output_type": "execute_result"
    }
   ],
   "source": [
    "s2={10,13,20,'hello'}\n",
    "s1.union(s2)"
   ]
  },
  {
   "cell_type": "code",
   "execution_count": 108,
   "id": "92c4958d",
   "metadata": {},
   "outputs": [
    {
     "data": {
      "text/plain": [
       "{1, 10, 20, 3.14, 30, 'pritish'}"
      ]
     },
     "execution_count": 108,
     "metadata": {},
     "output_type": "execute_result"
    }
   ],
   "source": [
    "s1"
   ]
  },
  {
   "cell_type": "code",
   "execution_count": 109,
   "id": "e29f9b2f",
   "metadata": {},
   "outputs": [
    {
     "data": {
      "text/plain": [
       "{10, 13, 20, 'hello'}"
      ]
     },
     "execution_count": 109,
     "metadata": {},
     "output_type": "execute_result"
    }
   ],
   "source": [
    "s2"
   ]
  },
  {
   "cell_type": "code",
   "execution_count": 110,
   "id": "e38c4506",
   "metadata": {},
   "outputs": [
    {
     "data": {
      "text/plain": [
       "{10, 20}"
      ]
     },
     "execution_count": 110,
     "metadata": {},
     "output_type": "execute_result"
    }
   ],
   "source": [
    "s1.intersection(s2)"
   ]
  },
  {
   "cell_type": "code",
   "execution_count": null,
   "id": "a0105130",
   "metadata": {},
   "outputs": [],
   "source": [
    "#if statement---if...else pseudo code"
   ]
  },
  {
   "cell_type": "code",
   "execution_count": 112,
   "id": "18698e79",
   "metadata": {},
   "outputs": [],
   "source": [
    "a=10\n",
    "b=20"
   ]
  },
  {
   "cell_type": "code",
   "execution_count": 113,
   "id": "70932a9a",
   "metadata": {},
   "outputs": [
    {
     "name": "stdout",
     "output_type": "stream",
     "text": [
      "b is greater than a\n"
     ]
    }
   ],
   "source": [
    "if b>a:\n",
    "    print('b is greater than a')\n"
   ]
  },
  {
   "cell_type": "code",
   "execution_count": 115,
   "id": "299b6766",
   "metadata": {},
   "outputs": [],
   "source": [
    "if a>b:\n",
    "    print('yes')"
   ]
  },
  {
   "cell_type": "code",
   "execution_count": 116,
   "id": "2727c22c",
   "metadata": {},
   "outputs": [
    {
     "name": "stdout",
     "output_type": "stream",
     "text": [
      "b is greater than a\n"
     ]
    }
   ],
   "source": [
    "if b>a:\n",
    "    print('b is greater than a')\n",
    "else:\n",
    "    print('a is greater than b')\n"
   ]
  },
  {
   "cell_type": "code",
   "execution_count": 117,
   "id": "52eef5bc",
   "metadata": {},
   "outputs": [],
   "source": [
    "b=5"
   ]
  },
  {
   "cell_type": "code",
   "execution_count": 118,
   "id": "4382be86",
   "metadata": {},
   "outputs": [
    {
     "name": "stdout",
     "output_type": "stream",
     "text": [
      "a is greater than b\n"
     ]
    }
   ],
   "source": [
    "if b>a:\n",
    "    print('b is greater than a')\n",
    "else:\n",
    "    print('a is greater than b')\n"
   ]
  },
  {
   "cell_type": "code",
   "execution_count": 119,
   "id": "e3002926",
   "metadata": {},
   "outputs": [],
   "source": [
    "a=10\n",
    "b=20\n",
    "c=30"
   ]
  },
  {
   "cell_type": "code",
   "execution_count": 121,
   "id": "3b72224f",
   "metadata": {},
   "outputs": [
    {
     "name": "stdout",
     "output_type": "stream",
     "text": [
      "c is greatest\n"
     ]
    }
   ],
   "source": [
    "if (a>b) & (a>c):\n",
    "    print('a is greatest')\n",
    "elif (a<b) & (b>c):\n",
    "    print('b is greatest')\n",
    "elif (c>b) & (a<c):\n",
    "    print('c is greatest')   "
   ]
  },
  {
   "cell_type": "code",
   "execution_count": null,
   "id": "d02de2b8",
   "metadata": {},
   "outputs": [],
   "source": [
    "#if with tuple"
   ]
  },
  {
   "cell_type": "code",
   "execution_count": 122,
   "id": "4825a480",
   "metadata": {},
   "outputs": [
    {
     "name": "stdout",
     "output_type": "stream",
     "text": [
      "ok\n"
     ]
    }
   ],
   "source": [
    "tup1=('a','b','c')[]\n",
    "if 'a' in tup1:\n",
    "    print('ok')"
   ]
  },
  {
   "cell_type": "code",
   "execution_count": 123,
   "id": "a6c5829c",
   "metadata": {},
   "outputs": [
    {
     "name": "stdout",
     "output_type": "stream",
     "text": [
      "nope\n"
     ]
    }
   ],
   "source": [
    "tup1=('a','b','c')\n",
    "if 'f' in tup1:\n",
    "    print('ok')\n",
    "else:\n",
    "    print('nope')"
   ]
  },
  {
   "cell_type": "code",
   "execution_count": null,
   "id": "33f062f7",
   "metadata": {},
   "outputs": [],
   "source": [
    "#if with list"
   ]
  },
  {
   "cell_type": "code",
   "execution_count": 124,
   "id": "79770120",
   "metadata": {},
   "outputs": [
    {
     "data": {
      "text/plain": [
       "['a', 'z', 'c']"
      ]
     },
     "execution_count": 124,
     "metadata": {},
     "output_type": "execute_result"
    }
   ],
   "source": [
    "l1=['a','b','c']\n",
    "if l1[1]=='b':\n",
    "    l1[1]='z'\n",
    "l1"
   ]
  },
  {
   "cell_type": "code",
   "execution_count": null,
   "id": "16d4a831",
   "metadata": {},
   "outputs": [],
   "source": [
    "#if with dictionary"
   ]
  },
  {
   "cell_type": "code",
   "execution_count": 127,
   "id": "d8a8a16a",
   "metadata": {},
   "outputs": [
    {
     "data": {
      "text/plain": [
       "{'k1': 1, 'k2': 2, 'k3': 3}"
      ]
     },
     "execution_count": 127,
     "metadata": {},
     "output_type": "execute_result"
    }
   ],
   "source": [
    "d1={'k1':1,'k2':2,'k3':3}\n",
    "d1"
   ]
  },
  {
   "cell_type": "code",
   "execution_count": 131,
   "id": "eab33cb1",
   "metadata": {},
   "outputs": [
    {
     "data": {
      "text/plain": [
       "{'k1': 1, 'k2': 2, 'k3': 103}"
      ]
     },
     "execution_count": 131,
     "metadata": {},
     "output_type": "execute_result"
    }
   ],
   "source": [
    "if d1['k3']==3:\n",
    "    d1['k3']+=100\n",
    "d1"
   ]
  },
  {
   "cell_type": "code",
   "execution_count": null,
   "id": "2c5315d0",
   "metadata": {},
   "outputs": [],
   "source": [
    "#looping statement"
   ]
  },
  {
   "cell_type": "code",
   "execution_count": null,
   "id": "cc67d3a9",
   "metadata": {},
   "outputs": [],
   "source": [
    "#while loop"
   ]
  },
  {
   "cell_type": "code",
   "execution_count": 132,
   "id": "1d7cc362",
   "metadata": {},
   "outputs": [
    {
     "name": "stdout",
     "output_type": "stream",
     "text": [
      "1\n",
      "2\n",
      "3\n",
      "4\n",
      "5\n",
      "6\n",
      "7\n",
      "8\n",
      "9\n",
      "10\n"
     ]
    }
   ],
   "source": [
    "i=1\n",
    "while i<=10:\n",
    "    print(i)\n",
    "    i+=1"
   ]
  },
  {
   "cell_type": "code",
   "execution_count": 1,
   "id": "21ef62a5",
   "metadata": {},
   "outputs": [
    {
     "data": {
      "text/plain": [
       "3"
      ]
     },
     "execution_count": 1,
     "metadata": {},
     "output_type": "execute_result"
    }
   ],
   "source": [
    "a=1\n",
    "b=2\n",
    "a+b"
   ]
  },
  {
   "cell_type": "code",
   "execution_count": null,
   "id": "e0451d9c",
   "metadata": {},
   "outputs": [],
   "source": []
  },
  {
   "cell_type": "code",
   "execution_count": null,
   "id": "068453c3",
   "metadata": {},
   "outputs": [],
   "source": []
  }
 ],
 "metadata": {
  "kernelspec": {
   "display_name": "Python 3 (ipykernel)",
   "language": "python",
   "name": "python3"
  },
  "language_info": {
   "codemirror_mode": {
    "name": "ipython",
    "version": 3
   },
   "file_extension": ".py",
   "mimetype": "text/x-python",
   "name": "python",
   "nbconvert_exporter": "python",
   "pygments_lexer": "ipython3",
   "version": "3.9.7"
  }
 },
 "nbformat": 4,
 "nbformat_minor": 5
}
